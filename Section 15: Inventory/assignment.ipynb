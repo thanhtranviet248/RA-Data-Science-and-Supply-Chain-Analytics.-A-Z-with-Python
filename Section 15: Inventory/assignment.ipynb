{
 "cells": [
  {
   "cell_type": "code",
   "execution_count": 1,
   "id": "83dcb2e9-4d4e-4828-8c52-7a9d72b478e7",
   "metadata": {},
   "outputs": [],
   "source": [
    "import math\n",
    "import inventorize3 as inv"
   ]
  },
  {
   "cell_type": "code",
   "execution_count": 2,
   "id": "1503788e-3414-408b-8baf-873974943fbe",
   "metadata": {},
   "outputs": [],
   "source": [
    "d = 6000\n",
    "c = 1500\n",
    "h = 0.1\n",
    "s = 4000"
   ]
  },
  {
   "cell_type": "code",
   "execution_count": 3,
   "id": "34016578-3c5d-4291-9078-e2f13426e448",
   "metadata": {},
   "outputs": [
    {
     "data": {
      "text/plain": [
       "{'EOQ': 565.685424949238,\n",
       " 'T_years': 0.09428090415820634,\n",
       " 'T_weeks': 4.90260701622673}"
      ]
     },
     "execution_count": 3,
     "metadata": {},
     "output_type": "execute_result"
    }
   ],
   "source": [
    "Q = inv.eoq(d, s, c, h)\n",
    "Q"
   ]
  },
  {
   "cell_type": "code",
   "execution_count": 4,
   "id": "7cff24d7-12fc-475f-880d-98354a699a9e",
   "metadata": {},
   "outputs": [
    {
     "data": {
      "text/plain": [
       "9084852.813742386"
      ]
     },
     "execution_count": 4,
     "metadata": {},
     "output_type": "execute_result"
    }
   ],
   "source": [
    "annual_ordering_cost = d*s/Q['EOQ']\n",
    "annual_holding_cost = Q['EOQ']*h*c/2\n",
    "purchase_cost = d*c\n",
    "total_cost = annual_ordering_cost + annual_holding_cost + purchase_cost\n",
    "total_cost"
   ]
  },
  {
   "cell_type": "code",
   "execution_count": 5,
   "id": "6be69811-ffa3-4c1b-87e4-c9bbeb4fb62c",
   "metadata": {},
   "outputs": [
    {
     "data": {
      "text/plain": [
       "{'Ts': 0.09428090415820634,\n",
       " 'Tstarweeks': 4.90260701622673,\n",
       " 'Qstar': 565.685424949238,\n",
       " 'Tpractical': 4,\n",
       " 'Tpracticalweeks': 4,\n",
       " 'Qpractical': 461.53846153846155}"
      ]
     },
     "execution_count": 5,
     "metadata": {},
     "output_type": "execute_result"
    }
   ],
   "source": [
    "Q_practical = inv.TQpractical(d, s, c, h)\n",
    "Q_practical"
   ]
  },
  {
   "cell_type": "code",
   "execution_count": 6,
   "id": "660e8973-adc9-48d5-a352-3bd4cce654a6",
   "metadata": {},
   "outputs": [
    {
     "data": {
      "text/plain": [
       "8181750.0"
      ]
     },
     "execution_count": 6,
     "metadata": {},
     "output_type": "execute_result"
    }
   ],
   "source": [
    "annual_ordering_cost = d*s/500\n",
    "annual_holding_cost = 500*h*c*0.9/2\n",
    "purchase_cost = d*c*0.9\n",
    "total_cost = annual_ordering_cost + annual_holding_cost + purchase_cost\n",
    "total_cost"
   ]
  },
  {
   "cell_type": "code",
   "execution_count": 7,
   "id": "a8de91ca-776d-441c-8ca3-bbf967f4708f",
   "metadata": {},
   "outputs": [
    {
     "data": {
      "text/plain": [
       "434.3145750507619"
      ]
     },
     "execution_count": 7,
     "metadata": {},
     "output_type": "execute_result"
    }
   ],
   "source": [
    "L = 2/12\n",
    "L_prime = L - math.ceil(L - Q['T_years'])*Q['T_years']\n",
    "rop = L_prime * d\n",
    "rop"
   ]
  }
 ],
 "metadata": {
  "kernelspec": {
   "display_name": "Python 3 (ipykernel)",
   "language": "python",
   "name": "python3"
  },
  "language_info": {
   "codemirror_mode": {
    "name": "ipython",
    "version": 3
   },
   "file_extension": ".py",
   "mimetype": "text/x-python",
   "name": "python",
   "nbconvert_exporter": "python",
   "pygments_lexer": "ipython3",
   "version": "3.11.7"
  }
 },
 "nbformat": 4,
 "nbformat_minor": 5
}
