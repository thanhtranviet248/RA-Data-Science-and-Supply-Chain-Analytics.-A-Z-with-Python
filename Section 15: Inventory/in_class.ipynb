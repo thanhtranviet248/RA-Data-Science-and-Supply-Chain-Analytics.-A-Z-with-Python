{
 "cells": [
  {
   "cell_type": "code",
   "execution_count": 2,
   "id": "438489b7-3d67-4ca2-9e5b-46714e311ad4",
   "metadata": {},
   "outputs": [],
   "source": [
    "import inventorize3 as inv\n",
    "import pandas as pd\n",
    "import math"
   ]
  },
  {
   "cell_type": "code",
   "execution_count": 3,
   "id": "73de0c6b-673e-4c58-b0a2-7ff65a83ef3b",
   "metadata": {},
   "outputs": [
    {
     "data": {
      "text/html": [
       "<div>\n",
       "<style scoped>\n",
       "    .dataframe tbody tr th:only-of-type {\n",
       "        vertical-align: middle;\n",
       "    }\n",
       "\n",
       "    .dataframe tbody tr th {\n",
       "        vertical-align: top;\n",
       "    }\n",
       "\n",
       "    .dataframe thead th {\n",
       "        text-align: right;\n",
       "    }\n",
       "</style>\n",
       "<table border=\"1\" class=\"dataframe\">\n",
       "  <thead>\n",
       "    <tr style=\"text-align: right;\">\n",
       "      <th></th>\n",
       "      <th>EOQ</th>\n",
       "      <th>T_years</th>\n",
       "      <th>T_weeks</th>\n",
       "    </tr>\n",
       "  </thead>\n",
       "  <tbody>\n",
       "    <tr>\n",
       "      <th>0</th>\n",
       "      <td>438.178046</td>\n",
       "      <td>0.109545</td>\n",
       "      <td>5.696315</td>\n",
       "    </tr>\n",
       "  </tbody>\n",
       "</table>\n",
       "</div>"
      ],
      "text/plain": [
       "          EOQ   T_years   T_weeks\n",
       "0  438.178046  0.109545  5.696315"
      ]
     },
     "execution_count": 3,
     "metadata": {},
     "output_type": "execute_result"
    }
   ],
   "source": [
    "d = 4000\n",
    "c = 2500\n",
    "s = 6000\n",
    "h = 0.1\n",
    "\n",
    "eoq = pd.DataFrame(inv.eoq(annualdemand = d, orderingcost = s, purchasecost = c, holdingrate = 0.1), index = [0])\n",
    "eoq"
   ]
  },
  {
   "cell_type": "code",
   "execution_count": 4,
   "id": "b55153a9-bdf9-4802-8297-d44deeb7d91a",
   "metadata": {},
   "outputs": [
    {
     "data": {
      "text/plain": [
       "10109544.511501033"
      ]
     },
     "execution_count": 4,
     "metadata": {},
     "output_type": "execute_result"
    }
   ],
   "source": [
    "TLC = d*s/eoq['EOQ'][0] + eoq['EOQ'][0]*h*c/2 + d*c\n",
    "TLC"
   ]
  },
  {
   "cell_type": "code",
   "execution_count": 5,
   "id": "7bdb3638-4fa8-4621-82ad-258547dddb9e",
   "metadata": {},
   "outputs": [
    {
     "data": {
      "text/plain": [
       "{'Ts': 0.10954451150103323,\n",
       " 'Tstarweeks': 5.6963145980537275,\n",
       " 'Qstar': 438.1780460041329,\n",
       " 'Tpractical': 4,\n",
       " 'Tpracticalweeks': 4,\n",
       " 'Qpractical': 307.69230769230774}"
      ]
     },
     "execution_count": 5,
     "metadata": {},
     "output_type": "execute_result"
    }
   ],
   "source": [
    "inv.TQpractical(annualdemand = d, orderingcost = s, purchasecost = c, holdingrate = 0.1)"
   ]
  },
  {
   "cell_type": "code",
   "execution_count": 6,
   "id": "17c5caea-ed1b-4df9-88bc-5e3c997fb63f",
   "metadata": {},
   "outputs": [
    {
     "data": {
      "text/plain": [
       "9104250.0"
      ]
     },
     "execution_count": 6,
     "metadata": {},
     "output_type": "execute_result"
    }
   ],
   "source": [
    "TLC1 = d*s/500 + 500*h*c*0.9/2 + d*c*0.9\n",
    "TLC1"
   ]
  },
  {
   "cell_type": "code",
   "execution_count": 7,
   "id": "a843f8d6-8a0d-46fe-addc-2ca0c847ebcf",
   "metadata": {},
   "outputs": [
    {
     "data": {
      "text/html": [
       "<div>\n",
       "<style scoped>\n",
       "    .dataframe tbody tr th:only-of-type {\n",
       "        vertical-align: middle;\n",
       "    }\n",
       "\n",
       "    .dataframe tbody tr th {\n",
       "        vertical-align: top;\n",
       "    }\n",
       "\n",
       "    .dataframe thead th {\n",
       "        text-align: right;\n",
       "    }\n",
       "</style>\n",
       "<table border=\"1\" class=\"dataframe\">\n",
       "  <thead>\n",
       "    <tr style=\"text-align: right;\">\n",
       "      <th></th>\n",
       "      <th>EOQ</th>\n",
       "      <th>T_years</th>\n",
       "      <th>T_weeks</th>\n",
       "    </tr>\n",
       "  </thead>\n",
       "  <tbody>\n",
       "    <tr>\n",
       "      <th>0</th>\n",
       "      <td>438.178046</td>\n",
       "      <td>0.109545</td>\n",
       "      <td>5.696315</td>\n",
       "    </tr>\n",
       "  </tbody>\n",
       "</table>\n",
       "</div>"
      ],
      "text/plain": [
       "          EOQ   T_years   T_weeks\n",
       "0  438.178046  0.109545  5.696315"
      ]
     },
     "execution_count": 7,
     "metadata": {},
     "output_type": "execute_result"
    }
   ],
   "source": [
    "eoq"
   ]
  },
  {
   "cell_type": "code",
   "execution_count": 8,
   "id": "c57efd5b-f1ef-4cfe-9bb6-ec6c56d97165",
   "metadata": {},
   "outputs": [
    {
     "data": {
      "text/plain": [
       "0.10954451150103323"
      ]
     },
     "execution_count": 8,
     "metadata": {},
     "output_type": "execute_result"
    }
   ],
   "source": [
    "t = eoq['T_years'][0]\n",
    "t"
   ]
  },
  {
   "cell_type": "code",
   "execution_count": 9,
   "id": "c1c08f37-11ad-4687-85af-2112129d2442",
   "metadata": {},
   "outputs": [
    {
     "data": {
      "text/plain": [
       "0.16666666666666666"
      ]
     },
     "execution_count": 9,
     "metadata": {},
     "output_type": "execute_result"
    }
   ],
   "source": [
    "L = 2/12\n",
    "L"
   ]
  },
  {
   "cell_type": "code",
   "execution_count": 10,
   "id": "b5013503-7915-4e33-b299-1b09ad3dab40",
   "metadata": {},
   "outputs": [],
   "source": [
    "if (L <= t):\n",
    "    L_prime = L\n",
    "else:\n",
    "    L_prime = L - math.ceil(L - t)*t\n",
    "    \n",
    "rop = L_prime * d"
   ]
  },
  {
   "cell_type": "code",
   "execution_count": 11,
   "id": "7c3546b1-df67-4138-9662-c1ebb2e4ba1f",
   "metadata": {},
   "outputs": [
    {
     "data": {
      "text/plain": [
       "228.48862066253372"
      ]
     },
     "execution_count": 11,
     "metadata": {},
     "output_type": "execute_result"
    }
   ],
   "source": [
    "rop"
   ]
  }
 ],
 "metadata": {
  "kernelspec": {
   "display_name": "Python 3 (ipykernel)",
   "language": "python",
   "name": "python3"
  },
  "language_info": {
   "codemirror_mode": {
    "name": "ipython",
    "version": 3
   },
   "file_extension": ".py",
   "mimetype": "text/x-python",
   "name": "python",
   "nbconvert_exporter": "python",
   "pygments_lexer": "ipython3",
   "version": "3.11.7"
  }
 },
 "nbformat": 4,
 "nbformat_minor": 5
}
