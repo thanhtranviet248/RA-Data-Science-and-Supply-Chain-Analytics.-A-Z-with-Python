{
 "cells": [
  {
   "cell_type": "code",
   "execution_count": 1,
   "id": "3fe90d4d-9624-4d18-b3f2-29383c6e1e4d",
   "metadata": {},
   "outputs": [],
   "source": [
    "import numpy as np"
   ]
  },
  {
   "cell_type": "code",
   "execution_count": 2,
   "id": "b4f2d703-2faa-482b-9fef-75c071e6a08a",
   "metadata": {},
   "outputs": [],
   "source": [
    "rate = 1\n",
    "mean_service = 1\n",
    "sd = 0.2"
   ]
  },
  {
   "cell_type": "code",
   "execution_count": 3,
   "id": "9d4f8baf-3bcd-4c74-ba2d-80f9527378a7",
   "metadata": {},
   "outputs": [
    {
     "data": {
      "text/plain": [
       "array([ 0.54188782,  3.66091934,  4.47298497,  5.38184735,  6.14314219,\n",
       "        6.81329844,  8.38231454, 11.2338663 , 11.60631617, 12.56089911])"
      ]
     },
     "execution_count": 3,
     "metadata": {},
     "output_type": "execute_result"
    }
   ],
   "source": [
    "arrival_time = np.random.exponential(scale = 1/rate, size = 400).cumsum()\n",
    "arrival_time[:10]"
   ]
  },
  {
   "cell_type": "code",
   "execution_count": 4,
   "id": "c596d49c-46c9-4ec3-b71f-430c14136dec",
   "metadata": {},
   "outputs": [
    {
     "data": {
      "text/plain": [
       "array([1.1523005 , 1.0689979 , 1.06737613, 1.35252929, 0.78409678,\n",
       "       0.8526431 , 0.73219846, 0.82695752, 0.777453  , 1.15054756])"
      ]
     },
     "execution_count": 4,
     "metadata": {},
     "output_type": "execute_result"
    }
   ],
   "source": [
    "service_time = np.random.normal(loc = mean_service, scale = sd, size = 400)\n",
    "service_time[:10]"
   ]
  },
  {
   "cell_type": "code",
   "execution_count": 5,
   "id": "9b5d4fbc-a8bc-4d26-bc37-09cd9a7f0541",
   "metadata": {},
   "outputs": [],
   "source": [
    "def waiting_mean(arrival_time, service_time):\n",
    "    waiting_time = []\n",
    "    leaving_time = []\n",
    "\n",
    "    waiting_time.append(0)\n",
    "    leaving_time.append(arrival_time[0] + service_time[0] + waiting_time[0])\n",
    "\n",
    "    for i in range(1, len(arrival_time)):\n",
    "        waiting_time.append(max(0, leaving_time[i-1] - arrival_time[i]))\n",
    "        leaving_time.append(arrival_time[i] + service_time[i] + waiting_time[i])\n",
    "\n",
    "    mean_waiting = np.mean(waiting_time)\n",
    "    return mean_waiting"
   ]
  },
  {
   "cell_type": "code",
   "execution_count": 6,
   "id": "e851ec09-6117-4a9c-80b2-a96e615ad431",
   "metadata": {},
   "outputs": [
    {
     "data": {
      "text/plain": [
       "4.372815400765529"
      ]
     },
     "execution_count": 6,
     "metadata": {},
     "output_type": "execute_result"
    }
   ],
   "source": [
    "waiting_mean(arrival_time, service_time)"
   ]
  },
  {
   "cell_type": "code",
   "execution_count": 7,
   "id": "22a490ff-1dee-4e5a-aa58-baaca921cc5a",
   "metadata": {},
   "outputs": [
    {
     "data": {
      "text/plain": [
       "(array([255., 285., 202., 115.,  70.,  34.,  26.,   8.,   4.,   1.]),\n",
       " array([ 2.24053183,  5.62178594,  9.00304004, 12.38429415, 15.76554826,\n",
       "        19.14680236, 22.52805647, 25.90931058, 29.29056468, 32.67181879,\n",
       "        36.05307289]),\n",
       " <BarContainer object of 10 artists>)"
      ]
     },
     "execution_count": 7,
     "metadata": {},
     "output_type": "execute_result"
    },
    {
     "data": {
      "image/png": "[encoded data removed]",
      "text/plain": [
       "<Figure size 640x480 with 1 Axes>"
      ]
     },
     "metadata": {},
     "output_type": "display_data"
    }
   ],
   "source": [
    "average_sim = []\n",
    "for i in range(1000):\n",
    "    arrival_time = np.random.exponential(scale = 1/rate, size = 400).cumsum()\n",
    "    service_time = np.random.normal(loc = mean_service, scale = sd, size = 400)\n",
    "    waiting_time = waiting_mean(arrival_time, service_time)\n",
    "    average_sim.append(waiting_time)\n",
    "\n",
    "import matplotlib.pyplot as plt\n",
    "plt.hist(average_sim)"
   ]
  },
  {
   "cell_type": "code",
   "execution_count": 8,
   "id": "abd78c6d-8de5-4bc0-bda3-af2ec8ad5653",
   "metadata": {},
   "outputs": [
    {
     "data": {
      "text/plain": [
       "9.8873972713748"
      ]
     },
     "execution_count": 8,
     "metadata": {},
     "output_type": "execute_result"
    }
   ],
   "source": [
    "np.mean(average_sim)"
   ]
  },
  {
   "cell_type": "code",
   "execution_count": 9,
   "id": "0199ee77-40f0-4ad2-97e2-77ed34e63323",
   "metadata": {},
   "outputs": [
    {
     "data": {
      "text/plain": [
       "8.505598998311342"
      ]
     },
     "execution_count": 9,
     "metadata": {},
     "output_type": "execute_result"
    }
   ],
   "source": [
    "np.median(average_sim)"
   ]
  }
 ],
 "metadata": {
  "kernelspec": {
   "display_name": "Python 3 (ipykernel)",
   "language": "python",
   "name": "python3"
  },
  "language_info": {
   "codemirror_mode": {
    "name": "ipython",
    "version": 3
   },
   "file_extension": ".py",
   "mimetype": "text/x-python",
   "name": "python",
   "nbconvert_exporter": "python",
   "pygments_lexer": "ipython3",
   "version": "3.11.7"
  }
 },
 "nbformat": 4,
 "nbformat_minor": 5
}
