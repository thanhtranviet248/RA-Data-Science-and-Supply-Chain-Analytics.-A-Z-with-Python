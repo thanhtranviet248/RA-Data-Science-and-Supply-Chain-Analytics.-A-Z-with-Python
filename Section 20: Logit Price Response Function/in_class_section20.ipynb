{
 "cells": [
  {
   "cell_type": "code",
   "execution_count": 1,
   "id": "b1235d64-e458-48f0-8ba3-b91a4ce88139",
   "metadata": {},
   "outputs": [],
   "source": [
    "import pandas as pd\n",
    "import numpy as np\n",
    "from sklearn.linear_model import LinearRegression, LogisticRegression\n",
    "import matplotlib.pyplot as plt"
   ]
  },
  {
   "cell_type": "code",
   "execution_count": 2,
   "id": "91bbc2bb-f6df-4b32-b195-fb40738317c0",
   "metadata": {},
   "outputs": [
    {
     "data": {
      "text/html": [
       "<div>\n",
       "<style scoped>\n",
       "    .dataframe tbody tr th:only-of-type {\n",
       "        vertical-align: middle;\n",
       "    }\n",
       "\n",
       "    .dataframe tbody tr th {\n",
       "        vertical-align: top;\n",
       "    }\n",
       "\n",
       "    .dataframe thead th {\n",
       "        text-align: right;\n",
       "    }\n",
       "</style>\n",
       "<table border=\"1\" class=\"dataframe\">\n",
       "  <thead>\n",
       "    <tr style=\"text-align: right;\">\n",
       "      <th></th>\n",
       "      <th>price</th>\n",
       "      <th>demand</th>\n",
       "      <th>high_demand</th>\n",
       "    </tr>\n",
       "  </thead>\n",
       "  <tbody>\n",
       "    <tr>\n",
       "      <th>0</th>\n",
       "      <td>5</td>\n",
       "      <td>600</td>\n",
       "      <td>1</td>\n",
       "    </tr>\n",
       "    <tr>\n",
       "      <th>1</th>\n",
       "      <td>10</td>\n",
       "      <td>550</td>\n",
       "      <td>0</td>\n",
       "    </tr>\n",
       "    <tr>\n",
       "      <th>2</th>\n",
       "      <td>15</td>\n",
       "      <td>700</td>\n",
       "      <td>1</td>\n",
       "    </tr>\n",
       "    <tr>\n",
       "      <th>3</th>\n",
       "      <td>17</td>\n",
       "      <td>680</td>\n",
       "      <td>1</td>\n",
       "    </tr>\n",
       "    <tr>\n",
       "      <th>4</th>\n",
       "      <td>20</td>\n",
       "      <td>500</td>\n",
       "      <td>0</td>\n",
       "    </tr>\n",
       "    <tr>\n",
       "      <th>5</th>\n",
       "      <td>23</td>\n",
       "      <td>400</td>\n",
       "      <td>0</td>\n",
       "    </tr>\n",
       "    <tr>\n",
       "      <th>6</th>\n",
       "      <td>25</td>\n",
       "      <td>250</td>\n",
       "      <td>0</td>\n",
       "    </tr>\n",
       "  </tbody>\n",
       "</table>\n",
       "</div>"
      ],
      "text/plain": [
       "   price  demand  high_demand\n",
       "0      5     600            1\n",
       "1     10     550            0\n",
       "2     15     700            1\n",
       "3     17     680            1\n",
       "4     20     500            0\n",
       "5     23     400            0\n",
       "6     25     250            0"
      ]
     },
     "execution_count": 2,
     "metadata": {},
     "output_type": "execute_result"
    }
   ],
   "source": [
    "price = [5, 10, 15, 17, 20, 23, 25]\n",
    "demand = [600, 550, 700, 680, 500, 400, 250]\n",
    "df = pd.DataFrame({'price': price, 'demand': demand})\n",
    "threshold = df['demand'].median()\n",
    "df['high_demand'] = (df['demand'] > threshold).astype(int)\n",
    "df"
   ]
  },
  {
   "cell_type": "code",
   "execution_count": 3,
   "id": "f2721b26-0514-46e5-9bcc-0f6842c1651b",
   "metadata": {},
   "outputs": [
    {
     "name": "stderr",
     "output_type": "stream",
     "text": [
      "C:\\Users\\thanh\\anaconda3\\Lib\\site-packages\\sklearn\\utils\\validation.py:1143: DataConversionWarning: A column-vector y was passed when a 1d array was expected. Please change the shape of y to (n_samples, ), for example using ravel().\n",
      "  y = column_or_1d(y, warn=True)\n"
     ]
    },
    {
     "data": {
      "text/html": [
       "<style>#sk-container-id-1 {color: black;background-color: white;}#sk-container-id-1 pre{padding: 0;}#sk-container-id-1 div.sk-toggleable {background-color: white;}#sk-container-id-1 label.sk-toggleable__label {cursor: pointer;display: block;width: 100%;margin-bottom: 0;padding: 0.3em;box-sizing: border-box;text-align: center;}#sk-container-id-1 label.sk-toggleable__label-arrow:before {content: \"▸\";float: left;margin-right: 0.25em;color: #696969;}#sk-container-id-1 label.sk-toggleable__label-arrow:hover:before {color: black;}#sk-container-id-1 div.sk-estimator:hover label.sk-toggleable__label-arrow:before {color: black;}#sk-container-id-1 div.sk-toggleable__content {max-height: 0;max-width: 0;overflow: hidden;text-align: left;background-color: #f0f8ff;}#sk-container-id-1 div.sk-toggleable__content pre {margin: 0.2em;color: black;border-radius: 0.25em;background-color: #f0f8ff;}#sk-container-id-1 input.sk-toggleable__control:checked~div.sk-toggleable__content {max-height: 200px;max-width: 100%;overflow: auto;}#sk-container-id-1 input.sk-toggleable__control:checked~label.sk-toggleable__label-arrow:before {content: \"▾\";}#sk-container-id-1 div.sk-estimator input.sk-toggleable__control:checked~label.sk-toggleable__label {background-color: #d4ebff;}#sk-container-id-1 div.sk-label input.sk-toggleable__control:checked~label.sk-toggleable__label {background-color: #d4ebff;}#sk-container-id-1 input.sk-hidden--visually {border: 0;clip: rect(1px 1px 1px 1px);clip: rect(1px, 1px, 1px, 1px);height: 1px;margin: -1px;overflow: hidden;padding: 0;position: absolute;width: 1px;}#sk-container-id-1 div.sk-estimator {font-family: monospace;background-color: #f0f8ff;border: 1px dotted black;border-radius: 0.25em;box-sizing: border-box;margin-bottom: 0.5em;}#sk-container-id-1 div.sk-estimator:hover {background-color: #d4ebff;}#sk-container-id-1 div.sk-parallel-item::after {content: \"\";width: 100%;border-bottom: 1px solid gray;flex-grow: 1;}#sk-container-id-1 div.sk-label:hover label.sk-toggleable__label {background-color: #d4ebff;}#sk-container-id-1 div.sk-serial::before {content: \"\";position: absolute;border-left: 1px solid gray;box-sizing: border-box;top: 0;bottom: 0;left: 50%;z-index: 0;}#sk-container-id-1 div.sk-serial {display: flex;flex-direction: column;align-items: center;background-color: white;padding-right: 0.2em;padding-left: 0.2em;position: relative;}#sk-container-id-1 div.sk-item {position: relative;z-index: 1;}#sk-container-id-1 div.sk-parallel {display: flex;align-items: stretch;justify-content: center;background-color: white;position: relative;}#sk-container-id-1 div.sk-item::before, #sk-container-id-1 div.sk-parallel-item::before {content: \"\";position: absolute;border-left: 1px solid gray;box-sizing: border-box;top: 0;bottom: 0;left: 50%;z-index: -1;}#sk-container-id-1 div.sk-parallel-item {display: flex;flex-direction: column;z-index: 1;position: relative;background-color: white;}#sk-container-id-1 div.sk-parallel-item:first-child::after {align-self: flex-end;width: 50%;}#sk-container-id-1 div.sk-parallel-item:last-child::after {align-self: flex-start;width: 50%;}#sk-container-id-1 div.sk-parallel-item:only-child::after {width: 0;}#sk-container-id-1 div.sk-dashed-wrapped {border: 1px dashed gray;margin: 0 0.4em 0.5em 0.4em;box-sizing: border-box;padding-bottom: 0.4em;background-color: white;}#sk-container-id-1 div.sk-label label {font-family: monospace;font-weight: bold;display: inline-block;line-height: 1.2em;}#sk-container-id-1 div.sk-label-container {text-align: center;}#sk-container-id-1 div.sk-container {/* jupyter's `normalize.less` sets `[hidden] { display: none; }` but bootstrap.min.css set `[hidden] { display: none !important; }` so we also need the `!important` here to be able to override the default hidden behavior on the sphinx rendered scikit-learn.org. See: https://github.com/scikit-learn/scikit-learn/issues/21755 */display: inline-block !important;position: relative;}#sk-container-id-1 div.sk-text-repr-fallback {display: none;}</style><div id=\"sk-container-id-1\" class=\"sk-top-container\"><div class=\"sk-text-repr-fallback\"><pre>LogisticRegression()</pre><b>In a Jupyter environment, please rerun this cell to show the HTML representation or trust the notebook. <br />On GitHub, the HTML representation is unable to render, please try loading this page with nbviewer.org.</b></div><div class=\"sk-container\" hidden><div class=\"sk-item\"><div class=\"sk-estimator sk-toggleable\"><input class=\"sk-toggleable__control sk-hidden--visually\" id=\"sk-estimator-id-1\" type=\"checkbox\" checked><label for=\"sk-estimator-id-1\" class=\"sk-toggleable__label sk-toggleable__label-arrow\">LogisticRegression</label><div class=\"sk-toggleable__content\"><pre>LogisticRegression()</pre></div></div></div></div></div>"
      ],
      "text/plain": [
       "LogisticRegression()"
      ]
     },
     "execution_count": 3,
     "metadata": {},
     "output_type": "execute_result"
    }
   ],
   "source": [
    "model_1 = LinearRegression()\n",
    "X = df[['price']]\n",
    "y_1 = df[['demand']]\n",
    "model_1.fit(X, y_1)\n",
    "\n",
    "model_2 = LogisticRegression()\n",
    "y_2 = df[['high_demand']]\n",
    "model_2.fit(X, y_2)"
   ]
  },
  {
   "cell_type": "code",
   "execution_count": 4,
   "id": "06ab9ef0-2589-47c4-a79f-8a4b6f0fb410",
   "metadata": {},
   "outputs": [
    {
     "name": "stdout",
     "output_type": "stream",
     "text": [
      "[-14.64252117]\n",
      "766.2699905926621\n",
      "[-0.19837696]\n",
      "2.917413911387454\n"
     ]
    }
   ],
   "source": [
    "print(model_1.coef_[0])\n",
    "print(model_1.intercept_[0])\n",
    "\n",
    "\n",
    "print(model_2.coef_[0])\n",
    "print(model_2.intercept_[0])"
   ]
  },
  {
   "cell_type": "code",
   "execution_count": 5,
   "id": "5dac1d35-f99c-43dc-ab7b-65d48794649d",
   "metadata": {},
   "outputs": [],
   "source": [
    "#### Linear_regression: Demand = -14.64 * Price + 766.26\n",
    "#### Logistic_regression: P(high_demand) = 1/ (1 + exp(-(0.94 * Price - 17.72))"
   ]
  },
  {
   "cell_type": "code",
   "execution_count": 6,
   "id": "681a65c5-3dd8-45ab-922f-68844d858218",
   "metadata": {},
   "outputs": [],
   "source": [
    "current_price = 20\n",
    "cost = 4"
   ]
  },
  {
   "cell_type": "code",
   "execution_count": 7,
   "id": "8978143c-e284-4d8d-97c4-32dfd32146de",
   "metadata": {},
   "outputs": [],
   "source": [
    "simulation_data = pd.DataFrame({'price': np.linspace(1, 100, 100)})\n",
    "simulation_data['demand_linreg'] = model_1.coef_[0] * simulation_data['price'] + model_1.intercept_[0]\n",
    "simulation_data['profit_linreg'] = simulation_data['demand_linreg'] * (simulation_data['price'] - 4)\n",
    "simulation_data['demand_prob_logreg'] = 1 / (1 + np.exp(-(model_2.coef_[0] * simulation_data['price'] + model_2.intercept_[0])))\n",
    "simulation_data['profit_logreg'] = simulation_data['demand_prob_logreg'] * (simulation_data['price'] - 4)"
   ]
  },
  {
   "cell_type": "code",
   "execution_count": 8,
   "id": "748113c6-9b91-4fa8-87e2-a6eba4648554",
   "metadata": {},
   "outputs": [
    {
     "data": {
      "text/html": [
       "<div>\n",
       "<style scoped>\n",
       "    .dataframe tbody tr th:only-of-type {\n",
       "        vertical-align: middle;\n",
       "    }\n",
       "\n",
       "    .dataframe tbody tr th {\n",
       "        vertical-align: top;\n",
       "    }\n",
       "\n",
       "    .dataframe thead th {\n",
       "        text-align: right;\n",
       "    }\n",
       "</style>\n",
       "<table border=\"1\" class=\"dataframe\">\n",
       "  <thead>\n",
       "    <tr style=\"text-align: right;\">\n",
       "      <th></th>\n",
       "      <th>price</th>\n",
       "      <th>demand_linreg</th>\n",
       "      <th>profit_linreg</th>\n",
       "      <th>demand_prob_logreg</th>\n",
       "      <th>profit_logreg</th>\n",
       "    </tr>\n",
       "  </thead>\n",
       "  <tbody>\n",
       "    <tr>\n",
       "      <th>0</th>\n",
       "      <td>1.0</td>\n",
       "      <td>751.627469</td>\n",
       "      <td>-2254.882408</td>\n",
       "      <td>9.381407e-01</td>\n",
       "      <td>-2.814422</td>\n",
       "    </tr>\n",
       "    <tr>\n",
       "      <th>1</th>\n",
       "      <td>2.0</td>\n",
       "      <td>736.984948</td>\n",
       "      <td>-1473.969897</td>\n",
       "      <td>9.255775e-01</td>\n",
       "      <td>-1.851155</td>\n",
       "    </tr>\n",
       "    <tr>\n",
       "      <th>2</th>\n",
       "      <td>3.0</td>\n",
       "      <td>722.342427</td>\n",
       "      <td>-722.342427</td>\n",
       "      <td>9.107058e-01</td>\n",
       "      <td>-0.910706</td>\n",
       "    </tr>\n",
       "    <tr>\n",
       "      <th>3</th>\n",
       "      <td>4.0</td>\n",
       "      <td>707.699906</td>\n",
       "      <td>0.000000</td>\n",
       "      <td>8.932051e-01</td>\n",
       "      <td>0.000000</td>\n",
       "    </tr>\n",
       "    <tr>\n",
       "      <th>4</th>\n",
       "      <td>5.0</td>\n",
       "      <td>693.057385</td>\n",
       "      <td>693.057385</td>\n",
       "      <td>8.727537e-01</td>\n",
       "      <td>0.872754</td>\n",
       "    </tr>\n",
       "    <tr>\n",
       "      <th>...</th>\n",
       "      <td>...</td>\n",
       "      <td>...</td>\n",
       "      <td>...</td>\n",
       "      <td>...</td>\n",
       "      <td>...</td>\n",
       "    </tr>\n",
       "    <tr>\n",
       "      <th>95</th>\n",
       "      <td>96.0</td>\n",
       "      <td>-639.412041</td>\n",
       "      <td>-58825.907808</td>\n",
       "      <td>9.913586e-08</td>\n",
       "      <td>0.000009</td>\n",
       "    </tr>\n",
       "    <tr>\n",
       "      <th>96</th>\n",
       "      <td>97.0</td>\n",
       "      <td>-654.054563</td>\n",
       "      <td>-60827.074318</td>\n",
       "      <td>8.129742e-08</td>\n",
       "      <td>0.000008</td>\n",
       "    </tr>\n",
       "    <tr>\n",
       "      <th>97</th>\n",
       "      <td>98.0</td>\n",
       "      <td>-668.697084</td>\n",
       "      <td>-62857.525870</td>\n",
       "      <td>6.666882e-08</td>\n",
       "      <td>0.000006</td>\n",
       "    </tr>\n",
       "    <tr>\n",
       "      <th>98</th>\n",
       "      <td>99.0</td>\n",
       "      <td>-683.339605</td>\n",
       "      <td>-64917.262465</td>\n",
       "      <td>5.467247e-08</td>\n",
       "      <td>0.000005</td>\n",
       "    </tr>\n",
       "    <tr>\n",
       "      <th>99</th>\n",
       "      <td>100.0</td>\n",
       "      <td>-697.982126</td>\n",
       "      <td>-67006.284102</td>\n",
       "      <td>4.483475e-08</td>\n",
       "      <td>0.000004</td>\n",
       "    </tr>\n",
       "  </tbody>\n",
       "</table>\n",
       "<p>100 rows × 5 columns</p>\n",
       "</div>"
      ],
      "text/plain": [
       "    price  demand_linreg  profit_linreg  demand_prob_logreg  profit_logreg\n",
       "0     1.0     751.627469   -2254.882408        9.381407e-01      -2.814422\n",
       "1     2.0     736.984948   -1473.969897        9.255775e-01      -1.851155\n",
       "2     3.0     722.342427    -722.342427        9.107058e-01      -0.910706\n",
       "3     4.0     707.699906       0.000000        8.932051e-01       0.000000\n",
       "4     5.0     693.057385     693.057385        8.727537e-01       0.872754\n",
       "..    ...            ...            ...                 ...            ...\n",
       "95   96.0    -639.412041  -58825.907808        9.913586e-08       0.000009\n",
       "96   97.0    -654.054563  -60827.074318        8.129742e-08       0.000008\n",
       "97   98.0    -668.697084  -62857.525870        6.666882e-08       0.000006\n",
       "98   99.0    -683.339605  -64917.262465        5.467247e-08       0.000005\n",
       "99  100.0    -697.982126  -67006.284102        4.483475e-08       0.000004\n",
       "\n",
       "[100 rows x 5 columns]"
      ]
     },
     "execution_count": 8,
     "metadata": {},
     "output_type": "execute_result"
    }
   ],
   "source": [
    "simulation_data"
   ]
  },
  {
   "cell_type": "code",
   "execution_count": 9,
   "id": "42bec0c8-9da0-4bca-bf3f-3983ca8bf4c6",
   "metadata": {},
   "outputs": [
    {
     "data": {
      "image/png": "[encoded data removed]",
      "text/plain": [
       "<Figure size 640x480 with 2 Axes>"
      ]
     },
     "metadata": {},
     "output_type": "display_data"
    }
   ],
   "source": [
    "plt.subplot(2, 1, 1)\n",
    "plt.plot(simulation_data['profit_linreg'])\n",
    "\n",
    "plt.subplot(2, 1, 2)\n",
    "plt.plot(simulation_data['profit_logreg'])\n",
    "\n",
    "plt.show()"
   ]
  },
  {
   "cell_type": "code",
   "execution_count": 10,
   "id": "8e45ee29-cfc8-4375-acea-6f52ce2bf0c3",
   "metadata": {},
   "outputs": [
    {
     "name": "stdout",
     "output_type": "stream",
     "text": [
      "    price  demand_linreg  profit_linreg  demand_prob_logreg  profit_logreg\n",
      "27   28.0     356.279398     8550.70555            0.066786       1.602864\n"
     ]
    }
   ],
   "source": [
    "print(simulation_data[simulation_data['profit_linreg'] == simulation_data['profit_linreg'].max()])"
   ]
  },
  {
   "cell_type": "code",
   "execution_count": 11,
   "id": "c4fcb071-41f1-4855-9c68-5acc890abe62",
   "metadata": {},
   "outputs": [
    {
     "name": "stdout",
     "output_type": "stream",
     "text": [
      "    price  demand_linreg  profit_linreg  demand_prob_logreg  profit_logreg\n",
      "13   14.0     561.274694    5612.746943            0.534977       5.349769\n"
     ]
    }
   ],
   "source": [
    "print(simulation_data[simulation_data['profit_logreg'] == simulation_data['profit_logreg'].max()])"
   ]
  }
 ],
 "metadata": {
  "kernelspec": {
   "display_name": "Python 3 (ipykernel)",
   "language": "python",
   "name": "python3"
  },
  "language_info": {
   "codemirror_mode": {
    "name": "ipython",
    "version": 3
   },
   "file_extension": ".py",
   "mimetype": "text/x-python",
   "name": "python",
   "nbconvert_exporter": "python",
   "pygments_lexer": "ipython3",
   "version": "3.11.7"
  }
 },
 "nbformat": 4,
 "nbformat_minor": 5
}
