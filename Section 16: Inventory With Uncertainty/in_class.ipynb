{
 "cells": [
  {
   "cell_type": "code",
   "execution_count": 2,
   "id": "efd2f808-516e-4a3f-ba9a-05be697dc165",
   "metadata": {},
   "outputs": [],
   "source": [
    "# Import library\n",
    "\n",
    "import pandas as pd\n",
    "import inventorize3 as inv"
   ]
  },
  {
   "cell_type": "code",
   "execution_count": 3,
   "id": "37913de9-2808-411c-8f3e-92c4be18fa89",
   "metadata": {},
   "outputs": [],
   "source": [
    "# Import data\n",
    "\n",
    "retail = pd.read_csv(\"online_retail2.csv\")\n",
    "retail = retail.drop_duplicates().dropna(axis = 0)"
   ]
  },
  {
   "cell_type": "code",
   "execution_count": 4,
   "id": "bc5ce195-4764-4e5b-88b0-d0069361cd0a",
   "metadata": {},
   "outputs": [
    {
     "name": "stdout",
     "output_type": "stream",
     "text": [
      "<class 'pandas.core.frame.DataFrame'>\n",
      "Index: 797885 entries, 0 to 1067370\n",
      "Data columns (total 8 columns):\n",
      " #   Column       Non-Null Count   Dtype  \n",
      "---  ------       --------------   -----  \n",
      " 0   Invoice      797885 non-null  object \n",
      " 1   StockCode    797885 non-null  object \n",
      " 2   Description  797885 non-null  object \n",
      " 3   Quantity     797885 non-null  int64  \n",
      " 4   InvoiceDate  797885 non-null  object \n",
      " 5   Price        797885 non-null  float64\n",
      " 6   Customer ID  797885 non-null  float64\n",
      " 7   Country      797885 non-null  object \n",
      "dtypes: float64(2), int64(1), object(5)\n",
      "memory usage: 54.8+ MB\n"
     ]
    }
   ],
   "source": [
    "retail.info()"
   ]
  },
  {
   "cell_type": "code",
   "execution_count": 5,
   "id": "4b37b313-ae33-4d20-9723-738a602e7878",
   "metadata": {},
   "outputs": [],
   "source": [
    "retail['InvoiceDate'] = pd.to_datetime(retail['InvoiceDate'])\n",
    "retail['date'] = retail['InvoiceDate'].dt.strftime('%Y-%m-%d')\n",
    "retail['date'] = pd.to_datetime(retail['date'])"
   ]
  },
  {
   "cell_type": "code",
   "execution_count": 6,
   "id": "21689d82-f0dc-4a99-bce4-26e60033a44a",
   "metadata": {},
   "outputs": [
    {
     "data": {
      "text/plain": [
       "Timestamp('2011-12-09 00:00:00')"
      ]
     },
     "execution_count": 6,
     "metadata": {},
     "output_type": "execute_result"
    }
   ],
   "source": [
    "max_date = max(retail['date'])\n",
    "max_date"
   ]
  },
  {
   "cell_type": "code",
   "execution_count": 7,
   "id": "e766066f-4916-4244-be97-01a7d2146ad7",
   "metadata": {},
   "outputs": [
    {
     "data": {
      "text/html": [
       "<div>\n",
       "<style scoped>\n",
       "    .dataframe tbody tr th:only-of-type {\n",
       "        vertical-align: middle;\n",
       "    }\n",
       "\n",
       "    .dataframe tbody tr th {\n",
       "        vertical-align: top;\n",
       "    }\n",
       "\n",
       "    .dataframe thead th {\n",
       "        text-align: right;\n",
       "    }\n",
       "</style>\n",
       "<table border=\"1\" class=\"dataframe\">\n",
       "  <thead>\n",
       "    <tr style=\"text-align: right;\">\n",
       "      <th></th>\n",
       "      <th>Invoice</th>\n",
       "      <th>StockCode</th>\n",
       "      <th>Description</th>\n",
       "      <th>Quantity</th>\n",
       "      <th>InvoiceDate</th>\n",
       "      <th>Price</th>\n",
       "      <th>Customer ID</th>\n",
       "      <th>Country</th>\n",
       "      <th>date</th>\n",
       "    </tr>\n",
       "  </thead>\n",
       "  <tbody>\n",
       "    <tr>\n",
       "      <th>812082</th>\n",
       "      <td>562032</td>\n",
       "      <td>23308</td>\n",
       "      <td>SET OF 60 VINTAGE LEAF CAKE CASES</td>\n",
       "      <td>24</td>\n",
       "      <td>2011-08-02 08:48:00</td>\n",
       "      <td>0.55</td>\n",
       "      <td>12347.0</td>\n",
       "      <td>Iceland</td>\n",
       "      <td>2011-08-02</td>\n",
       "    </tr>\n",
       "    <tr>\n",
       "      <th>812083</th>\n",
       "      <td>562032</td>\n",
       "      <td>23297</td>\n",
       "      <td>SET 40 HEART SHAPE PETIT FOUR CASES</td>\n",
       "      <td>16</td>\n",
       "      <td>2011-08-02 08:48:00</td>\n",
       "      <td>1.65</td>\n",
       "      <td>12347.0</td>\n",
       "      <td>Iceland</td>\n",
       "      <td>2011-08-02</td>\n",
       "    </tr>\n",
       "    <tr>\n",
       "      <th>812084</th>\n",
       "      <td>562032</td>\n",
       "      <td>22375</td>\n",
       "      <td>AIRLINE BAG VINTAGE JET SET BROWN</td>\n",
       "      <td>4</td>\n",
       "      <td>2011-08-02 08:48:00</td>\n",
       "      <td>4.25</td>\n",
       "      <td>12347.0</td>\n",
       "      <td>Iceland</td>\n",
       "      <td>2011-08-02</td>\n",
       "    </tr>\n",
       "    <tr>\n",
       "      <th>812085</th>\n",
       "      <td>562032</td>\n",
       "      <td>22374</td>\n",
       "      <td>AIRLINE BAG VINTAGE JET SET RED</td>\n",
       "      <td>4</td>\n",
       "      <td>2011-08-02 08:48:00</td>\n",
       "      <td>4.25</td>\n",
       "      <td>12347.0</td>\n",
       "      <td>Iceland</td>\n",
       "      <td>2011-08-02</td>\n",
       "    </tr>\n",
       "    <tr>\n",
       "      <th>812086</th>\n",
       "      <td>562032</td>\n",
       "      <td>22376</td>\n",
       "      <td>AIRLINE BAG VINTAGE JET SET WHITE</td>\n",
       "      <td>4</td>\n",
       "      <td>2011-08-02 08:48:00</td>\n",
       "      <td>4.25</td>\n",
       "      <td>12347.0</td>\n",
       "      <td>Iceland</td>\n",
       "      <td>2011-08-02</td>\n",
       "    </tr>\n",
       "    <tr>\n",
       "      <th>...</th>\n",
       "      <td>...</td>\n",
       "      <td>...</td>\n",
       "      <td>...</td>\n",
       "      <td>...</td>\n",
       "      <td>...</td>\n",
       "      <td>...</td>\n",
       "      <td>...</td>\n",
       "      <td>...</td>\n",
       "      <td>...</td>\n",
       "    </tr>\n",
       "    <tr>\n",
       "      <th>1067366</th>\n",
       "      <td>581587</td>\n",
       "      <td>22899</td>\n",
       "      <td>CHILDREN'S APRON DOLLY GIRL</td>\n",
       "      <td>6</td>\n",
       "      <td>2011-12-09 12:50:00</td>\n",
       "      <td>2.10</td>\n",
       "      <td>12680.0</td>\n",
       "      <td>France</td>\n",
       "      <td>2011-12-09</td>\n",
       "    </tr>\n",
       "    <tr>\n",
       "      <th>1067367</th>\n",
       "      <td>581587</td>\n",
       "      <td>23254</td>\n",
       "      <td>CHILDRENS CUTLERY DOLLY GIRL</td>\n",
       "      <td>4</td>\n",
       "      <td>2011-12-09 12:50:00</td>\n",
       "      <td>4.15</td>\n",
       "      <td>12680.0</td>\n",
       "      <td>France</td>\n",
       "      <td>2011-12-09</td>\n",
       "    </tr>\n",
       "    <tr>\n",
       "      <th>1067368</th>\n",
       "      <td>581587</td>\n",
       "      <td>23255</td>\n",
       "      <td>CHILDRENS CUTLERY CIRCUS PARADE</td>\n",
       "      <td>4</td>\n",
       "      <td>2011-12-09 12:50:00</td>\n",
       "      <td>4.15</td>\n",
       "      <td>12680.0</td>\n",
       "      <td>France</td>\n",
       "      <td>2011-12-09</td>\n",
       "    </tr>\n",
       "    <tr>\n",
       "      <th>1067369</th>\n",
       "      <td>581587</td>\n",
       "      <td>22138</td>\n",
       "      <td>BAKING SET 9 PIECE RETROSPOT</td>\n",
       "      <td>3</td>\n",
       "      <td>2011-12-09 12:50:00</td>\n",
       "      <td>4.95</td>\n",
       "      <td>12680.0</td>\n",
       "      <td>France</td>\n",
       "      <td>2011-12-09</td>\n",
       "    </tr>\n",
       "    <tr>\n",
       "      <th>1067370</th>\n",
       "      <td>581587</td>\n",
       "      <td>POST</td>\n",
       "      <td>POSTAGE</td>\n",
       "      <td>1</td>\n",
       "      <td>2011-12-09 12:50:00</td>\n",
       "      <td>18.00</td>\n",
       "      <td>12680.0</td>\n",
       "      <td>France</td>\n",
       "      <td>2011-12-09</td>\n",
       "    </tr>\n",
       "  </tbody>\n",
       "</table>\n",
       "<p>198449 rows × 9 columns</p>\n",
       "</div>"
      ],
      "text/plain": [
       "        Invoice StockCode                          Description  Quantity  \\\n",
       "812082   562032     23308   SET OF 60 VINTAGE LEAF CAKE CASES         24   \n",
       "812083   562032     23297  SET 40 HEART SHAPE PETIT FOUR CASES        16   \n",
       "812084   562032     22375    AIRLINE BAG VINTAGE JET SET BROWN         4   \n",
       "812085   562032     22374      AIRLINE BAG VINTAGE JET SET RED         4   \n",
       "812086   562032     22376    AIRLINE BAG VINTAGE JET SET WHITE         4   \n",
       "...         ...       ...                                  ...       ...   \n",
       "1067366  581587     22899         CHILDREN'S APRON DOLLY GIRL          6   \n",
       "1067367  581587     23254        CHILDRENS CUTLERY DOLLY GIRL          4   \n",
       "1067368  581587     23255      CHILDRENS CUTLERY CIRCUS PARADE         4   \n",
       "1067369  581587     22138        BAKING SET 9 PIECE RETROSPOT          3   \n",
       "1067370  581587      POST                              POSTAGE         1   \n",
       "\n",
       "                InvoiceDate  Price  Customer ID  Country       date  \n",
       "812082  2011-08-02 08:48:00   0.55      12347.0  Iceland 2011-08-02  \n",
       "812083  2011-08-02 08:48:00   1.65      12347.0  Iceland 2011-08-02  \n",
       "812084  2011-08-02 08:48:00   4.25      12347.0  Iceland 2011-08-02  \n",
       "812085  2011-08-02 08:48:00   4.25      12347.0  Iceland 2011-08-02  \n",
       "812086  2011-08-02 08:48:00   4.25      12347.0  Iceland 2011-08-02  \n",
       "...                     ...    ...          ...      ...        ...  \n",
       "1067366 2011-12-09 12:50:00   2.10      12680.0   France 2011-12-09  \n",
       "1067367 2011-12-09 12:50:00   4.15      12680.0   France 2011-12-09  \n",
       "1067368 2011-12-09 12:50:00   4.15      12680.0   France 2011-12-09  \n",
       "1067369 2011-12-09 12:50:00   4.95      12680.0   France 2011-12-09  \n",
       "1067370 2011-12-09 12:50:00  18.00      12680.0   France 2011-12-09  \n",
       "\n",
       "[198449 rows x 9 columns]"
      ]
     },
     "execution_count": 7,
     "metadata": {},
     "output_type": "execute_result"
    }
   ],
   "source": [
    "# Filter last 4 months\n",
    "last_four_month = retail[retail['date'] > '2011-08-01']\n",
    "last_four_month"
   ]
  },
  {
   "cell_type": "code",
   "execution_count": 8,
   "id": "232bd144-b229-41e5-a100-06b5802b0258",
   "metadata": {},
   "outputs": [
    {
     "name": "stderr",
     "output_type": "stream",
     "text": [
      "C:\\Users\\thanh\\AppData\\Local\\Temp\\ipykernel_22588\\2225777786.py:1: SettingWithCopyWarning: \n",
      "A value is trying to be set on a copy of a slice from a DataFrame.\n",
      "Try using .loc[row_indexer,col_indexer] = value instead\n",
      "\n",
      "See the caveats in the documentation: https://pandas.pydata.org/pandas-docs/stable/user_guide/indexing.html#returning-a-view-versus-a-copy\n",
      "  last_four_month['revenue'] = last_four_month['Quantity'] * last_four_month['Price']\n"
     ]
    }
   ],
   "source": [
    "last_four_month['revenue'] = last_four_month['Quantity'] * last_four_month['Price']"
   ]
  },
  {
   "cell_type": "code",
   "execution_count": 9,
   "id": "3b534281-500f-4c21-b551-a8c2b0ee2751",
   "metadata": {},
   "outputs": [],
   "source": [
    "a = last_four_month.groupby(by = ['date', 'Description']).agg(total_daily = ('Quantity', 'sum'), total_revenue = ('revenue', 'sum')).reset_index()"
   ]
  },
  {
   "cell_type": "code",
   "execution_count": 10,
   "id": "e3b34b4d-b200-4dfc-ab9e-1d8134325df7",
   "metadata": {},
   "outputs": [],
   "source": [
    "grouped = a.groupby('Description').agg(average_sales = ('total_daily', 'mean'), \n",
    "                                       sd = ('total_daily', 'std'),\n",
    "                                       total_sales = ('total_daily', 'sum'), \n",
    "                                       total_revenue = ('total_revenue', 'sum')).reset_index()"
   ]
  },
  {
   "cell_type": "code",
   "execution_count": 11,
   "id": "227a3ce6-c5ac-4188-8359-9019d95403b1",
   "metadata": {},
   "outputs": [
    {
     "data": {
      "text/plain": [
       "product_mix\n",
       "C_C    1456\n",
       "A_A     501\n",
       "B_B     314\n",
       "B_C     238\n",
       "C_B     235\n",
       "A_B     226\n",
       "B_A     174\n",
       "A_C      42\n",
       "C_A      35\n",
       "Name: count, dtype: int64"
      ]
     },
     "execution_count": 11,
     "metadata": {},
     "output_type": "execute_result"
    }
   ],
   "source": [
    "abc_analysis = inv.productmix(skus = grouped['Description'],\n",
    "                              sales = grouped['total_sales'],\n",
    "                              revenue = grouped['total_revenue'])\n",
    "abc_analysis['product_mix'].value_counts()"
   ]
  },
  {
   "cell_type": "code",
   "execution_count": 12,
   "id": "ddeadeeb-3a42-43b0-96bc-1c1b60e8ef8e",
   "metadata": {},
   "outputs": [],
   "source": [
    "service_level_mapping = {'A_A':0.95, 'A_B':0.95, 'A_C':0.95,\n",
    "           'B_A':0.7, 'B_B':0.7, 'B_C':0.75,\n",
    "          'C_A':0.8, 'C_B':0.8, 'C_C':0.7}"
   ]
  },
  {
   "cell_type": "code",
   "execution_count": 13,
   "id": "6b9aa490-9bd7-4d4d-b7e3-497e60039cb2",
   "metadata": {},
   "outputs": [
    {
     "data": {
      "text/html": [
       "<div>\n",
       "<style scoped>\n",
       "    .dataframe tbody tr th:only-of-type {\n",
       "        vertical-align: middle;\n",
       "    }\n",
       "\n",
       "    .dataframe tbody tr th {\n",
       "        vertical-align: top;\n",
       "    }\n",
       "\n",
       "    .dataframe thead th {\n",
       "        text-align: right;\n",
       "    }\n",
       "</style>\n",
       "<table border=\"1\" class=\"dataframe\">\n",
       "  <thead>\n",
       "    <tr style=\"text-align: right;\">\n",
       "      <th></th>\n",
       "      <th>skus</th>\n",
       "      <th>sales</th>\n",
       "      <th>revenue</th>\n",
       "      <th>sales_mix</th>\n",
       "      <th>comulative_sales</th>\n",
       "      <th>revenue_mix</th>\n",
       "      <th>comulative_revenue</th>\n",
       "      <th>sales_category</th>\n",
       "      <th>revenue_category</th>\n",
       "      <th>product_mix</th>\n",
       "      <th>service_level</th>\n",
       "    </tr>\n",
       "  </thead>\n",
       "  <tbody>\n",
       "    <tr>\n",
       "      <th>2162</th>\n",
       "      <td>RABBIT NIGHT LIGHT</td>\n",
       "      <td>24112</td>\n",
       "      <td>45484.50</td>\n",
       "      <td>0.010261</td>\n",
       "      <td>0.022104</td>\n",
       "      <td>0.011468</td>\n",
       "      <td>0.011468</td>\n",
       "      <td>A</td>\n",
       "      <td>A</td>\n",
       "      <td>A_A</td>\n",
       "      <td>0.95</td>\n",
       "    </tr>\n",
       "    <tr>\n",
       "      <th>2263</th>\n",
       "      <td>REGENCY CAKESTAND 3 TIER</td>\n",
       "      <td>3482</td>\n",
       "      <td>40660.05</td>\n",
       "      <td>0.001482</td>\n",
       "      <td>0.330049</td>\n",
       "      <td>0.010251</td>\n",
       "      <td>0.021719</td>\n",
       "      <td>A</td>\n",
       "      <td>A</td>\n",
       "      <td>A_A</td>\n",
       "      <td>0.95</td>\n",
       "    </tr>\n",
       "    <tr>\n",
       "      <th>1432</th>\n",
       "      <td>JUMBO BAG RED RETROSPOT</td>\n",
       "      <td>20013</td>\n",
       "      <td>37823.09</td>\n",
       "      <td>0.008516</td>\n",
       "      <td>0.030621</td>\n",
       "      <td>0.009536</td>\n",
       "      <td>0.031255</td>\n",
       "      <td>A</td>\n",
       "      <td>A</td>\n",
       "      <td>A_A</td>\n",
       "      <td>0.95</td>\n",
       "    </tr>\n",
       "    <tr>\n",
       "      <th>1902</th>\n",
       "      <td>PAPER CHAIN KIT 50'S CHRISTMAS</td>\n",
       "      <td>12680</td>\n",
       "      <td>34788.68</td>\n",
       "      <td>0.005396</td>\n",
       "      <td>0.057622</td>\n",
       "      <td>0.008771</td>\n",
       "      <td>0.040026</td>\n",
       "      <td>A</td>\n",
       "      <td>A</td>\n",
       "      <td>A_A</td>\n",
       "      <td>0.95</td>\n",
       "    </tr>\n",
       "    <tr>\n",
       "      <th>3074</th>\n",
       "      <td>WHITE HANGING HEART T-LIGHT HOLDER</td>\n",
       "      <td>11634</td>\n",
       "      <td>32375.26</td>\n",
       "      <td>0.004951</td>\n",
       "      <td>0.072910</td>\n",
       "      <td>0.008162</td>\n",
       "      <td>0.048188</td>\n",
       "      <td>A</td>\n",
       "      <td>A</td>\n",
       "      <td>A_A</td>\n",
       "      <td>0.95</td>\n",
       "    </tr>\n",
       "  </tbody>\n",
       "</table>\n",
       "</div>"
      ],
      "text/plain": [
       "                                    skus  sales   revenue  sales_mix  \\\n",
       "2162                  RABBIT NIGHT LIGHT  24112  45484.50   0.010261   \n",
       "2263            REGENCY CAKESTAND 3 TIER   3482  40660.05   0.001482   \n",
       "1432             JUMBO BAG RED RETROSPOT  20013  37823.09   0.008516   \n",
       "1902     PAPER CHAIN KIT 50'S CHRISTMAS   12680  34788.68   0.005396   \n",
       "3074  WHITE HANGING HEART T-LIGHT HOLDER  11634  32375.26   0.004951   \n",
       "\n",
       "      comulative_sales  revenue_mix  comulative_revenue sales_category  \\\n",
       "2162          0.022104     0.011468            0.011468              A   \n",
       "2263          0.330049     0.010251            0.021719              A   \n",
       "1432          0.030621     0.009536            0.031255              A   \n",
       "1902          0.057622     0.008771            0.040026              A   \n",
       "3074          0.072910     0.008162            0.048188              A   \n",
       "\n",
       "     revenue_category product_mix  service_level  \n",
       "2162                A         A_A           0.95  \n",
       "2263                A         A_A           0.95  \n",
       "1432                A         A_A           0.95  \n",
       "1902                A         A_A           0.95  \n",
       "3074                A         A_A           0.95  "
      ]
     },
     "execution_count": 13,
     "metadata": {},
     "output_type": "execute_result"
    }
   ],
   "source": [
    "abc_analysis['service_level'] = abc_analysis['product_mix'].map(service_level_mapping)\n",
    "abc_analysis.head()"
   ]
  },
  {
   "cell_type": "code",
   "execution_count": 14,
   "id": "1f43412c-c3f0-442a-9b87-b892aac0b059",
   "metadata": {},
   "outputs": [
    {
     "data": {
      "text/plain": [
       "{'demandleadtime': 960,\n",
       " 'sigmadl': 34.64101615137754,\n",
       " 'safteyfactor': 0.6744897501960817,\n",
       " 'reorder_point': 983.365010330481}"
      ]
     },
     "execution_count": 14,
     "metadata": {},
     "output_type": "execute_result"
    }
   ],
   "source": [
    "inv.reorderpoint(dailydemand = 80, dailystandarddeviation = 10, csl = 0.75, leadtimein_days = 12)"
   ]
  },
  {
   "cell_type": "code",
   "execution_count": 15,
   "id": "30a05da9-b51c-490a-b9c7-1785f9ee1408",
   "metadata": {},
   "outputs": [],
   "source": [
    "abcd = abc_analysis[['skus', 'service_level']]"
   ]
  },
  {
   "cell_type": "code",
   "execution_count": 16,
   "id": "82aef893-4b30-4598-908f-e297f0f6e30f",
   "metadata": {},
   "outputs": [],
   "source": [
    "rop_calculation = pd.merge(left = grouped, right = abcd, how = 'inner', left_on = 'Description', right_on = 'skus')"
   ]
  },
  {
   "cell_type": "code",
   "execution_count": 17,
   "id": "16101ee6-f318-4d98-aab4-d8db0e9c1638",
   "metadata": {},
   "outputs": [],
   "source": [
    "empty_df = pd.DataFrame()\n",
    "for i in range(rop_calculation.shape[0]):\n",
    "    reorder_point = inv.reorderpoint(dailydemand = rop_calculation.loc[i, 'average_sales'], \n",
    "                                     dailystandarddeviation = rop_calculation.loc[i, 'sd'], \n",
    "                                     csl = rop_calculation.loc[i, 'service_level'], \n",
    "                                     leadtimein_days = 12)\n",
    "    as_data = pd.DataFrame(reorder_point, index = [0]) \n",
    "    as_data['Description'] = rop_calculation['Description'][i]\n",
    "    empty_df = pd.concat([empty_df, as_data], axis = 0)"
   ]
  },
  {
   "cell_type": "code",
   "execution_count": 18,
   "id": "b8b3ead5-7cc2-4871-9baf-ed63b829eb0d",
   "metadata": {},
   "outputs": [
    {
     "name": "stdout",
     "output_type": "stream",
     "text": [
      "<class 'pandas.core.frame.DataFrame'>\n",
      "RangeIndex: 3221 entries, 0 to 3220\n",
      "Data columns (total 11 columns):\n",
      " #   Column          Non-Null Count  Dtype  \n",
      "---  ------          --------------  -----  \n",
      " 0   Description     3221 non-null   object \n",
      " 1   average_sales   3221 non-null   float64\n",
      " 2   sd              3019 non-null   float64\n",
      " 3   total_sales     3221 non-null   int64  \n",
      " 4   total_revenue   3221 non-null   float64\n",
      " 5   skus            3221 non-null   object \n",
      " 6   service_level   3221 non-null   float64\n",
      " 7   demandleadtime  3221 non-null   float64\n",
      " 8   sigmadl         3019 non-null   float64\n",
      " 9   safteyfactor    3221 non-null   float64\n",
      " 10  reorder_point   3019 non-null   float64\n",
      "dtypes: float64(8), int64(1), object(2)\n",
      "memory usage: 276.9+ KB\n"
     ]
    }
   ],
   "source": [
    "merged = pd.merge(left = rop_calculation, right = empty_df, how = 'inner', on = 'Description')\n",
    "merged.info()"
   ]
  },
  {
   "cell_type": "code",
   "execution_count": 19,
   "id": "d7c85769-89a2-4e75-9707-1db22ef03318",
   "metadata": {},
   "outputs": [],
   "source": [
    "merged['safety_stock'] = merged['reorder_point'] - merged['demandleadtime']"
   ]
  },
  {
   "cell_type": "code",
   "execution_count": 20,
   "id": "b896eab3-9f16-42fc-b28d-1043f4dcb189",
   "metadata": {},
   "outputs": [],
   "source": [
    "import seaborn as sns"
   ]
  },
  {
   "cell_type": "code",
   "execution_count": 21,
   "id": "83656cd1-edb4-4c2e-9e90-e05665f5536b",
   "metadata": {},
   "outputs": [
    {
     "data": {
      "text/plain": [
       "<Axes: xlabel='sd', ylabel='safety_stock'>"
      ]
     },
     "execution_count": 21,
     "metadata": {},
     "output_type": "execute_result"
    },
    {
     "data": {
      "image/png": "[encoded data removed]",
      "text/plain": [
       "<Figure size 640x480 with 1 Axes>"
      ]
     },
     "metadata": {},
     "output_type": "display_data"
    }
   ],
   "source": [
    "merged = merged[merged['safety_stock'] != max(merged['safety_stock'])]\n",
    "sns.scatterplot(data = merged, x = 'sd', y = 'safety_stock', hue = 'service_level')"
   ]
  },
  {
   "cell_type": "code",
   "execution_count": 22,
   "id": "ae57458e-2ab1-4805-91fc-788665985b19",
   "metadata": {},
   "outputs": [],
   "source": [
    "empty_df_lt = pd.DataFrame()\n",
    "for i in range(rop_calculation.shape[0]):\n",
    "    reorder_point_lt = inv.reorderpoint_leadtime_variability(dailydemand = int(rop_calculation.loc[i, 'average_sales']), \n",
    "                                                             dailystandarddeviation = rop_calculation.loc[i, 'sd'], \n",
    "                                                             leadtimein_days = 12, \n",
    "                                                             sd_leadtime_days = 2, \n",
    "                                                             csl = rop_calculation.loc[i, 'service_level'])\n",
    "    as_data_lt = pd.DataFrame(reorder_point_lt, index = [0]) \n",
    "    as_data_lt['Description'] = rop_calculation['Description'][i]\n",
    "    empty_df_lt = pd.concat([empty_df_lt, as_data_lt], axis = 0)"
   ]
  },
  {
   "cell_type": "code",
   "execution_count": 23,
   "id": "3d8fa52e-cb08-473b-8207-dda1d917d832",
   "metadata": {},
   "outputs": [
    {
     "data": {
      "text/html": [
       "<div>\n",
       "<style scoped>\n",
       "    .dataframe tbody tr th:only-of-type {\n",
       "        vertical-align: middle;\n",
       "    }\n",
       "\n",
       "    .dataframe tbody tr th {\n",
       "        vertical-align: top;\n",
       "    }\n",
       "\n",
       "    .dataframe thead th {\n",
       "        text-align: right;\n",
       "    }\n",
       "</style>\n",
       "<table border=\"1\" class=\"dataframe\">\n",
       "  <thead>\n",
       "    <tr style=\"text-align: right;\">\n",
       "      <th></th>\n",
       "      <th>demandleadtime</th>\n",
       "      <th>sigmadl</th>\n",
       "      <th>safteyfactor</th>\n",
       "      <th>reorder_point</th>\n",
       "      <th>Description</th>\n",
       "    </tr>\n",
       "  </thead>\n",
       "  <tbody>\n",
       "    <tr>\n",
       "      <th>0</th>\n",
       "      <td>60</td>\n",
       "      <td>22.254982</td>\n",
       "      <td>0.524401</td>\n",
       "      <td>71.670524</td>\n",
       "      <td>4 PURPLE FLOCK DINNER CANDLES</td>\n",
       "    </tr>\n",
       "    <tr>\n",
       "      <th>0</th>\n",
       "      <td>372</td>\n",
       "      <td>197.212189</td>\n",
       "      <td>1.644854</td>\n",
       "      <td>696.385184</td>\n",
       "      <td>50'S CHRISTMAS GIFT BAG LARGE</td>\n",
       "    </tr>\n",
       "    <tr>\n",
       "      <th>0</th>\n",
       "      <td>348</td>\n",
       "      <td>257.732229</td>\n",
       "      <td>1.644854</td>\n",
       "      <td>771.931792</td>\n",
       "      <td>DOLLY GIRL BEAKER</td>\n",
       "    </tr>\n",
       "    <tr>\n",
       "      <th>0</th>\n",
       "      <td>96</td>\n",
       "      <td>42.993952</td>\n",
       "      <td>0.524401</td>\n",
       "      <td>118.546051</td>\n",
       "      <td>I LOVE LONDON MINI BACKPACK</td>\n",
       "    </tr>\n",
       "    <tr>\n",
       "      <th>0</th>\n",
       "      <td>12</td>\n",
       "      <td>NaN</td>\n",
       "      <td>0.524401</td>\n",
       "      <td>NaN</td>\n",
       "      <td>I LOVE LONDON MINI RUCKSACK</td>\n",
       "    </tr>\n",
       "    <tr>\n",
       "      <th>...</th>\n",
       "      <td>...</td>\n",
       "      <td>...</td>\n",
       "      <td>...</td>\n",
       "      <td>...</td>\n",
       "      <td>...</td>\n",
       "    </tr>\n",
       "    <tr>\n",
       "      <th>0</th>\n",
       "      <td>360</td>\n",
       "      <td>137.673888</td>\n",
       "      <td>1.644854</td>\n",
       "      <td>586.453394</td>\n",
       "      <td>ZINC T-LIGHT HOLDER STARS SMALL</td>\n",
       "    </tr>\n",
       "    <tr>\n",
       "      <th>0</th>\n",
       "      <td>12</td>\n",
       "      <td>NaN</td>\n",
       "      <td>0.524401</td>\n",
       "      <td>NaN</td>\n",
       "      <td>ZINC TOP  2 DOOR WOODEN SHELF</td>\n",
       "    </tr>\n",
       "    <tr>\n",
       "      <th>0</th>\n",
       "      <td>288</td>\n",
       "      <td>111.941138</td>\n",
       "      <td>1.644854</td>\n",
       "      <td>472.126787</td>\n",
       "      <td>ZINC WILLIE WINKIE  CANDLE STICK</td>\n",
       "    </tr>\n",
       "    <tr>\n",
       "      <th>0</th>\n",
       "      <td>24</td>\n",
       "      <td>10.810048</td>\n",
       "      <td>0.524401</td>\n",
       "      <td>29.668795</td>\n",
       "      <td>ZINC WIRE KITCHEN ORGANISER</td>\n",
       "    </tr>\n",
       "    <tr>\n",
       "      <th>0</th>\n",
       "      <td>36</td>\n",
       "      <td>13.957077</td>\n",
       "      <td>0.524401</td>\n",
       "      <td>43.319098</td>\n",
       "      <td>ZINC WIRE SWEETHEART LETTER TRAY</td>\n",
       "    </tr>\n",
       "  </tbody>\n",
       "</table>\n",
       "<p>3221 rows × 5 columns</p>\n",
       "</div>"
      ],
      "text/plain": [
       "    demandleadtime     sigmadl  safteyfactor  reorder_point  \\\n",
       "0               60   22.254982      0.524401      71.670524   \n",
       "0              372  197.212189      1.644854     696.385184   \n",
       "0              348  257.732229      1.644854     771.931792   \n",
       "0               96   42.993952      0.524401     118.546051   \n",
       "0               12         NaN      0.524401            NaN   \n",
       "..             ...         ...           ...            ...   \n",
       "0              360  137.673888      1.644854     586.453394   \n",
       "0               12         NaN      0.524401            NaN   \n",
       "0              288  111.941138      1.644854     472.126787   \n",
       "0               24   10.810048      0.524401      29.668795   \n",
       "0               36   13.957077      0.524401      43.319098   \n",
       "\n",
       "                         Description  \n",
       "0      4 PURPLE FLOCK DINNER CANDLES  \n",
       "0      50'S CHRISTMAS GIFT BAG LARGE  \n",
       "0                  DOLLY GIRL BEAKER  \n",
       "0        I LOVE LONDON MINI BACKPACK  \n",
       "0        I LOVE LONDON MINI RUCKSACK  \n",
       "..                               ...  \n",
       "0    ZINC T-LIGHT HOLDER STARS SMALL  \n",
       "0     ZINC TOP  2 DOOR WOODEN SHELF   \n",
       "0   ZINC WILLIE WINKIE  CANDLE STICK  \n",
       "0        ZINC WIRE KITCHEN ORGANISER  \n",
       "0   ZINC WIRE SWEETHEART LETTER TRAY  \n",
       "\n",
       "[3221 rows x 5 columns]"
      ]
     },
     "execution_count": 23,
     "metadata": {},
     "output_type": "execute_result"
    }
   ],
   "source": [
    "empty_df_lt"
   ]
  },
  {
   "cell_type": "code",
   "execution_count": 24,
   "id": "1bad3205-087a-40a9-a321-dc6e8a3d612e",
   "metadata": {},
   "outputs": [],
   "source": [
    "empty_df_lt_merged = pd.merge(rop_calculation, empty_df_lt, how = 'inner', on = 'Description')\n",
    "empty_df_lt_merged['safety_stock'] = empty_df_lt_merged['reorder_point'] - empty_df_lt_merged['demandleadtime']\n",
    "empty_df_lt_merged = empty_df_lt_merged[empty_df_lt_merged['safety_stock'] != empty_df_lt_merged['safety_stock'].max()]"
   ]
  },
  {
   "cell_type": "code",
   "execution_count": 25,
   "id": "7bd068a7-bd84-4d93-8978-b75a1899d564",
   "metadata": {},
   "outputs": [
    {
     "data": {
      "text/plain": [
       "<Axes: xlabel='sd', ylabel='safety_stock'>"
      ]
     },
     "execution_count": 25,
     "metadata": {},
     "output_type": "execute_result"
    },
    {
     "data": {
      "image/png": "[encoded data removed]",
      "text/plain": [
       "<Figure size 640x480 with 1 Axes>"
      ]
     },
     "metadata": {},
     "output_type": "display_data"
    }
   ],
   "source": [
    "sns.scatterplot(data = empty_df_lt_merged, x = 'sd', y = 'safety_stock', hue = 'service_level')"
   ]
  }
 ],
 "metadata": {
  "kernelspec": {
   "display_name": "Python 3 (ipykernel)",
   "language": "python",
   "name": "python3"
  },
  "language_info": {
   "codemirror_mode": {
    "name": "ipython",
    "version": 3
   },
   "file_extension": ".py",
   "mimetype": "text/x-python",
   "name": "python",
   "nbconvert_exporter": "python",
   "pygments_lexer": "ipython3",
   "version": "3.11.7"
  }
 },
 "nbformat": 4,
 "nbformat_minor": 5
}
