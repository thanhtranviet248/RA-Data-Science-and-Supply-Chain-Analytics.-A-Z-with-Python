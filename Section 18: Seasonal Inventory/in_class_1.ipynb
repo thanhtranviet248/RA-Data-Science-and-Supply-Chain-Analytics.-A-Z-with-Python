{
 "cells": [
  {
   "cell_type": "code",
   "execution_count": 1,
   "id": "daeaf91f-224d-40ce-8e38-dc14af3ac187",
   "metadata": {},
   "outputs": [],
   "source": [
    "import inventorize3 as inv"
   ]
  },
  {
   "cell_type": "code",
   "execution_count": 2,
   "id": "afb3d6ca-0079-4357-a72e-8de54c638914",
   "metadata": {},
   "outputs": [],
   "source": [
    "mean = 50\n",
    "sd = 10\n",
    "cost = 1.2\n",
    "salvage = 0.7\n",
    "penalty = 0.4\n",
    "price = 3"
   ]
  },
  {
   "cell_type": "code",
   "execution_count": 3,
   "id": "4e9733e9-6ac3-418e-937c-5c57f88c2c5d",
   "metadata": {},
   "outputs": [
    {
     "name": "stdout",
     "output_type": "stream",
     "text": [
      "0.6\n",
      "{'quantity': 52.533471031358, 'demand': 50, 'sd': 10, 'unitshort': 2.8500369224254065, 'shortagecost': 8.55011076727622, 'cost': 63.040165237629594, 'revenue': 150, 'profit': 78.40972399509418, 'soldatfullprice': 47.1499630775746, 'sold_discount': 5.3835079537834005}\n"
     ]
    }
   ],
   "source": [
    "### no salvage and no penalty\n",
    "\n",
    "print(inv.CriticalRatio(price, cost, 0, 0))\n",
    "print(inv.MPN_singleperiod(mean, sd, price, cost, 0, 0))"
   ]
  },
  {
   "cell_type": "code",
   "execution_count": 4,
   "id": "0d943d77-11fc-4b7a-8354-8a6066980f59",
   "metadata": {},
   "outputs": [
    {
     "name": "stdout",
     "output_type": "stream",
     "text": [
      "0.782608695652174\n",
      "{'quantity': 57.81033811522709, 'demand': 50, 'sd': 10, 'unitshort': 1.2427768964900099, 'shortagecost': 2.8583868619270225, 'cost': 28.905169057613545, 'revenue': 150, 'profit': 83.23644408045942, 'soldatfullprice': 48.75722310350999, 'sold_discount': 9.053115011717097}\n"
     ]
    }
   ],
   "source": [
    "### have salvage no penalty\n",
    "\n",
    "print(inv.CriticalRatio(price, cost, salvage, 0))\n",
    "print(inv.MPN_singleperiod(mean, sd, price, cost, salvage, 0))"
   ]
  },
  {
   "cell_type": "code",
   "execution_count": 5,
   "id": "7713c38a-b233-4937-9536-649134d7f207",
   "metadata": {},
   "outputs": [
    {
     "name": "stdout",
     "output_type": "stream",
     "text": [
      "0.8148148148148149\n",
      "{'quantity': 58.957798188835895, 'demand': 50, 'sd': 10, 'unitshort': 1.012102766308183, 'shortagecost': 2.732677469032094, 'cost': 29.478899094417947, 'revenue': 150, 'profit': 82.78842343654995, 'soldatfullprice': 48.98789723369182, 'sold_discount': 9.969900955144077}\n",
      "{'quantity': 40, 'demand': 50, 'sd': 10, 'unitshort': 10.833154705876865, 'shortagecost': 29.249517705867532, 'cost': 20.0, 'revenue': 150, 'profit': 65.75048229413245, 'soldatfullprice': 39.166845294123135, 'sold_discount': 0.8331547058768649}\n"
     ]
    }
   ],
   "source": [
    "### have salvage and have penalty\n",
    "\n",
    "print(inv.CriticalRatio(price, cost, salvage, penalty))\n",
    "print(inv.MPN_singleperiod(mean, sd, price, cost, salvage, penalty))\n",
    "print(inv.EPN_singleperiod(quantity = 40, mean = mean, standerddeviation = sd, p = price, c = cost, g = salvage, b = penalty))"
   ]
  }
 ],
 "metadata": {
  "kernelspec": {
   "display_name": "Python 3 (ipykernel)",
   "language": "python",
   "name": "python3"
  },
  "language_info": {
   "codemirror_mode": {
    "name": "ipython",
    "version": 3
   },
   "file_extension": ".py",
   "mimetype": "text/x-python",
   "name": "python",
   "nbconvert_exporter": "python",
   "pygments_lexer": "ipython3",
   "version": "3.11.7"
  }
 },
 "nbformat": 4,
 "nbformat_minor": 5
}
