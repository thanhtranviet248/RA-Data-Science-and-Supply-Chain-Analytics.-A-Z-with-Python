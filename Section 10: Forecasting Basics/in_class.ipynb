{
 "cells": [
  {
   "cell_type": "code",
   "execution_count": 2,
   "id": "01afe4c2-383b-42d2-b182-2c2976f2fcef",
   "metadata": {},
   "outputs": [],
   "source": [
    "import pandas as pd\n",
    "import seaborn as sns"
   ]
  },
  {
   "cell_type": "code",
   "execution_count": 3,
   "id": "c2b182e6-5f3f-48bb-8980-f08e4d75bcf8",
   "metadata": {},
   "outputs": [],
   "source": [
    "retail_clean = pd.read_csv('retail_clean.csv')"
   ]
  },
  {
   "cell_type": "code",
   "execution_count": 4,
   "id": "e6e442f5-37c6-42d6-9eb5-a0c672dd9653",
   "metadata": {},
   "outputs": [
    {
     "name": "stdout",
     "output_type": "stream",
     "text": [
      "<class 'pandas.core.frame.DataFrame'>\n",
      "RangeIndex: 779495 entries, 0 to 779494\n",
      "Data columns (total 10 columns):\n",
      " #   Column       Non-Null Count   Dtype  \n",
      "---  ------       --------------   -----  \n",
      " 0   Unnamed: 0   779495 non-null  int64  \n",
      " 1   Invoice      779495 non-null  int64  \n",
      " 2   StockCode    779495 non-null  object \n",
      " 3   Description  779495 non-null  object \n",
      " 4   Quantity     779495 non-null  int64  \n",
      " 5   InvoiceDate  779495 non-null  object \n",
      " 6   Price        779495 non-null  float64\n",
      " 7   Customer ID  779495 non-null  float64\n",
      " 8   Country      779495 non-null  object \n",
      " 9   Revenue      779495 non-null  float64\n",
      "dtypes: float64(3), int64(3), object(4)\n",
      "memory usage: 59.5+ MB\n"
     ]
    }
   ],
   "source": [
    "retail_clean.info()"
   ]
  },
  {
   "cell_type": "code",
   "execution_count": 5,
   "id": "f73db088-dd4d-4749-baaf-b7d452c97990",
   "metadata": {},
   "outputs": [],
   "source": [
    "retail_clean['InvoiceDate'] = pd.to_datetime(retail_clean['InvoiceDate'])\n",
    "retail_clean['date'] = retail_clean['InvoiceDate'].dt.strftime('%Y-%m-%d')\n",
    "retail_clean['date'] = pd.to_datetime(retail_clean['date'])"
   ]
  },
  {
   "cell_type": "code",
   "execution_count": 6,
   "id": "50aa4580-3331-4662-90a8-5c292c44d562",
   "metadata": {},
   "outputs": [
    {
     "data": {
      "text/plain": [
       "0        2009-12-01\n",
       "1        2009-12-01\n",
       "2        2009-12-01\n",
       "3        2009-12-01\n",
       "4        2009-12-01\n",
       "            ...    \n",
       "779490   2011-12-09\n",
       "779491   2011-12-09\n",
       "779492   2011-12-09\n",
       "779493   2011-12-09\n",
       "779494   2011-12-09\n",
       "Name: date, Length: 779495, dtype: datetime64[ns]"
      ]
     },
     "execution_count": 6,
     "metadata": {},
     "output_type": "execute_result"
    }
   ],
   "source": [
    "retail_clean['date']"
   ]
  },
  {
   "cell_type": "code",
   "execution_count": 7,
   "id": "1729887b-c3c5-462f-a4e9-c33fcff0da37",
   "metadata": {},
   "outputs": [],
   "source": [
    "retail_clean['month'] = retail_clean['date'].dt.month\n",
    "retail_clean['year'] = retail_clean['date'].dt.year\n",
    "retail_clean['week'] = retail_clean['date'].dt.isocalendar().week"
   ]
  },
  {
   "cell_type": "code",
   "execution_count": 8,
   "id": "7262462a-3afc-40b0-aa0e-efb5d3c5e34a",
   "metadata": {},
   "outputs": [],
   "source": [
    "time_series = retail_clean.groupby(by = ['week', 'month', 'year']).agg(date = ('date', 'first'), total_revenue = ('Revenue', 'sum')).sort_values('date', ascending = True).reset_index()"
   ]
  },
  {
   "cell_type": "code",
   "execution_count": 9,
   "id": "1a4375d7-ab12-4b4f-904b-4a62f97f226c",
   "metadata": {},
   "outputs": [],
   "source": [
    "time_series.to_excel('timeseries.xlsx')"
   ]
  },
  {
   "cell_type": "code",
   "execution_count": 10,
   "id": "41e6ed99-01ef-4e5c-8d88-4bd3024a55d1",
   "metadata": {},
   "outputs": [],
   "source": [
    "from sklearn.linear_model import LinearRegression"
   ]
  },
  {
   "cell_type": "code",
   "execution_count": 11,
   "id": "994c14ca-b4cf-400d-a935-976ad51fddde",
   "metadata": {},
   "outputs": [],
   "source": [
    "import numpy as np"
   ]
  },
  {
   "cell_type": "code",
   "execution_count": 12,
   "id": "67bcd1f2-b515-41ec-b6b6-d33e937821d6",
   "metadata": {},
   "outputs": [],
   "source": [
    "time_series['trend'] = pd.DataFrame(np.arange(1, len(time_series)+1, 1))\n",
    "time_series['month'] = time_series['month'].astype('category')"
   ]
  },
  {
   "cell_type": "code",
   "execution_count": 13,
   "id": "8bdc2b8f-c2c5-4981-8045-d2d022098c6f",
   "metadata": {},
   "outputs": [
    {
     "data": {
      "text/html": [
       "<div>\n",
       "<style scoped>\n",
       "    .dataframe tbody tr th:only-of-type {\n",
       "        vertical-align: middle;\n",
       "    }\n",
       "\n",
       "    .dataframe tbody tr th {\n",
       "        vertical-align: top;\n",
       "    }\n",
       "\n",
       "    .dataframe thead th {\n",
       "        text-align: right;\n",
       "    }\n",
       "</style>\n",
       "<table border=\"1\" class=\"dataframe\">\n",
       "  <thead>\n",
       "    <tr style=\"text-align: right;\">\n",
       "      <th></th>\n",
       "      <th>week</th>\n",
       "      <th>month</th>\n",
       "      <th>year</th>\n",
       "      <th>date</th>\n",
       "      <th>total_revenue</th>\n",
       "      <th>trend</th>\n",
       "    </tr>\n",
       "  </thead>\n",
       "  <tbody>\n",
       "    <tr>\n",
       "      <th>0</th>\n",
       "      <td>49</td>\n",
       "      <td>12</td>\n",
       "      <td>2009</td>\n",
       "      <td>2009-12-01</td>\n",
       "      <td>232177.51</td>\n",
       "      <td>1</td>\n",
       "    </tr>\n",
       "    <tr>\n",
       "      <th>1</th>\n",
       "      <td>50</td>\n",
       "      <td>12</td>\n",
       "      <td>2009</td>\n",
       "      <td>2009-12-07</td>\n",
       "      <td>207908.73</td>\n",
       "      <td>2</td>\n",
       "    </tr>\n",
       "    <tr>\n",
       "      <th>2</th>\n",
       "      <td>51</td>\n",
       "      <td>12</td>\n",
       "      <td>2009</td>\n",
       "      <td>2009-12-14</td>\n",
       "      <td>207685.87</td>\n",
       "      <td>3</td>\n",
       "    </tr>\n",
       "    <tr>\n",
       "      <th>3</th>\n",
       "      <td>52</td>\n",
       "      <td>12</td>\n",
       "      <td>2009</td>\n",
       "      <td>2009-12-21</td>\n",
       "      <td>35731.90</td>\n",
       "      <td>4</td>\n",
       "    </tr>\n",
       "    <tr>\n",
       "      <th>4</th>\n",
       "      <td>1</td>\n",
       "      <td>1</td>\n",
       "      <td>2010</td>\n",
       "      <td>2010-01-04</td>\n",
       "      <td>167636.95</td>\n",
       "      <td>5</td>\n",
       "    </tr>\n",
       "    <tr>\n",
       "      <th>...</th>\n",
       "      <td>...</td>\n",
       "      <td>...</td>\n",
       "      <td>...</td>\n",
       "      <td>...</td>\n",
       "      <td>...</td>\n",
       "      <td>...</td>\n",
       "    </tr>\n",
       "    <tr>\n",
       "      <th>116</th>\n",
       "      <td>46</td>\n",
       "      <td>11</td>\n",
       "      <td>2011</td>\n",
       "      <td>2011-11-14</td>\n",
       "      <td>276216.98</td>\n",
       "      <td>117</td>\n",
       "    </tr>\n",
       "    <tr>\n",
       "      <th>117</th>\n",
       "      <td>47</td>\n",
       "      <td>11</td>\n",
       "      <td>2011</td>\n",
       "      <td>2011-11-21</td>\n",
       "      <td>248234.58</td>\n",
       "      <td>118</td>\n",
       "    </tr>\n",
       "    <tr>\n",
       "      <th>118</th>\n",
       "      <td>48</td>\n",
       "      <td>11</td>\n",
       "      <td>2011</td>\n",
       "      <td>2011-11-28</td>\n",
       "      <td>141669.57</td>\n",
       "      <td>119</td>\n",
       "    </tr>\n",
       "    <tr>\n",
       "      <th>119</th>\n",
       "      <td>48</td>\n",
       "      <td>12</td>\n",
       "      <td>2011</td>\n",
       "      <td>2011-12-01</td>\n",
       "      <td>109163.47</td>\n",
       "      <td>120</td>\n",
       "    </tr>\n",
       "    <tr>\n",
       "      <th>120</th>\n",
       "      <td>49</td>\n",
       "      <td>12</td>\n",
       "      <td>2011</td>\n",
       "      <td>2011-12-05</td>\n",
       "      <td>408044.97</td>\n",
       "      <td>121</td>\n",
       "    </tr>\n",
       "  </tbody>\n",
       "</table>\n",
       "<p>121 rows × 6 columns</p>\n",
       "</div>"
      ],
      "text/plain": [
       "     week month  year       date  total_revenue  trend\n",
       "0      49    12  2009 2009-12-01      232177.51      1\n",
       "1      50    12  2009 2009-12-07      207908.73      2\n",
       "2      51    12  2009 2009-12-14      207685.87      3\n",
       "3      52    12  2009 2009-12-21       35731.90      4\n",
       "4       1     1  2010 2010-01-04      167636.95      5\n",
       "..    ...   ...   ...        ...            ...    ...\n",
       "116    46    11  2011 2011-11-14      276216.98    117\n",
       "117    47    11  2011 2011-11-21      248234.58    118\n",
       "118    48    11  2011 2011-11-28      141669.57    119\n",
       "119    48    12  2011 2011-12-01      109163.47    120\n",
       "120    49    12  2011 2011-12-05      408044.97    121\n",
       "\n",
       "[121 rows x 6 columns]"
      ]
     },
     "execution_count": 13,
     "metadata": {},
     "output_type": "execute_result"
    }
   ],
   "source": [
    "time_series"
   ]
  },
  {
   "cell_type": "code",
   "execution_count": 14,
   "id": "263bf57f-af20-429e-ad66-a1b48cdaa0e7",
   "metadata": {},
   "outputs": [],
   "source": [
    "X = time_series.drop(['week', 'year', 'date', 'total_revenue'], axis = 1)"
   ]
  },
  {
   "cell_type": "code",
   "execution_count": 15,
   "id": "d8bca87b-d08b-47e3-beff-7fb463683a93",
   "metadata": {
    "scrolled": true
   },
   "outputs": [
    {
     "data": {
      "text/plain": [
       "Index(['trend', 'month_1', 'month_2', 'month_3', 'month_4', 'month_5',\n",
       "       'month_6', 'month_7', 'month_8', 'month_9', 'month_10', 'month_11',\n",
       "       'month_12'],\n",
       "      dtype='object')"
      ]
     },
     "execution_count": 15,
     "metadata": {},
     "output_type": "execute_result"
    }
   ],
   "source": [
    "names = pd.get_dummies(X).columns\n",
    "names"
   ]
  },
  {
   "cell_type": "code",
   "execution_count": 16,
   "id": "806213b9-c433-4e65-a315-48105238500c",
   "metadata": {},
   "outputs": [],
   "source": [
    "X = pd.get_dummies(X).values"
   ]
  },
  {
   "cell_type": "code",
   "execution_count": 17,
   "id": "802b7185-46e5-478c-9d63-e682a1a12d20",
   "metadata": {},
   "outputs": [
    {
     "data": {
      "text/plain": [
       "array([[1, False, False, ..., False, False, True],\n",
       "       [2, False, False, ..., False, False, True],\n",
       "       [3, False, False, ..., False, False, True],\n",
       "       ...,\n",
       "       [119, False, False, ..., False, True, False],\n",
       "       [120, False, False, ..., False, False, True],\n",
       "       [121, False, False, ..., False, False, True]], dtype=object)"
      ]
     },
     "execution_count": 17,
     "metadata": {},
     "output_type": "execute_result"
    }
   ],
   "source": [
    "X"
   ]
  },
  {
   "cell_type": "code",
   "execution_count": 18,
   "id": "4421270a-417a-43f3-9a81-8efb3d130cb2",
   "metadata": {},
   "outputs": [
    {
     "data": {
      "text/plain": [
       "array([232177.51 , 207908.73 , 207685.87 ,  35731.9  , 167636.95 ,\n",
       "       125493.61 , 119473.351, 143198.761, 112299.692,  80059.66 ,\n",
       "       160506.402, 151693.202, 151813.96 , 118785.1  , 164459.771,\n",
       "       172063.68 ,  89855.96 ,  28646.66 , 124314.76 , 141539.381,\n",
       "       138922.62 , 158558.581,  12342.17 , 149102.83 , 155673.54 ,\n",
       "       138681.57 , 142033.27 ,  90358.06 , 200239.71 , 126987.39 ,\n",
       "       103924.84 , 114861.13 ,  55932.44 , 136775.12 , 144495.58 ,\n",
       "       133616.   , 118917.03 ,  30637.95 , 117866.37 , 139842.07 ,\n",
       "       154786.91 , 136279.55 ,  22811.75 , 100807.8  , 119333.94 ,\n",
       "       155778.921, 223587.04 , 229506.25 ,  72886.41 , 243007.44 ,\n",
       "       298614.04 , 220882.67 , 197721.45 , 262597.86 , 282707.701,\n",
       "       261610.061, 246492.99 , 113051.41 , 148627.97 , 212619.13 ,\n",
       "       163116.12 ,  46059.51 , 114636.8  , 154344.85 , 175452.23 ,\n",
       "       104861.   ,  18806.43 ,  87149.38 ,  87827.94 , 125700.15 ,\n",
       "       130380.77 ,  15026.68 , 102360.14 , 112193.93 , 137669.82 ,\n",
       "       129560.72 , 112297.15 ,  31360.43 , 119697.73 , 134930.821,\n",
       "       115969.4  ,  66415.95 ,   6958.11 , 131094.12 , 178574.32 ,\n",
       "       195818.79 , 146776.61 ,  18133.2  ,  83907.17 , 193704.12 ,\n",
       "       171702.44 , 112600.67 ,  98131.65 ,  18119.17 , 131222.52 ,\n",
       "       118078.73 , 167284.44 , 164258.041, 155943.   , 143544.62 ,\n",
       "       167634.4  , 147595.96 ,  29333.06 ,  84492.91 , 166212.46 ,\n",
       "       208718.88 , 309091.501, 182174.451,  11479.98 , 296214.24 ,\n",
       "       203708.95 , 254775.57 , 236456.84 ,  33006.87 , 226367.15 ,\n",
       "       263717.33 , 276216.98 , 248234.58 , 141669.57 , 109163.47 ,\n",
       "       408044.97 ])"
      ]
     },
     "execution_count": 18,
     "metadata": {},
     "output_type": "execute_result"
    }
   ],
   "source": [
    "y = time_series['total_revenue'].values\n",
    "y"
   ]
  },
  {
   "cell_type": "code",
   "execution_count": 19,
   "id": "0b3bf5af-dadb-459a-8be2-b95a9fe8e535",
   "metadata": {},
   "outputs": [],
   "source": [
    "model = LinearRegression()"
   ]
  },
  {
   "cell_type": "code",
   "execution_count": 20,
   "id": "651f8870-ed17-414d-ac58-a0e2dedf1f7a",
   "metadata": {},
   "outputs": [
    {
     "data": {
      "text/html": [
       "<style>#sk-container-id-1 {color: black;background-color: white;}#sk-container-id-1 pre{padding: 0;}#sk-container-id-1 div.sk-toggleable {background-color: white;}#sk-container-id-1 label.sk-toggleable__label {cursor: pointer;display: block;width: 100%;margin-bottom: 0;padding: 0.3em;box-sizing: border-box;text-align: center;}#sk-container-id-1 label.sk-toggleable__label-arrow:before {content: \"▸\";float: left;margin-right: 0.25em;color: #696969;}#sk-container-id-1 label.sk-toggleable__label-arrow:hover:before {color: black;}#sk-container-id-1 div.sk-estimator:hover label.sk-toggleable__label-arrow:before {color: black;}#sk-container-id-1 div.sk-toggleable__content {max-height: 0;max-width: 0;overflow: hidden;text-align: left;background-color: #f0f8ff;}#sk-container-id-1 div.sk-toggleable__content pre {margin: 0.2em;color: black;border-radius: 0.25em;background-color: #f0f8ff;}#sk-container-id-1 input.sk-toggleable__control:checked~div.sk-toggleable__content {max-height: 200px;max-width: 100%;overflow: auto;}#sk-container-id-1 input.sk-toggleable__control:checked~label.sk-toggleable__label-arrow:before {content: \"▾\";}#sk-container-id-1 div.sk-estimator input.sk-toggleable__control:checked~label.sk-toggleable__label {background-color: #d4ebff;}#sk-container-id-1 div.sk-label input.sk-toggleable__control:checked~label.sk-toggleable__label {background-color: #d4ebff;}#sk-container-id-1 input.sk-hidden--visually {border: 0;clip: rect(1px 1px 1px 1px);clip: rect(1px, 1px, 1px, 1px);height: 1px;margin: -1px;overflow: hidden;padding: 0;position: absolute;width: 1px;}#sk-container-id-1 div.sk-estimator {font-family: monospace;background-color: #f0f8ff;border: 1px dotted black;border-radius: 0.25em;box-sizing: border-box;margin-bottom: 0.5em;}#sk-container-id-1 div.sk-estimator:hover {background-color: #d4ebff;}#sk-container-id-1 div.sk-parallel-item::after {content: \"\";width: 100%;border-bottom: 1px solid gray;flex-grow: 1;}#sk-container-id-1 div.sk-label:hover label.sk-toggleable__label {background-color: #d4ebff;}#sk-container-id-1 div.sk-serial::before {content: \"\";position: absolute;border-left: 1px solid gray;box-sizing: border-box;top: 0;bottom: 0;left: 50%;z-index: 0;}#sk-container-id-1 div.sk-serial {display: flex;flex-direction: column;align-items: center;background-color: white;padding-right: 0.2em;padding-left: 0.2em;position: relative;}#sk-container-id-1 div.sk-item {position: relative;z-index: 1;}#sk-container-id-1 div.sk-parallel {display: flex;align-items: stretch;justify-content: center;background-color: white;position: relative;}#sk-container-id-1 div.sk-item::before, #sk-container-id-1 div.sk-parallel-item::before {content: \"\";position: absolute;border-left: 1px solid gray;box-sizing: border-box;top: 0;bottom: 0;left: 50%;z-index: -1;}#sk-container-id-1 div.sk-parallel-item {display: flex;flex-direction: column;z-index: 1;position: relative;background-color: white;}#sk-container-id-1 div.sk-parallel-item:first-child::after {align-self: flex-end;width: 50%;}#sk-container-id-1 div.sk-parallel-item:last-child::after {align-self: flex-start;width: 50%;}#sk-container-id-1 div.sk-parallel-item:only-child::after {width: 0;}#sk-container-id-1 div.sk-dashed-wrapped {border: 1px dashed gray;margin: 0 0.4em 0.5em 0.4em;box-sizing: border-box;padding-bottom: 0.4em;background-color: white;}#sk-container-id-1 div.sk-label label {font-family: monospace;font-weight: bold;display: inline-block;line-height: 1.2em;}#sk-container-id-1 div.sk-label-container {text-align: center;}#sk-container-id-1 div.sk-container {/* jupyter's `normalize.less` sets `[hidden] { display: none; }` but bootstrap.min.css set `[hidden] { display: none !important; }` so we also need the `!important` here to be able to override the default hidden behavior on the sphinx rendered scikit-learn.org. See: https://github.com/scikit-learn/scikit-learn/issues/21755 */display: inline-block !important;position: relative;}#sk-container-id-1 div.sk-text-repr-fallback {display: none;}</style><div id=\"sk-container-id-1\" class=\"sk-top-container\"><div class=\"sk-text-repr-fallback\"><pre>LinearRegression()</pre><b>In a Jupyter environment, please rerun this cell to show the HTML representation or trust the notebook. <br />On GitHub, the HTML representation is unable to render, please try loading this page with nbviewer.org.</b></div><div class=\"sk-container\" hidden><div class=\"sk-item\"><div class=\"sk-estimator sk-toggleable\"><input class=\"sk-toggleable__control sk-hidden--visually\" id=\"sk-estimator-id-1\" type=\"checkbox\" checked><label for=\"sk-estimator-id-1\" class=\"sk-toggleable__label sk-toggleable__label-arrow\">LinearRegression</label><div class=\"sk-toggleable__content\"><pre>LinearRegression()</pre></div></div></div></div></div>"
      ],
      "text/plain": [
       "LinearRegression()"
      ]
     },
     "execution_count": 20,
     "metadata": {},
     "output_type": "execute_result"
    }
   ],
   "source": [
    "model.fit(X, y)"
   ]
  },
  {
   "cell_type": "code",
   "execution_count": 21,
   "id": "f9809d36-e174-4a39-9dee-de2ae8e8ad01",
   "metadata": {},
   "outputs": [
    {
     "data": {
      "text/plain": [
       "{'copy_X': True, 'fit_intercept': True, 'n_jobs': None, 'positive': False}"
      ]
     },
     "execution_count": 21,
     "metadata": {},
     "output_type": "execute_result"
    }
   ],
   "source": [
    "model.get_params()"
   ]
  },
  {
   "cell_type": "code",
   "execution_count": 22,
   "id": "635fed31-5be2-4116-9c97-de4d10d2b945",
   "metadata": {},
   "outputs": [
    {
     "data": {
      "text/plain": [
       "array([-7.50587618e+00, -1.85162279e+04, -3.77331573e+04, -1.42433897e+04,\n",
       "       -3.72762502e+04, -2.73256065e+04, -1.35913538e+04, -2.43256353e+04,\n",
       "       -2.98789922e+04,  3.48536846e+04,  4.50119036e+04,  8.92286442e+04,\n",
       "        3.37963804e+04])"
      ]
     },
     "execution_count": 22,
     "metadata": {},
     "output_type": "execute_result"
    }
   ],
   "source": [
    "model.coef_"
   ]
  },
  {
   "cell_type": "code",
   "execution_count": 23,
   "id": "21dfa2d2-d3b8-453b-a84a-87fa17281534",
   "metadata": {},
   "outputs": [
    {
     "data": {
      "text/plain": [
       "[('trend', -7.505876175645656),\n",
       " ('month_1', -18516.22787910629),\n",
       " ('month_2', -37733.15733208401),\n",
       " ('month_3', -14243.3897442747),\n",
       " ('month_4', -37276.25016339645),\n",
       " ('month_5', -27325.606453991306),\n",
       " ('month_6', -13591.35376355216),\n",
       " ('month_7', -24325.635282673957),\n",
       " ('month_8', -29878.992237689366),\n",
       " ('month_9', 34853.68461717034),\n",
       " ('month_10', 45011.903599302794),\n",
       " ('month_11', 89228.64421701457),\n",
       " ('month_12', 33796.38042328061)]"
      ]
     },
     "execution_count": 23,
     "metadata": {},
     "output_type": "execute_result"
    }
   ],
   "source": [
    "dict1 = list(zip(names, model.coef_))\n",
    "dict1"
   ]
  },
  {
   "cell_type": "code",
   "execution_count": 24,
   "id": "b6154eec-7a4f-4efd-abd6-4dc5ff46595e",
   "metadata": {},
   "outputs": [],
   "source": [
    "prediction = model.predict(X)"
   ]
  },
  {
   "cell_type": "code",
   "execution_count": 25,
   "id": "aebd398d-8ad0-450d-a862-be293d8109d1",
   "metadata": {},
   "outputs": [],
   "source": [
    "time_series['prediction'] = prediction"
   ]
  },
  {
   "cell_type": "code",
   "execution_count": 26,
   "id": "8936768e-94b2-40f7-8f51-875686086bda",
   "metadata": {},
   "outputs": [
    {
     "name": "stderr",
     "output_type": "stream",
     "text": [
      "C:\\Users\\thanh\\anaconda3\\Lib\\site-packages\\seaborn\\_oldcore.py:1119: FutureWarning: use_inf_as_na option is deprecated and will be removed in a future version. Convert inf values to NaN before operating instead.\n",
      "  with pd.option_context('mode.use_inf_as_na', True):\n",
      "C:\\Users\\thanh\\anaconda3\\Lib\\site-packages\\seaborn\\_oldcore.py:1119: FutureWarning: use_inf_as_na option is deprecated and will be removed in a future version. Convert inf values to NaN before operating instead.\n",
      "  with pd.option_context('mode.use_inf_as_na', True):\n",
      "C:\\Users\\thanh\\anaconda3\\Lib\\site-packages\\seaborn\\_oldcore.py:1119: FutureWarning: use_inf_as_na option is deprecated and will be removed in a future version. Convert inf values to NaN before operating instead.\n",
      "  with pd.option_context('mode.use_inf_as_na', True):\n",
      "C:\\Users\\thanh\\anaconda3\\Lib\\site-packages\\seaborn\\_oldcore.py:1119: FutureWarning: use_inf_as_na option is deprecated and will be removed in a future version. Convert inf values to NaN before operating instead.\n",
      "  with pd.option_context('mode.use_inf_as_na', True):\n"
     ]
    },
    {
     "data": {
      "text/plain": [
       "<Axes: xlabel='date', ylabel='total_revenue'>"
      ]
     },
     "execution_count": 26,
     "metadata": {},
     "output_type": "execute_result"
    },
    {
     "data": {
      "image/png": "[encoded data removed]",
      "text/plain": [
       "<Figure size 640x480 with 1 Axes>"
      ]
     },
     "metadata": {},
     "output_type": "display_data"
    }
   ],
   "source": [
    "sns.lineplot(data = time_series, x = time_series['date'], y = time_series['total_revenue'])\n",
    "sns.lineplot(data = time_series, x = time_series['date'], y = time_series['prediction'])"
   ]
  },
  {
   "cell_type": "code",
   "execution_count": 27,
   "id": "9be0b741-3e84-4282-9aef-21298eaeb801",
   "metadata": {},
   "outputs": [
    {
     "data": {
      "text/plain": [
       "Timestamp('2011-12-05 00:00:00')"
      ]
     },
     "execution_count": 27,
     "metadata": {},
     "output_type": "execute_result"
    }
   ],
   "source": [
    "max_date = time_series['date'].max()\n",
    "max_date"
   ]
  },
  {
   "cell_type": "code",
   "execution_count": 28,
   "id": "653292f5-ca04-4211-9308-4ef3f3f1782a",
   "metadata": {},
   "outputs": [],
   "source": [
    "dates = pd.DataFrame({'date': pd.date_range(start = '2011-12-05', end = '2012-02-05', freq = 'W')})"
   ]
  },
  {
   "cell_type": "code",
   "execution_count": 29,
   "id": "6f1c11f7-56ff-44d4-9ec2-6d27762e0051",
   "metadata": {},
   "outputs": [
    {
     "data": {
      "text/html": [
       "<div>\n",
       "<style scoped>\n",
       "    .dataframe tbody tr th:only-of-type {\n",
       "        vertical-align: middle;\n",
       "    }\n",
       "\n",
       "    .dataframe tbody tr th {\n",
       "        vertical-align: top;\n",
       "    }\n",
       "\n",
       "    .dataframe thead th {\n",
       "        text-align: right;\n",
       "    }\n",
       "</style>\n",
       "<table border=\"1\" class=\"dataframe\">\n",
       "  <thead>\n",
       "    <tr style=\"text-align: right;\">\n",
       "      <th></th>\n",
       "      <th>date</th>\n",
       "    </tr>\n",
       "  </thead>\n",
       "  <tbody>\n",
       "    <tr>\n",
       "      <th>0</th>\n",
       "      <td>2011-12-11</td>\n",
       "    </tr>\n",
       "    <tr>\n",
       "      <th>1</th>\n",
       "      <td>2011-12-18</td>\n",
       "    </tr>\n",
       "    <tr>\n",
       "      <th>2</th>\n",
       "      <td>2011-12-25</td>\n",
       "    </tr>\n",
       "    <tr>\n",
       "      <th>3</th>\n",
       "      <td>2012-01-01</td>\n",
       "    </tr>\n",
       "    <tr>\n",
       "      <th>4</th>\n",
       "      <td>2012-01-08</td>\n",
       "    </tr>\n",
       "    <tr>\n",
       "      <th>5</th>\n",
       "      <td>2012-01-15</td>\n",
       "    </tr>\n",
       "    <tr>\n",
       "      <th>6</th>\n",
       "      <td>2012-01-22</td>\n",
       "    </tr>\n",
       "    <tr>\n",
       "      <th>7</th>\n",
       "      <td>2012-01-29</td>\n",
       "    </tr>\n",
       "    <tr>\n",
       "      <th>8</th>\n",
       "      <td>2012-02-05</td>\n",
       "    </tr>\n",
       "  </tbody>\n",
       "</table>\n",
       "</div>"
      ],
      "text/plain": [
       "        date\n",
       "0 2011-12-11\n",
       "1 2011-12-18\n",
       "2 2011-12-25\n",
       "3 2012-01-01\n",
       "4 2012-01-08\n",
       "5 2012-01-15\n",
       "6 2012-01-22\n",
       "7 2012-01-29\n",
       "8 2012-02-05"
      ]
     },
     "execution_count": 29,
     "metadata": {},
     "output_type": "execute_result"
    }
   ],
   "source": [
    "dates"
   ]
  },
  {
   "cell_type": "code",
   "execution_count": 30,
   "id": "4c8e75f4-d13a-48d6-976f-6fc6f2281007",
   "metadata": {},
   "outputs": [],
   "source": [
    "time_series = pd.concat([time_series, dates], axis = 0).reset_index()"
   ]
  },
  {
   "cell_type": "code",
   "execution_count": 31,
   "id": "f5f6848f-c14b-4266-a773-87c94213bc9f",
   "metadata": {},
   "outputs": [
    {
     "data": {
      "text/html": [
       "<div>\n",
       "<style scoped>\n",
       "    .dataframe tbody tr th:only-of-type {\n",
       "        vertical-align: middle;\n",
       "    }\n",
       "\n",
       "    .dataframe tbody tr th {\n",
       "        vertical-align: top;\n",
       "    }\n",
       "\n",
       "    .dataframe thead th {\n",
       "        text-align: right;\n",
       "    }\n",
       "</style>\n",
       "<table border=\"1\" class=\"dataframe\">\n",
       "  <thead>\n",
       "    <tr style=\"text-align: right;\">\n",
       "      <th></th>\n",
       "      <th>index</th>\n",
       "      <th>week</th>\n",
       "      <th>month</th>\n",
       "      <th>year</th>\n",
       "      <th>date</th>\n",
       "      <th>total_revenue</th>\n",
       "      <th>trend</th>\n",
       "      <th>prediction</th>\n",
       "    </tr>\n",
       "  </thead>\n",
       "  <tbody>\n",
       "    <tr>\n",
       "      <th>0</th>\n",
       "      <td>0</td>\n",
       "      <td>49</td>\n",
       "      <td>12</td>\n",
       "      <td>2009.0</td>\n",
       "      <td>2009-12-01</td>\n",
       "      <td>232177.51</td>\n",
       "      <td>1.0</td>\n",
       "      <td>177476.051819</td>\n",
       "    </tr>\n",
       "    <tr>\n",
       "      <th>1</th>\n",
       "      <td>1</td>\n",
       "      <td>50</td>\n",
       "      <td>12</td>\n",
       "      <td>2009.0</td>\n",
       "      <td>2009-12-07</td>\n",
       "      <td>207908.73</td>\n",
       "      <td>2.0</td>\n",
       "      <td>177468.545943</td>\n",
       "    </tr>\n",
       "    <tr>\n",
       "      <th>2</th>\n",
       "      <td>2</td>\n",
       "      <td>51</td>\n",
       "      <td>12</td>\n",
       "      <td>2009.0</td>\n",
       "      <td>2009-12-14</td>\n",
       "      <td>207685.87</td>\n",
       "      <td>3.0</td>\n",
       "      <td>177461.040067</td>\n",
       "    </tr>\n",
       "    <tr>\n",
       "      <th>3</th>\n",
       "      <td>3</td>\n",
       "      <td>52</td>\n",
       "      <td>12</td>\n",
       "      <td>2009.0</td>\n",
       "      <td>2009-12-21</td>\n",
       "      <td>35731.90</td>\n",
       "      <td>4.0</td>\n",
       "      <td>177453.534191</td>\n",
       "    </tr>\n",
       "    <tr>\n",
       "      <th>4</th>\n",
       "      <td>4</td>\n",
       "      <td>1</td>\n",
       "      <td>1</td>\n",
       "      <td>2010.0</td>\n",
       "      <td>2010-01-04</td>\n",
       "      <td>167636.95</td>\n",
       "      <td>5.0</td>\n",
       "      <td>125133.420012</td>\n",
       "    </tr>\n",
       "    <tr>\n",
       "      <th>...</th>\n",
       "      <td>...</td>\n",
       "      <td>...</td>\n",
       "      <td>...</td>\n",
       "      <td>...</td>\n",
       "      <td>...</td>\n",
       "      <td>...</td>\n",
       "      <td>...</td>\n",
       "      <td>...</td>\n",
       "    </tr>\n",
       "    <tr>\n",
       "      <th>125</th>\n",
       "      <td>4</td>\n",
       "      <td>&lt;NA&gt;</td>\n",
       "      <td>NaN</td>\n",
       "      <td>NaN</td>\n",
       "      <td>2012-01-08</td>\n",
       "      <td>NaN</td>\n",
       "      <td>NaN</td>\n",
       "      <td>NaN</td>\n",
       "    </tr>\n",
       "    <tr>\n",
       "      <th>126</th>\n",
       "      <td>5</td>\n",
       "      <td>&lt;NA&gt;</td>\n",
       "      <td>NaN</td>\n",
       "      <td>NaN</td>\n",
       "      <td>2012-01-15</td>\n",
       "      <td>NaN</td>\n",
       "      <td>NaN</td>\n",
       "      <td>NaN</td>\n",
       "    </tr>\n",
       "    <tr>\n",
       "      <th>127</th>\n",
       "      <td>6</td>\n",
       "      <td>&lt;NA&gt;</td>\n",
       "      <td>NaN</td>\n",
       "      <td>NaN</td>\n",
       "      <td>2012-01-22</td>\n",
       "      <td>NaN</td>\n",
       "      <td>NaN</td>\n",
       "      <td>NaN</td>\n",
       "    </tr>\n",
       "    <tr>\n",
       "      <th>128</th>\n",
       "      <td>7</td>\n",
       "      <td>&lt;NA&gt;</td>\n",
       "      <td>NaN</td>\n",
       "      <td>NaN</td>\n",
       "      <td>2012-01-29</td>\n",
       "      <td>NaN</td>\n",
       "      <td>NaN</td>\n",
       "      <td>NaN</td>\n",
       "    </tr>\n",
       "    <tr>\n",
       "      <th>129</th>\n",
       "      <td>8</td>\n",
       "      <td>&lt;NA&gt;</td>\n",
       "      <td>NaN</td>\n",
       "      <td>NaN</td>\n",
       "      <td>2012-02-05</td>\n",
       "      <td>NaN</td>\n",
       "      <td>NaN</td>\n",
       "      <td>NaN</td>\n",
       "    </tr>\n",
       "  </tbody>\n",
       "</table>\n",
       "<p>130 rows × 8 columns</p>\n",
       "</div>"
      ],
      "text/plain": [
       "     index  week month    year       date  total_revenue  trend     prediction\n",
       "0        0    49    12  2009.0 2009-12-01      232177.51    1.0  177476.051819\n",
       "1        1    50    12  2009.0 2009-12-07      207908.73    2.0  177468.545943\n",
       "2        2    51    12  2009.0 2009-12-14      207685.87    3.0  177461.040067\n",
       "3        3    52    12  2009.0 2009-12-21       35731.90    4.0  177453.534191\n",
       "4        4     1     1  2010.0 2010-01-04      167636.95    5.0  125133.420012\n",
       "..     ...   ...   ...     ...        ...            ...    ...            ...\n",
       "125      4  <NA>   NaN     NaN 2012-01-08            NaN    NaN            NaN\n",
       "126      5  <NA>   NaN     NaN 2012-01-15            NaN    NaN            NaN\n",
       "127      6  <NA>   NaN     NaN 2012-01-22            NaN    NaN            NaN\n",
       "128      7  <NA>   NaN     NaN 2012-01-29            NaN    NaN            NaN\n",
       "129      8  <NA>   NaN     NaN 2012-02-05            NaN    NaN            NaN\n",
       "\n",
       "[130 rows x 8 columns]"
      ]
     },
     "execution_count": 31,
     "metadata": {},
     "output_type": "execute_result"
    }
   ],
   "source": [
    "time_series"
   ]
  },
  {
   "cell_type": "code",
   "execution_count": 32,
   "id": "ef3337fa-cd8e-4c97-a7d4-363fa11de93e",
   "metadata": {},
   "outputs": [],
   "source": [
    "time_series['trend'] = pd.DataFrame(np.arange(1, len(time_series)+1, 1))\n",
    "time_series['month'] = time_series['date'].dt.month\n",
    "time_series['month'] = time_series['month'].astype('category')"
   ]
  },
  {
   "cell_type": "code",
   "execution_count": 33,
   "id": "88c7fb5c-2a5c-4c28-9ef5-53a406d4ad0e",
   "metadata": {},
   "outputs": [
    {
     "data": {
      "text/html": [
       "<div>\n",
       "<style scoped>\n",
       "    .dataframe tbody tr th:only-of-type {\n",
       "        vertical-align: middle;\n",
       "    }\n",
       "\n",
       "    .dataframe tbody tr th {\n",
       "        vertical-align: top;\n",
       "    }\n",
       "\n",
       "    .dataframe thead th {\n",
       "        text-align: right;\n",
       "    }\n",
       "</style>\n",
       "<table border=\"1\" class=\"dataframe\">\n",
       "  <thead>\n",
       "    <tr style=\"text-align: right;\">\n",
       "      <th></th>\n",
       "      <th>index</th>\n",
       "      <th>week</th>\n",
       "      <th>month</th>\n",
       "      <th>year</th>\n",
       "      <th>date</th>\n",
       "      <th>total_revenue</th>\n",
       "      <th>trend</th>\n",
       "      <th>prediction</th>\n",
       "    </tr>\n",
       "  </thead>\n",
       "  <tbody>\n",
       "    <tr>\n",
       "      <th>0</th>\n",
       "      <td>0</td>\n",
       "      <td>49</td>\n",
       "      <td>12</td>\n",
       "      <td>2009.0</td>\n",
       "      <td>2009-12-01</td>\n",
       "      <td>232177.51</td>\n",
       "      <td>1</td>\n",
       "      <td>177476.051819</td>\n",
       "    </tr>\n",
       "    <tr>\n",
       "      <th>1</th>\n",
       "      <td>1</td>\n",
       "      <td>50</td>\n",
       "      <td>12</td>\n",
       "      <td>2009.0</td>\n",
       "      <td>2009-12-07</td>\n",
       "      <td>207908.73</td>\n",
       "      <td>2</td>\n",
       "      <td>177468.545943</td>\n",
       "    </tr>\n",
       "    <tr>\n",
       "      <th>2</th>\n",
       "      <td>2</td>\n",
       "      <td>51</td>\n",
       "      <td>12</td>\n",
       "      <td>2009.0</td>\n",
       "      <td>2009-12-14</td>\n",
       "      <td>207685.87</td>\n",
       "      <td>3</td>\n",
       "      <td>177461.040067</td>\n",
       "    </tr>\n",
       "    <tr>\n",
       "      <th>3</th>\n",
       "      <td>3</td>\n",
       "      <td>52</td>\n",
       "      <td>12</td>\n",
       "      <td>2009.0</td>\n",
       "      <td>2009-12-21</td>\n",
       "      <td>35731.90</td>\n",
       "      <td>4</td>\n",
       "      <td>177453.534191</td>\n",
       "    </tr>\n",
       "    <tr>\n",
       "      <th>4</th>\n",
       "      <td>4</td>\n",
       "      <td>1</td>\n",
       "      <td>1</td>\n",
       "      <td>2010.0</td>\n",
       "      <td>2010-01-04</td>\n",
       "      <td>167636.95</td>\n",
       "      <td>5</td>\n",
       "      <td>125133.420012</td>\n",
       "    </tr>\n",
       "    <tr>\n",
       "      <th>...</th>\n",
       "      <td>...</td>\n",
       "      <td>...</td>\n",
       "      <td>...</td>\n",
       "      <td>...</td>\n",
       "      <td>...</td>\n",
       "      <td>...</td>\n",
       "      <td>...</td>\n",
       "      <td>...</td>\n",
       "    </tr>\n",
       "    <tr>\n",
       "      <th>125</th>\n",
       "      <td>4</td>\n",
       "      <td>&lt;NA&gt;</td>\n",
       "      <td>1</td>\n",
       "      <td>NaN</td>\n",
       "      <td>2012-01-08</td>\n",
       "      <td>NaN</td>\n",
       "      <td>126</td>\n",
       "      <td>NaN</td>\n",
       "    </tr>\n",
       "    <tr>\n",
       "      <th>126</th>\n",
       "      <td>5</td>\n",
       "      <td>&lt;NA&gt;</td>\n",
       "      <td>1</td>\n",
       "      <td>NaN</td>\n",
       "      <td>2012-01-15</td>\n",
       "      <td>NaN</td>\n",
       "      <td>127</td>\n",
       "      <td>NaN</td>\n",
       "    </tr>\n",
       "    <tr>\n",
       "      <th>127</th>\n",
       "      <td>6</td>\n",
       "      <td>&lt;NA&gt;</td>\n",
       "      <td>1</td>\n",
       "      <td>NaN</td>\n",
       "      <td>2012-01-22</td>\n",
       "      <td>NaN</td>\n",
       "      <td>128</td>\n",
       "      <td>NaN</td>\n",
       "    </tr>\n",
       "    <tr>\n",
       "      <th>128</th>\n",
       "      <td>7</td>\n",
       "      <td>&lt;NA&gt;</td>\n",
       "      <td>1</td>\n",
       "      <td>NaN</td>\n",
       "      <td>2012-01-29</td>\n",
       "      <td>NaN</td>\n",
       "      <td>129</td>\n",
       "      <td>NaN</td>\n",
       "    </tr>\n",
       "    <tr>\n",
       "      <th>129</th>\n",
       "      <td>8</td>\n",
       "      <td>&lt;NA&gt;</td>\n",
       "      <td>2</td>\n",
       "      <td>NaN</td>\n",
       "      <td>2012-02-05</td>\n",
       "      <td>NaN</td>\n",
       "      <td>130</td>\n",
       "      <td>NaN</td>\n",
       "    </tr>\n",
       "  </tbody>\n",
       "</table>\n",
       "<p>130 rows × 8 columns</p>\n",
       "</div>"
      ],
      "text/plain": [
       "     index  week month    year       date  total_revenue  trend     prediction\n",
       "0        0    49    12  2009.0 2009-12-01      232177.51      1  177476.051819\n",
       "1        1    50    12  2009.0 2009-12-07      207908.73      2  177468.545943\n",
       "2        2    51    12  2009.0 2009-12-14      207685.87      3  177461.040067\n",
       "3        3    52    12  2009.0 2009-12-21       35731.90      4  177453.534191\n",
       "4        4     1     1  2010.0 2010-01-04      167636.95      5  125133.420012\n",
       "..     ...   ...   ...     ...        ...            ...    ...            ...\n",
       "125      4  <NA>     1     NaN 2012-01-08            NaN    126            NaN\n",
       "126      5  <NA>     1     NaN 2012-01-15            NaN    127            NaN\n",
       "127      6  <NA>     1     NaN 2012-01-22            NaN    128            NaN\n",
       "128      7  <NA>     1     NaN 2012-01-29            NaN    129            NaN\n",
       "129      8  <NA>     2     NaN 2012-02-05            NaN    130            NaN\n",
       "\n",
       "[130 rows x 8 columns]"
      ]
     },
     "execution_count": 33,
     "metadata": {},
     "output_type": "execute_result"
    }
   ],
   "source": [
    "time_series"
   ]
  },
  {
   "cell_type": "code",
   "execution_count": 34,
   "id": "89a57bfa-1d76-42e3-b8a8-81c65b6e9d1c",
   "metadata": {},
   "outputs": [],
   "source": [
    "X = time_series.drop(['index', 'week', 'year', 'date', 'total_revenue', 'prediction'], axis = 1)\n",
    "names = pd.get_dummies(X).columns\n",
    "X = pd.get_dummies(X).values\n",
    "y = time_series['total_revenue'].values"
   ]
  },
  {
   "cell_type": "code",
   "execution_count": 35,
   "id": "dc431c84-8dda-4ada-ac26-9a09c5e849b7",
   "metadata": {},
   "outputs": [],
   "source": [
    "prediction = model.predict(X)\n",
    "time_series['prediction'] = prediction"
   ]
  },
  {
   "cell_type": "code",
   "execution_count": 36,
   "id": "96c54ad2-38d6-462a-91da-4eb1c424c0b8",
   "metadata": {},
   "outputs": [
    {
     "name": "stderr",
     "output_type": "stream",
     "text": [
      "C:\\Users\\thanh\\anaconda3\\Lib\\site-packages\\seaborn\\_oldcore.py:1119: FutureWarning: use_inf_as_na option is deprecated and will be removed in a future version. Convert inf values to NaN before operating instead.\n",
      "  with pd.option_context('mode.use_inf_as_na', True):\n",
      "C:\\Users\\thanh\\anaconda3\\Lib\\site-packages\\seaborn\\_oldcore.py:1119: FutureWarning: use_inf_as_na option is deprecated and will be removed in a future version. Convert inf values to NaN before operating instead.\n",
      "  with pd.option_context('mode.use_inf_as_na', True):\n",
      "C:\\Users\\thanh\\anaconda3\\Lib\\site-packages\\seaborn\\_oldcore.py:1119: FutureWarning: use_inf_as_na option is deprecated and will be removed in a future version. Convert inf values to NaN before operating instead.\n",
      "  with pd.option_context('mode.use_inf_as_na', True):\n",
      "C:\\Users\\thanh\\anaconda3\\Lib\\site-packages\\seaborn\\_oldcore.py:1119: FutureWarning: use_inf_as_na option is deprecated and will be removed in a future version. Convert inf values to NaN before operating instead.\n",
      "  with pd.option_context('mode.use_inf_as_na', True):\n"
     ]
    },
    {
     "data": {
      "text/plain": [
       "<Axes: xlabel='date', ylabel='total_revenue'>"
      ]
     },
     "execution_count": 36,
     "metadata": {},
     "output_type": "execute_result"
    },
    {
     "data": {
      "image/png": "[encoded data removed]",
      "text/plain": [
       "<Figure size 640x480 with 1 Axes>"
      ]
     },
     "metadata": {},
     "output_type": "display_data"
    }
   ],
   "source": [
    "sns.lineplot(data = time_series, x = time_series['date'], y = time_series['total_revenue'])\n",
    "sns.lineplot(data = time_series, x = time_series['date'], y = time_series['prediction'])"
   ]
  }
 ],
 "metadata": {
  "kernelspec": {
   "display_name": "Python 3 (ipykernel)",
   "language": "python",
   "name": "python3"
  },
  "language_info": {
   "codemirror_mode": {
    "name": "ipython",
    "version": 3
   },
   "file_extension": ".py",
   "mimetype": "text/x-python",
   "name": "python",
   "nbconvert_exporter": "python",
   "pygments_lexer": "ipython3",
   "version": "3.11.7"
  }
 },
 "nbformat": 4,
 "nbformat_minor": 5
}
