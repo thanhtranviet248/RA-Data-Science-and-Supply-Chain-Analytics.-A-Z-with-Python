{
 "cells": [
  {
   "cell_type": "code",
   "execution_count": 1,
   "id": "e2e0cefc",
   "metadata": {},
   "outputs": [],
   "source": [
    "# Import package\n",
    "import numpy as np\n",
    "import pandas as pd\n",
    "import matplotlib.pyplot as plt\n",
    "import statistics\n",
    "import seaborn as sns\n",
    "from sklearn.linear_model import LinearRegression\n",
    "import scipy.stats as st\n",
    "from scipy.stats import kstest"
   ]
  },
  {
   "cell_type": "markdown",
   "id": "df221ac5-e266-4daf-b795-4353ee3fb308",
   "metadata": {
    "jp-MarkdownHeadingCollapsed": true
   },
   "source": [
    "## 1. Measure of centrality"
   ]
  },
  {
   "cell_type": "code",
   "execution_count": 2,
   "id": "7bea61f5-355d-4078-92dc-8c21fb8a31c6",
   "metadata": {},
   "outputs": [
    {
     "name": "stdout",
     "output_type": "stream",
     "text": [
      "10 samples of the data: [314. 457. 246. 202. 413. 144. 271.  27. 220. 254.]\n"
     ]
    }
   ],
   "source": [
    "# Create an array that contains random number from 2 to 500 with 1000 elements \n",
    "# that follow uniform distribution then round it to the nearest integer\n",
    "pineapple_juice = np.random.uniform(high=500, low=2, size=1000).round()\n",
    "\n",
    "# Print 10 samples\n",
    "print(f'''10 samples of the data: {pineapple_juice[:10]}''')"
   ]
  },
  {
   "cell_type": "code",
   "execution_count": 3,
   "id": "b09bdfb1",
   "metadata": {},
   "outputs": [
    {
     "data": {
      "text/plain": [
       "(array([ 99.,  91., 109.,  97.,  86., 112., 107.,  96., 106.,  97.]),\n",
       " array([  3. ,  52.7, 102.4, 152.1, 201.8, 251.5, 301.2, 350.9, 400.6,\n",
       "        450.3, 500. ]),\n",
       " <BarContainer object of 10 artists>)"
      ]
     },
     "execution_count": 3,
     "metadata": {},
     "output_type": "execute_result"
    },
    {
     "data": {
      "image/png": "[encoded data removed]",
      "text/plain": [
       "<Figure size 640x480 with 1 Axes>"
      ]
     },
     "metadata": {},
     "output_type": "display_data"
    }
   ],
   "source": [
    "# Plot the histogram of the data\n",
    "plt.hist(pineapple_juice, \n",
    "         bins=10, \n",
    "         color='c', \n",
    "         edgecolor='black')"
   ]
  },
  {
   "cell_type": "code",
   "execution_count": 4,
   "id": "c54fd3c8",
   "metadata": {},
   "outputs": [
    {
     "name": "stdout",
     "output_type": "stream",
     "text": [
      "Mean of the data using numpy: 253.112\n",
      "Mean of the data using statistics: 253.112\n",
      "Median of the data using numpy: 260.0\n",
      "Median of the data using statistics: 260.0\n",
      "Mode of the data using statistics: 154.0\n"
     ]
    }
   ],
   "source": [
    "# Mean of the data using numpy\n",
    "print(f'''Mean of the data using numpy: {np.mean(pineapple_juice)}''')\n",
    "\n",
    "# Mean of the data using statistics\n",
    "print(f'''Mean of the data using statistics: {statistics.mean(pineapple_juice)}''')\n",
    "\n",
    "# Median of the data using numpy\n",
    "print(f'''Median of the data using numpy: {np.median(pineapple_juice)}''')\n",
    "\n",
    "# Median of the data using statistics\n",
    "print(f'''Median of the data using statistics: {statistics.median(pineapple_juice)}''')\n",
    "\n",
    "# Mode of the data using statistics\n",
    "print(f'''Mode of the data using statistics: {statistics.mode(pineapple_juice)}''')"
   ]
  },
  {
   "cell_type": "markdown",
   "id": "6ab791fa-94df-4f9c-b0b3-ee2cd345bad5",
   "metadata": {
    "jp-MarkdownHeadingCollapsed": true
   },
   "source": [
    "## 2. Measure of spread"
   ]
  },
  {
   "cell_type": "code",
   "execution_count": 5,
   "id": "08dea65e-723a-4f7c-a47c-c34d86979dab",
   "metadata": {},
   "outputs": [
    {
     "name": "stdout",
     "output_type": "stream",
     "text": [
      "Standard deviation of the data: 143.46418866542768\n",
      "Range of the data: 497.0\n",
      "Variance of the data: 20581.97342942943\n",
      "Percentile 25% of the data: 130.0\n",
      "Percentile 50% of the data: 260.0\n",
      "Percentile 75% of the data: 380.0\n",
      "Percentiles using statistics: [np.float64(130.0), np.float64(260.0), np.float64(380.0)]\n"
     ]
    }
   ],
   "source": [
    "# Standard deviation of the data\n",
    "print(f'''Standard deviation of the data: {statistics.stdev(pineapple_juice)}''')\n",
    "\n",
    "# Range of the data\n",
    "def range_data(data):\n",
    "    return data.max() - data.min()\n",
    "\n",
    "print(f'''Range of the data: {range_data(pineapple_juice)}''')\n",
    "\n",
    "# Variance of the data\n",
    "print(f'''Variance of the data: {statistics.variance(pineapple_juice)}''')\n",
    "\n",
    "# Percentile 25% of the data using numpy\n",
    "print(f'''Percentile 25% of the data: {np.percentile(pineapple_juice, 25)}''')\n",
    "\n",
    "# Percentile 50% of the data using numpy\n",
    "print(f'''Percentile 50% of the data: {np.percentile(pineapple_juice, 50)}''')\n",
    "\n",
    "# Percentile 75% of the data using numpy\n",
    "print(f'''Percentile 75% of the data: {np.percentile(pineapple_juice, 75)}''')\n",
    "\n",
    "# Percentiles using statistics\n",
    "print(f'''Percentiles using statistics: {statistics.quantiles(pineapple_juice, n=4)}''')"
   ]
  },
  {
   "cell_type": "markdown",
   "id": "eda93902-8ef2-4ba2-9c6d-b4049eb30bc4",
   "metadata": {},
   "source": [
    "## 3. Correlation"
   ]
  },
  {
   "cell_type": "code",
   "execution_count": 6,
   "id": "dcba9c19-a827-48e0-83cf-99f1518122cf",
   "metadata": {},
   "outputs": [
    {
     "name": "stdout",
     "output_type": "stream",
     "text": [
      "<class 'pandas.core.frame.DataFrame'>\n",
      "RangeIndex: 428 entries, 0 to 427\n",
      "Data columns (total 19 columns):\n",
      " #   Column                    Non-Null Count  Dtype  \n",
      "---  ------                    --------------  -----  \n",
      " 0   name                      428 non-null    object \n",
      " 1   sports_car                428 non-null    bool   \n",
      " 2   suv                       428 non-null    bool   \n",
      " 3   wagon                     428 non-null    bool   \n",
      " 4   minivan                   428 non-null    bool   \n",
      " 5   pickup                    428 non-null    bool   \n",
      " 6   all_wheel                 428 non-null    bool   \n",
      " 7   rear_wheel                428 non-null    bool   \n",
      " 8   Price                     428 non-null    int64  \n",
      " 9   Dealer_Cost               428 non-null    int64  \n",
      " 10  Engine_size               428 non-null    float64\n",
      " 11  cylenders                 428 non-null    int64  \n",
      " 12  horsepower                428 non-null    int64  \n",
      " 13  city_miles_per_galloon    414 non-null    float64\n",
      " 14  highway_miles_per_Gallon  414 non-null    float64\n",
      " 15  weight                    426 non-null    float64\n",
      " 16  base_wheeel               426 non-null    float64\n",
      " 17  length                    402 non-null    float64\n",
      " 18  width                     400 non-null    float64\n",
      "dtypes: bool(7), float64(7), int64(4), object(1)\n",
      "memory usage: 43.2+ KB\n"
     ]
    }
   ],
   "source": [
    "# Import data\n",
    "cars = pd.read_csv('cars.csv')\n",
    "\n",
    "# Info of the data\n",
    "cars.info()"
   ]
  },
  {
   "cell_type": "code",
   "execution_count": 7,
   "id": "4fa19b67-b3c5-443f-a7ed-743d35a4cef4",
   "metadata": {},
   "outputs": [
    {
     "data": {
      "text/html": [
       "<div>\n",
       "<style scoped>\n",
       "    .dataframe tbody tr th:only-of-type {\n",
       "        vertical-align: middle;\n",
       "    }\n",
       "\n",
       "    .dataframe tbody tr th {\n",
       "        vertical-align: top;\n",
       "    }\n",
       "\n",
       "    .dataframe thead th {\n",
       "        text-align: right;\n",
       "    }\n",
       "</style>\n",
       "<table border=\"1\" class=\"dataframe\">\n",
       "  <thead>\n",
       "    <tr style=\"text-align: right;\">\n",
       "      <th></th>\n",
       "      <th>Price</th>\n",
       "      <th>Dealer_Cost</th>\n",
       "      <th>Engine_size</th>\n",
       "      <th>cylenders</th>\n",
       "      <th>horsepower</th>\n",
       "      <th>city_miles_per_galloon</th>\n",
       "      <th>highway_miles_per_Gallon</th>\n",
       "      <th>weight</th>\n",
       "      <th>base_wheeel</th>\n",
       "      <th>length</th>\n",
       "      <th>width</th>\n",
       "    </tr>\n",
       "  </thead>\n",
       "  <tbody>\n",
       "    <tr>\n",
       "      <th>count</th>\n",
       "      <td>428.000000</td>\n",
       "      <td>428.000000</td>\n",
       "      <td>428.000000</td>\n",
       "      <td>428.000000</td>\n",
       "      <td>428.000000</td>\n",
       "      <td>414.000000</td>\n",
       "      <td>414.000000</td>\n",
       "      <td>426.000000</td>\n",
       "      <td>426.000000</td>\n",
       "      <td>402.000000</td>\n",
       "      <td>400.000000</td>\n",
       "    </tr>\n",
       "    <tr>\n",
       "      <th>mean</th>\n",
       "      <td>32774.855140</td>\n",
       "      <td>30014.700935</td>\n",
       "      <td>3.196729</td>\n",
       "      <td>5.775701</td>\n",
       "      <td>215.885514</td>\n",
       "      <td>20.089372</td>\n",
       "      <td>26.905797</td>\n",
       "      <td>3577.213615</td>\n",
       "      <td>108.173709</td>\n",
       "      <td>185.126866</td>\n",
       "      <td>71.292500</td>\n",
       "    </tr>\n",
       "    <tr>\n",
       "      <th>std</th>\n",
       "      <td>19431.716674</td>\n",
       "      <td>17642.117750</td>\n",
       "      <td>1.108595</td>\n",
       "      <td>1.622779</td>\n",
       "      <td>71.836032</td>\n",
       "      <td>5.213062</td>\n",
       "      <td>5.696804</td>\n",
       "      <td>760.437663</td>\n",
       "      <td>8.326449</td>\n",
       "      <td>13.312523</td>\n",
       "      <td>3.393484</td>\n",
       "    </tr>\n",
       "    <tr>\n",
       "      <th>min</th>\n",
       "      <td>10280.000000</td>\n",
       "      <td>9875.000000</td>\n",
       "      <td>1.300000</td>\n",
       "      <td>-1.000000</td>\n",
       "      <td>73.000000</td>\n",
       "      <td>10.000000</td>\n",
       "      <td>12.000000</td>\n",
       "      <td>1850.000000</td>\n",
       "      <td>89.000000</td>\n",
       "      <td>143.000000</td>\n",
       "      <td>64.000000</td>\n",
       "    </tr>\n",
       "    <tr>\n",
       "      <th>25%</th>\n",
       "      <td>20334.250000</td>\n",
       "      <td>18866.000000</td>\n",
       "      <td>2.375000</td>\n",
       "      <td>4.000000</td>\n",
       "      <td>165.000000</td>\n",
       "      <td>17.000000</td>\n",
       "      <td>24.000000</td>\n",
       "      <td>3102.000000</td>\n",
       "      <td>103.000000</td>\n",
       "      <td>177.000000</td>\n",
       "      <td>69.000000</td>\n",
       "    </tr>\n",
       "    <tr>\n",
       "      <th>50%</th>\n",
       "      <td>27635.000000</td>\n",
       "      <td>25294.500000</td>\n",
       "      <td>3.000000</td>\n",
       "      <td>6.000000</td>\n",
       "      <td>210.000000</td>\n",
       "      <td>19.000000</td>\n",
       "      <td>26.000000</td>\n",
       "      <td>3474.500000</td>\n",
       "      <td>107.000000</td>\n",
       "      <td>186.000000</td>\n",
       "      <td>71.000000</td>\n",
       "    </tr>\n",
       "    <tr>\n",
       "      <th>75%</th>\n",
       "      <td>39205.000000</td>\n",
       "      <td>35710.250000</td>\n",
       "      <td>3.900000</td>\n",
       "      <td>6.000000</td>\n",
       "      <td>255.000000</td>\n",
       "      <td>21.000000</td>\n",
       "      <td>29.000000</td>\n",
       "      <td>3974.250000</td>\n",
       "      <td>112.000000</td>\n",
       "      <td>193.000000</td>\n",
       "      <td>73.000000</td>\n",
       "    </tr>\n",
       "    <tr>\n",
       "      <th>max</th>\n",
       "      <td>192465.000000</td>\n",
       "      <td>173560.000000</td>\n",
       "      <td>8.300000</td>\n",
       "      <td>12.000000</td>\n",
       "      <td>500.000000</td>\n",
       "      <td>60.000000</td>\n",
       "      <td>66.000000</td>\n",
       "      <td>7190.000000</td>\n",
       "      <td>144.000000</td>\n",
       "      <td>227.000000</td>\n",
       "      <td>81.000000</td>\n",
       "    </tr>\n",
       "  </tbody>\n",
       "</table>\n",
       "</div>"
      ],
      "text/plain": [
       "               Price    Dealer_Cost  Engine_size   cylenders  horsepower  \\\n",
       "count     428.000000     428.000000   428.000000  428.000000  428.000000   \n",
       "mean    32774.855140   30014.700935     3.196729    5.775701  215.885514   \n",
       "std     19431.716674   17642.117750     1.108595    1.622779   71.836032   \n",
       "min     10280.000000    9875.000000     1.300000   -1.000000   73.000000   \n",
       "25%     20334.250000   18866.000000     2.375000    4.000000  165.000000   \n",
       "50%     27635.000000   25294.500000     3.000000    6.000000  210.000000   \n",
       "75%     39205.000000   35710.250000     3.900000    6.000000  255.000000   \n",
       "max    192465.000000  173560.000000     8.300000   12.000000  500.000000   \n",
       "\n",
       "       city_miles_per_galloon  highway_miles_per_Gallon       weight  \\\n",
       "count              414.000000                414.000000   426.000000   \n",
       "mean                20.089372                 26.905797  3577.213615   \n",
       "std                  5.213062                  5.696804   760.437663   \n",
       "min                 10.000000                 12.000000  1850.000000   \n",
       "25%                 17.000000                 24.000000  3102.000000   \n",
       "50%                 19.000000                 26.000000  3474.500000   \n",
       "75%                 21.000000                 29.000000  3974.250000   \n",
       "max                 60.000000                 66.000000  7190.000000   \n",
       "\n",
       "       base_wheeel      length       width  \n",
       "count   426.000000  402.000000  400.000000  \n",
       "mean    108.173709  185.126866   71.292500  \n",
       "std       8.326449   13.312523    3.393484  \n",
       "min      89.000000  143.000000   64.000000  \n",
       "25%     103.000000  177.000000   69.000000  \n",
       "50%     107.000000  186.000000   71.000000  \n",
       "75%     112.000000  193.000000   73.000000  \n",
       "max     144.000000  227.000000   81.000000  "
      ]
     },
     "execution_count": 7,
     "metadata": {},
     "output_type": "execute_result"
    }
   ],
   "source": [
    "# Describe the data\n",
    "cars.describe()"
   ]
  },
  {
   "cell_type": "code",
   "execution_count": 8,
   "id": "f1a4aec3-9c16-4cc6-9f34-cbb9c0f9c327",
   "metadata": {},
   "outputs": [
    {
     "name": "stdout",
     "output_type": "stream",
     "text": [
      "                        horsepower  city_miles_per_galloon\n",
      "horsepower                1.000000               -0.666256\n",
      "city_miles_per_galloon   -0.666256                1.000000\n",
      "                        horsepower  city_miles_per_galloon\n",
      "horsepower                1.000000               -0.666256\n",
      "city_miles_per_galloon   -0.666256                1.000000\n"
     ]
    },
    {
     "data": {
      "text/plain": [
       "[]"
      ]
     },
     "execution_count": 8,
     "metadata": {},
     "output_type": "execute_result"
    },
    {
     "data": {
      "image/png": "[encoded data removed]",
      "text/plain": [
       "<Figure size 640x480 with 1 Axes>"
      ]
     },
     "metadata": {},
     "output_type": "display_data"
    }
   ],
   "source": [
    "# Correlation between horsepower and city_miles_per_galloon\n",
    "\n",
    "# Method 1\n",
    "print(cars.loc[:,['horsepower','city_miles_per_galloon']].corr())\n",
    "\n",
    "# Method 2\n",
    "print(cars[['horsepower','city_miles_per_galloon']].corr())\n",
    "\n",
    "# Scatter plot between horsepower and city_miles_per_galloon\n",
    "plt.scatter(x='horsepower', y='city_miles_per_galloon', data=cars, color='c', edgecolor='black', marker='o')\n",
    "plt.title('Correlation between horsepower and city_miles_per_galloon')\n",
    "plt.xlabel('Horsepower')\n",
    "plt.ylabel('City miles per gallon')\n",
    "plt.plot()"
   ]
  },
  {
   "cell_type": "code",
   "execution_count": 9,
   "id": "b22c1de4-bb75-4eee-9918-3e80c0e27afd",
   "metadata": {},
   "outputs": [
    {
     "data": {
      "text/html": [
       "<div>\n",
       "<style scoped>\n",
       "    .dataframe tbody tr th:only-of-type {\n",
       "        vertical-align: middle;\n",
       "    }\n",
       "\n",
       "    .dataframe tbody tr th {\n",
       "        vertical-align: top;\n",
       "    }\n",
       "\n",
       "    .dataframe thead th {\n",
       "        text-align: right;\n",
       "    }\n",
       "</style>\n",
       "<table border=\"1\" class=\"dataframe\">\n",
       "  <thead>\n",
       "    <tr style=\"text-align: right;\">\n",
       "      <th></th>\n",
       "      <th>Price</th>\n",
       "      <th>horsepower</th>\n",
       "      <th>city_miles_per_galloon</th>\n",
       "      <th>weight</th>\n",
       "      <th>length</th>\n",
       "    </tr>\n",
       "  </thead>\n",
       "  <tbody>\n",
       "    <tr>\n",
       "      <th>Price</th>\n",
       "      <td>1.000000</td>\n",
       "      <td>0.826945</td>\n",
       "      <td>-0.461130</td>\n",
       "      <td>0.449336</td>\n",
       "      <td>0.214889</td>\n",
       "    </tr>\n",
       "    <tr>\n",
       "      <th>horsepower</th>\n",
       "      <td>0.826945</td>\n",
       "      <td>1.000000</td>\n",
       "      <td>-0.666256</td>\n",
       "      <td>0.631525</td>\n",
       "      <td>0.379936</td>\n",
       "    </tr>\n",
       "    <tr>\n",
       "      <th>city_miles_per_galloon</th>\n",
       "      <td>-0.461130</td>\n",
       "      <td>-0.666256</td>\n",
       "      <td>1.000000</td>\n",
       "      <td>-0.737192</td>\n",
       "      <td>-0.464826</td>\n",
       "    </tr>\n",
       "    <tr>\n",
       "      <th>weight</th>\n",
       "      <td>0.449336</td>\n",
       "      <td>0.631525</td>\n",
       "      <td>-0.737192</td>\n",
       "      <td>1.000000</td>\n",
       "      <td>0.667169</td>\n",
       "    </tr>\n",
       "    <tr>\n",
       "      <th>length</th>\n",
       "      <td>0.214889</td>\n",
       "      <td>0.379936</td>\n",
       "      <td>-0.464826</td>\n",
       "      <td>0.667169</td>\n",
       "      <td>1.000000</td>\n",
       "    </tr>\n",
       "  </tbody>\n",
       "</table>\n",
       "</div>"
      ],
      "text/plain": [
       "                           Price  horsepower  city_miles_per_galloon  \\\n",
       "Price                   1.000000    0.826945               -0.461130   \n",
       "horsepower              0.826945    1.000000               -0.666256   \n",
       "city_miles_per_galloon -0.461130   -0.666256                1.000000   \n",
       "weight                  0.449336    0.631525               -0.737192   \n",
       "length                  0.214889    0.379936               -0.464826   \n",
       "\n",
       "                          weight    length  \n",
       "Price                   0.449336  0.214889  \n",
       "horsepower              0.631525  0.379936  \n",
       "city_miles_per_galloon -0.737192 -0.464826  \n",
       "weight                  1.000000  0.667169  \n",
       "length                  0.667169  1.000000  "
      ]
     },
     "execution_count": 9,
     "metadata": {},
     "output_type": "execute_result"
    }
   ],
   "source": [
    "# Correlation between multiple columns\n",
    "cars[['Price',\n",
    "      'horsepower',\n",
    "      'city_miles_per_galloon',\n",
    "      'weight',\n",
    "      'length']\n",
    "      ].corr()"
   ]
  },
  {
   "cell_type": "code",
   "execution_count": 10,
   "id": "b123977b-3ceb-437f-8a2c-8002b47f6c40",
   "metadata": {},
   "outputs": [
    {
     "name": "stdout",
     "output_type": "stream",
     "text": [
      "Correlation between multiple columns of the cleaned data:                            Price  horsepower  city_miles_per_galloon  \\\n",
      "Price                   1.000000    0.835074               -0.485213   \n",
      "horsepower              0.835074    1.000000               -0.671801   \n",
      "city_miles_per_galloon -0.485213   -0.671801                1.000000   \n",
      "weight                  0.475994    0.631058               -0.736166   \n",
      "length                  0.209553    0.381426               -0.467586   \n",
      "\n",
      "                          weight    length  \n",
      "Price                   0.475994  0.209553  \n",
      "horsepower              0.631058  0.381426  \n",
      "city_miles_per_galloon -0.736166 -0.467586  \n",
      "weight                  1.000000  0.652893  \n",
      "length                  0.652893  1.000000  \n"
     ]
    },
    {
     "data": {
      "text/plain": [
       "<Axes: >"
      ]
     },
     "execution_count": 10,
     "metadata": {},
     "output_type": "execute_result"
    },
    {
     "data": {
      "image/png": "[encoded data removed]",
      "text/plain": [
       "<Figure size 640x480 with 2 Axes>"
      ]
     },
     "metadata": {},
     "output_type": "display_data"
    }
   ],
   "source": [
    "# Clean the data\n",
    "cars_clean = cars.dropna(axis=0)\n",
    "\n",
    "# Correlation between multiple columns of the cleaned data\n",
    "correlation_data = cars_clean[['Price','horsepower','city_miles_per_galloon','weight','length']].corr()\n",
    "print(f'''Correlation between multiple columns of the cleaned data: {correlation_data}''')\n",
    "\n",
    "# Heatmap of the correlation data\n",
    "sns.heatmap(correlation_data)"
   ]
  },
  {
   "cell_type": "markdown",
   "id": "06e7f20c-1124-4716-8a3c-40e9f4303238",
   "metadata": {
    "jp-MarkdownHeadingCollapsed": true
   },
   "source": [
    "## 4. Outlier"
   ]
  },
  {
   "cell_type": "code",
   "execution_count": 11,
   "id": "4c981ce4-9936-40bf-bf71-81e2568dcf15",
   "metadata": {},
   "outputs": [
    {
     "name": "stdout",
     "output_type": "stream",
     "text": [
      "Interquartile (IQR) range: 23.0\n"
     ]
    }
   ],
   "source": [
    "# Create a numpy array\n",
    "sales = np.array([5, 8, 10, 20, 100, 2, 65, 18, 32, 25, 200, 9, 15])\n",
    "\n",
    "# Percentile of the data\n",
    "first = np.percentile(sales, 25)\n",
    "second = np.percentile(sales, 50)\n",
    "third = np.percentile(sales, 75)\n",
    "\n",
    "# Interquartile (IQR) range\n",
    "iqr = third - first\n",
    "print(f'''Interquartile (IQR) range: {iqr}''')"
   ]
  },
  {
   "cell_type": "code",
   "execution_count": 12,
   "id": "b5c8a415-818c-4004-8f46-9d79fdd3b90f",
   "metadata": {},
   "outputs": [
    {
     "name": "stdout",
     "output_type": "stream",
     "text": [
      "Upper threshold: 66.5\n",
      "Lower threshold: -25.5\n"
     ]
    }
   ],
   "source": [
    "# Calculate the thresholds\n",
    "upper_threshold = third + iqr*1.5\n",
    "lower_threshold = first - iqr*1.5\n",
    "\n",
    "print(f'''Upper threshold: {upper_threshold}''')\n",
    "print(f'''Lower threshold: {lower_threshold}''')"
   ]
  },
  {
   "cell_type": "code",
   "execution_count": 13,
   "id": "f09fbfed-cab0-48c2-95ee-62ca67f10979",
   "metadata": {},
   "outputs": [
    {
     "data": {
      "text/plain": [
       "{'upper_outliers': array([100, 200]), 'lower_outliers': array([], dtype=int64)}"
      ]
     },
     "execution_count": 13,
     "metadata": {},
     "output_type": "execute_result"
    }
   ],
   "source": [
    "# Create a function to detect outliers\n",
    "def outlier_function(x):\n",
    "    first = np.percentile(x, 25)\n",
    "    third = np.percentile(x, 75)\n",
    "    iqr = third - first\n",
    "    upper_threshold = third + iqr*1.5\n",
    "    lower_threshold = first - iqr*1.5\n",
    "    outliers = dict({'upper_outliers':x[x > upper_threshold],\n",
    "                     'lower_outliers':x[x < lower_threshold]})\n",
    "    return outliers\n",
    "\n",
    "# Detect outliers\n",
    "outlier_function(sales)"
   ]
  },
  {
   "cell_type": "markdown",
   "id": "19cd1a24-649a-47a8-8cb1-f1cfdf09b4d0",
   "metadata": {
    "jp-MarkdownHeadingCollapsed": true
   },
   "source": [
    "## 5. Linear regression"
   ]
  },
  {
   "cell_type": "code",
   "execution_count": 14,
   "id": "1a47252a-e8aa-4944-b682-04849bd115dc",
   "metadata": {},
   "outputs": [
    {
     "data": {
      "text/html": [
       "<div>\n",
       "<style scoped>\n",
       "    .dataframe tbody tr th:only-of-type {\n",
       "        vertical-align: middle;\n",
       "    }\n",
       "\n",
       "    .dataframe tbody tr th {\n",
       "        vertical-align: top;\n",
       "    }\n",
       "\n",
       "    .dataframe thead th {\n",
       "        text-align: right;\n",
       "    }\n",
       "</style>\n",
       "<table border=\"1\" class=\"dataframe\">\n",
       "  <thead>\n",
       "    <tr style=\"text-align: right;\">\n",
       "      <th></th>\n",
       "      <th>Demand</th>\n",
       "      <th>Price</th>\n",
       "    </tr>\n",
       "  </thead>\n",
       "  <tbody>\n",
       "    <tr>\n",
       "      <th>0</th>\n",
       "      <td>400</td>\n",
       "      <td>10.0</td>\n",
       "    </tr>\n",
       "    <tr>\n",
       "      <th>1</th>\n",
       "      <td>380</td>\n",
       "      <td>12.0</td>\n",
       "    </tr>\n",
       "    <tr>\n",
       "      <th>2</th>\n",
       "      <td>370</td>\n",
       "      <td>13.0</td>\n",
       "    </tr>\n",
       "    <tr>\n",
       "      <th>3</th>\n",
       "      <td>390</td>\n",
       "      <td>11.0</td>\n",
       "    </tr>\n",
       "    <tr>\n",
       "      <th>4</th>\n",
       "      <td>395</td>\n",
       "      <td>10.5</td>\n",
       "    </tr>\n",
       "    <tr>\n",
       "      <th>5</th>\n",
       "      <td>410</td>\n",
       "      <td>9.0</td>\n",
       "    </tr>\n",
       "    <tr>\n",
       "      <th>6</th>\n",
       "      <td>430</td>\n",
       "      <td>7.0</td>\n",
       "    </tr>\n",
       "    <tr>\n",
       "      <th>7</th>\n",
       "      <td>412</td>\n",
       "      <td>8.8</td>\n",
       "    </tr>\n",
       "    <tr>\n",
       "      <th>8</th>\n",
       "      <td>370</td>\n",
       "      <td>13.0</td>\n",
       "    </tr>\n",
       "  </tbody>\n",
       "</table>\n",
       "</div>"
      ],
      "text/plain": [
       "   Demand  Price\n",
       "0     400   10.0\n",
       "1     380   12.0\n",
       "2     370   13.0\n",
       "3     390   11.0\n",
       "4     395   10.5\n",
       "5     410    9.0\n",
       "6     430    7.0\n",
       "7     412    8.8\n",
       "8     370   13.0"
      ]
     },
     "execution_count": 14,
     "metadata": {},
     "output_type": "execute_result"
    }
   ],
   "source": [
    "# Import data\n",
    "pricing = pd.read_excel('pricing.xlsx')\n",
    "pricing"
   ]
  },
  {
   "cell_type": "code",
   "execution_count": 15,
   "id": "bd7f4296-34fe-4fa9-a96d-78b1d74eec1c",
   "metadata": {},
   "outputs": [
    {
     "name": "stdout",
     "output_type": "stream",
     "text": [
      "Coefficient of the model: [[-10.]]\n",
      "Intercept of the model: [500.]\n"
     ]
    }
   ],
   "source": [
    "# Train data\n",
    "X = pricing[['Price']]\n",
    "Y = pricing[['Demand']]\n",
    "\n",
    "# Create a linear regression model\n",
    "model = LinearRegression(n_jobs=-1, )\n",
    "\n",
    "# Fit data into the model\n",
    "model.fit(X, Y)\n",
    "\n",
    "# Coefficient and intercept of the model\n",
    "print(f'''Coefficient of the model: {model.coef_}''')\n",
    "print(f'''Intercept of the model: {model.intercept_}''')"
   ]
  },
  {
   "cell_type": "code",
   "execution_count": 16,
   "id": "31b2c8f3-1f38-4267-a1fc-c5af82649cf0",
   "metadata": {},
   "outputs": [
    {
     "name": "stderr",
     "output_type": "stream",
     "text": [
      "C:\\Users\\thanh\\AppData\\Local\\Packages\\PythonSoftwareFoundation.Python.3.11_qbz5n2kfra8p0\\LocalCache\\local-packages\\Python311\\site-packages\\sklearn\\utils\\validation.py:2739: UserWarning: X does not have valid feature names, but LinearRegression was fitted with feature names\n",
      "  warnings.warn(\n"
     ]
    },
    {
     "data": {
      "text/plain": [
       "<Axes: >"
      ]
     },
     "execution_count": 16,
     "metadata": {},
     "output_type": "execute_result"
    },
    {
     "data": {
      "image/png": "[encoded data removed]",
      "text/plain": [
       "<Figure size 640x480 with 1 Axes>"
      ]
     },
     "metadata": {},
     "output_type": "display_data"
    }
   ],
   "source": [
    "# Predict the demand of the new price\n",
    "X_predict = np.random.randint(100, 300, 100).reshape(-1, 1)\n",
    "Y_predict = model.predict(X_predict)\n",
    "\n",
    "# Plot the prediction\n",
    "sns.regplot(x=X_predict, \n",
    "            y=Y_predict,\n",
    "            color='c')\n"
   ]
  },
  {
   "cell_type": "markdown",
   "id": "44242542-cf55-4c3c-b0a1-1b08b4c37be1",
   "metadata": {
    "jp-MarkdownHeadingCollapsed": true
   },
   "source": [
    "## 6. Distribution testing"
   ]
  },
  {
   "cell_type": "code",
   "execution_count": 17,
   "id": "69e9d1f1-a229-4d82-b99a-a4684eec0226",
   "metadata": {},
   "outputs": [
    {
     "data": {
      "text/html": [
       "<div>\n",
       "<style scoped>\n",
       "    .dataframe tbody tr th:only-of-type {\n",
       "        vertical-align: middle;\n",
       "    }\n",
       "\n",
       "    .dataframe tbody tr th {\n",
       "        vertical-align: top;\n",
       "    }\n",
       "\n",
       "    .dataframe thead th {\n",
       "        text-align: right;\n",
       "    }\n",
       "</style>\n",
       "<table border=\"1\" class=\"dataframe\">\n",
       "  <thead>\n",
       "    <tr style=\"text-align: right;\">\n",
       "      <th></th>\n",
       "      <th>day</th>\n",
       "      <th>grape_juice</th>\n",
       "      <th>cantalop_juice</th>\n",
       "      <th>apple_juice</th>\n",
       "    </tr>\n",
       "  </thead>\n",
       "  <tbody>\n",
       "    <tr>\n",
       "      <th>0</th>\n",
       "      <td>1</td>\n",
       "      <td>0</td>\n",
       "      <td>10</td>\n",
       "      <td>96</td>\n",
       "    </tr>\n",
       "    <tr>\n",
       "      <th>1</th>\n",
       "      <td>2</td>\n",
       "      <td>3</td>\n",
       "      <td>10</td>\n",
       "      <td>92</td>\n",
       "    </tr>\n",
       "    <tr>\n",
       "      <th>2</th>\n",
       "      <td>3</td>\n",
       "      <td>1</td>\n",
       "      <td>9</td>\n",
       "      <td>84</td>\n",
       "    </tr>\n",
       "    <tr>\n",
       "      <th>3</th>\n",
       "      <td>4</td>\n",
       "      <td>2</td>\n",
       "      <td>10</td>\n",
       "      <td>113</td>\n",
       "    </tr>\n",
       "    <tr>\n",
       "      <th>4</th>\n",
       "      <td>5</td>\n",
       "      <td>1</td>\n",
       "      <td>10</td>\n",
       "      <td>65</td>\n",
       "    </tr>\n",
       "  </tbody>\n",
       "</table>\n",
       "</div>"
      ],
      "text/plain": [
       "   day  grape_juice  cantalop_juice  apple_juice\n",
       "0    1            0              10           96\n",
       "1    2            3              10           92\n",
       "2    3            1               9           84\n",
       "3    4            2              10          113\n",
       "4    5            1              10           65"
      ]
     },
     "execution_count": 17,
     "metadata": {},
     "output_type": "execute_result"
    }
   ],
   "source": [
    "# Import data\n",
    "skus = pd.read_csv('sku_distributions.csv')\n",
    "skus.head()"
   ]
  },
  {
   "cell_type": "code",
   "execution_count": 18,
   "id": "82c7a94a-fa03-4eb3-85fa-9d534365b3f5",
   "metadata": {},
   "outputs": [
    {
     "name": "stdout",
     "output_type": "stream",
     "text": [
      "Mean of the apple juice data: 100.73873873873873\n",
      "Standard deviation of the apple juice data: 20.190256493370235\n"
     ]
    },
    {
     "data": {
      "text/plain": [
       "KstestResult(statistic=np.float64(0.04011911785947586), pvalue=np.float64(0.6423077067552097), statistic_location=np.int64(100), statistic_sign=np.int8(1))"
      ]
     },
     "execution_count": 18,
     "metadata": {},
     "output_type": "execute_result"
    }
   ],
   "source": [
    "# Apple juice data\n",
    "apple_juice = np.array(skus['apple_juice'])\n",
    "\n",
    "# Mean of the apple juice data\n",
    "mean = apple_juice.mean()\n",
    "print(f'''Mean of the apple juice data: {mean}''')\n",
    "\n",
    "# Standard deviation of the apple juice data\n",
    "std = apple_juice.std()\n",
    "print(f'''Standard deviation of the apple juice data: {std}''')\n",
    "\n",
    "# Kolmogorov-Smirnov test\n",
    "# Null hypothesis: The data is normally distributed\n",
    "# Alternative hypothesis: The data is not normally distributed\n",
    "kstest(apple_juice, 'norm', args=(mean, std))"
   ]
  },
  {
   "cell_type": "code",
   "execution_count": 19,
   "id": "4e41b197-6d83-457e-ad8f-cbedfd03ef89",
   "metadata": {},
   "outputs": [],
   "source": [
    "# Distribution name\n",
    "distribution_name = ['norm',\n",
    "                     'exponweib',\n",
    "                     'weibull_max',\n",
    "                     'weibull_min',\n",
    "                     'pareto',\n",
    "                     'genextreme']\n",
    "\n",
    "# Empty list to store the result\n",
    "result = []\n",
    "\n",
    "# Parameters of the distribution\n",
    "parameters = dict({})"
   ]
  },
  {
   "cell_type": "code",
   "execution_count": 20,
   "id": "806bca65-4915-4130-b1b6-a2a7007ee1ba",
   "metadata": {},
   "outputs": [
    {
     "data": {
      "text/plain": [
       "(np.float64(100.73873873873873), np.float64(20.190256493370235))"
      ]
     },
     "execution_count": 20,
     "metadata": {},
     "output_type": "execute_result"
    }
   ],
   "source": [
    "# Example of fitting the data into the distribution for normal distribution\n",
    "norm_parameter = getattr(st, 'norm')\n",
    "norm_parameter.fit(apple_juice)"
   ]
  },
  {
   "cell_type": "code",
   "execution_count": 21,
   "id": "1b83f9d2-10f2-43c6-bea9-ae26888d4536",
   "metadata": {},
   "outputs": [
    {
     "name": "stdout",
     "output_type": "stream",
     "text": [
      "The p-value for norm distribution is 0.6423077067552097\n",
      "The p-value for exponweib distribution is 1.1842591378527991e-172\n",
      "The p-value for weibull_max distribution is 2.2685136143704785e-247\n",
      "The p-value for weibull_min distribution is 0.34810501680216566\n",
      "The p-value for pareto distribution is 1.6172750367237305e-31\n",
      "The p-value for genextreme distribution is 0.26068355451614744\n"
     ]
    },
    {
     "name": "stderr",
     "output_type": "stream",
     "text": [
      "C:\\Users\\thanh\\AppData\\Local\\Packages\\PythonSoftwareFoundation.Python.3.11_qbz5n2kfra8p0\\LocalCache\\local-packages\\Python311\\site-packages\\scipy\\stats\\_continuous_distns.py:2313: RuntimeWarning: invalid value encountered in add\n",
      "  logp = (np.log(a) + np.log(c) + sc.xlogy(a - 1.0, exm1c) +\n"
     ]
    }
   ],
   "source": [
    "# Kolmogorov-Smirnov test for each distribution\n",
    "for i in distribution_name:\n",
    "    parameters = getattr(st, i)\n",
    "    fitting = parameters.fit(apple_juice)\n",
    "    test = kstest(apple_juice, i, args=fitting)\n",
    "    result.append([i,test])\n",
    "    print(f'''The p-value for {i} distribution is {str(test[1])}''')"
   ]
  }
 ],
 "metadata": {
  "kernelspec": {
   "display_name": "Python 3",
   "language": "python",
   "name": "python3"
  },
  "language_info": {
   "codemirror_mode": {
    "name": "ipython",
    "version": 3
   },
   "file_extension": ".py",
   "mimetype": "text/x-python",
   "name": "python",
   "nbconvert_exporter": "python",
   "pygments_lexer": "ipython3",
   "version": "3.11.9"
  }
 },
 "nbformat": 4,
 "nbformat_minor": 5
}
