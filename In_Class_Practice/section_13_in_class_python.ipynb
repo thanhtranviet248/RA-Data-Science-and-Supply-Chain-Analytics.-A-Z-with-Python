{
 "cells": [
  {
   "cell_type": "code",
   "execution_count": 1,
   "id": "3fe90d4d-9624-4d18-b3f2-29383c6e1e4d",
   "metadata": {},
   "outputs": [],
   "source": [
    "# Import packages\n",
    "import numpy as np\n",
    "import matplotlib.pyplot as plt"
   ]
  },
  {
   "cell_type": "code",
   "execution_count": 2,
   "id": "b4f2d703-2faa-482b-9fef-75c071e6a08a",
   "metadata": {},
   "outputs": [],
   "source": [
    "# Define parameters\n",
    "rate = 1\n",
    "mean_service = 1\n",
    "sd = 0.2"
   ]
  },
  {
   "cell_type": "code",
   "execution_count": 3,
   "id": "9d4f8baf-3bcd-4c74-ba2d-80f9527378a7",
   "metadata": {},
   "outputs": [
    {
     "name": "stdout",
     "output_type": "stream",
     "text": [
      "Arrival time: [2.71571712 3.08733655 3.47112422 4.3909862  4.54499439 5.56523402\n",
      " 6.10062481 6.37183004 6.49521533 6.90701088]\n",
      "Service time: [0.9316119  1.27150502 0.90907894 1.04813593 0.93192148 1.19792492\n",
      " 0.72061695 1.05217245 0.62960576 1.1594749 ]\n"
     ]
    }
   ],
   "source": [
    "# Generate arrival time with exponential distribution\n",
    "arrival_time = np.random.exponential(scale=1/rate, size=400).cumsum()\n",
    "print(f'Arrival time: {arrival_time[:10]}')\n",
    "\n",
    "# Generate arrival time with normal distribution\n",
    "service_time = np.random.normal(loc=mean_service, scale=sd, size=400)\n",
    "print(f'Service time: {service_time[:10]}')"
   ]
  },
  {
   "cell_type": "code",
   "execution_count": 4,
   "id": "9b5d4fbc-a8bc-4d26-bc37-09cd9a7f0541",
   "metadata": {},
   "outputs": [
    {
     "data": {
      "text/plain": [
       "np.float64(30.302214304612427)"
      ]
     },
     "execution_count": 4,
     "metadata": {},
     "output_type": "execute_result"
    }
   ],
   "source": [
    "# Define function to calculate mean waiting time\n",
    "def waiting_mean(arrival_time, service_time):\n",
    "    waiting_time = []\n",
    "    leaving_time = []\n",
    "\n",
    "    waiting_time.append(0)\n",
    "    leaving_time.append(arrival_time[0] + service_time[0] + waiting_time[0])\n",
    "\n",
    "    for i in range(1, len(arrival_time)):\n",
    "        waiting_time.append(max(0, leaving_time[i-1] - arrival_time[i]))\n",
    "        leaving_time.append(arrival_time[i] + service_time[i] + waiting_time[i])\n",
    "\n",
    "    mean_waiting = np.mean(waiting_time)\n",
    "    return mean_waiting\n",
    "\n",
    "# Run the function\n",
    "waiting_mean(arrival_time, service_time)"
   ]
  },
  {
   "cell_type": "code",
   "execution_count": 5,
   "id": "22a490ff-1dee-4e5a-aa58-baaca921cc5a",
   "metadata": {},
   "outputs": [
    {
     "name": "stdout",
     "output_type": "stream",
     "text": [
      "Mean: 8.773520574924188\n",
      "Median: 10.195662623091799\n"
     ]
    },
    {
     "data": {
      "image/png": "[encoded data removed]",
      "text/plain": [
       "<Figure size 640x480 with 1 Axes>"
      ]
     },
     "metadata": {},
     "output_type": "display_data"
    }
   ],
   "source": [
    "# Run the simulation 1000 times\n",
    "average_sim = []\n",
    "for i in range(1000):\n",
    "    arrival_time = np.random.exponential(scale = 1/rate, size = 400).cumsum()\n",
    "    service_time = np.random.normal(loc = mean_service, scale = sd, size = 400)\n",
    "    waiting_time = waiting_mean(arrival_time, service_time)\n",
    "    average_sim.append(waiting_time)\n",
    "\n",
    "# Plot the histogram of the average waiting time\n",
    "plt.hist(average_sim)\n",
    "\n",
    "# Mean and median of the average waiting time\n",
    "print(f'Mean: {np.median(average_sim)}')\n",
    "print(f'Median: {np.mean(average_sim)}')"
   ]
  }
 ],
 "metadata": {
  "kernelspec": {
   "display_name": "Python 3",
   "language": "python",
   "name": "python3"
  },
  "language_info": {
   "codemirror_mode": {
    "name": "ipython",
    "version": 3
   },
   "file_extension": ".py",
   "mimetype": "text/x-python",
   "name": "python",
   "nbconvert_exporter": "python",
   "pygments_lexer": "ipython3",
   "version": "3.11.9"
  }
 },
 "nbformat": 4,
 "nbformat_minor": 5
}
