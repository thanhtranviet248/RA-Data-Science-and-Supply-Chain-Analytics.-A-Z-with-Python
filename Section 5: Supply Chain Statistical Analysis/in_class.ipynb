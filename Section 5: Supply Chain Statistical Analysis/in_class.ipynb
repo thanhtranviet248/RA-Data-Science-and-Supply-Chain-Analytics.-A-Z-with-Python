{
 "cells": [
  {
   "cell_type": "markdown",
   "id": "df221ac5-e266-4daf-b795-4353ee3fb308",
   "metadata": {
    "jp-MarkdownHeadingCollapsed": true
   },
   "source": [
    "## Measure of centrality"
   ]
  },
  {
   "cell_type": "code",
   "execution_count": 2,
   "id": "7bea61f5-355d-4078-92dc-8c21fb8a31c6",
   "metadata": {},
   "outputs": [],
   "source": [
    "import numpy as np"
   ]
  },
  {
   "cell_type": "code",
   "execution_count": 3,
   "id": "9543111e-d561-40a7-80cd-1593d0c443be",
   "metadata": {},
   "outputs": [],
   "source": [
    "pineapple_juice = np.random.uniform(2,500,1000).round()"
   ]
  },
  {
   "cell_type": "code",
   "execution_count": 4,
   "id": "40175bd2-29e7-4841-b166-589ea70cc331",
   "metadata": {},
   "outputs": [],
   "source": [
    "import matplotlib.pyplot as plt"
   ]
  },
  {
   "cell_type": "code",
   "execution_count": 5,
   "id": "80e04f25-8782-4587-b8f4-7d68cc277470",
   "metadata": {},
   "outputs": [
    {
     "data": {
      "text/plain": [
       "(array([110., 100., 103.,  84., 103., 100., 104., 101., 104.,  91.]),\n",
       " array([  2. ,  51.8, 101.6, 151.4, 201.2, 251. , 300.8, 350.6, 400.4,\n",
       "        450.2, 500. ]),\n",
       " <BarContainer object of 10 artists>)"
      ]
     },
     "execution_count": 5,
     "metadata": {},
     "output_type": "execute_result"
    },
    {
     "data": {
      "image/png": "[encoded data removed]",
      "text/plain": [
       "<Figure size 640x480 with 1 Axes>"
      ]
     },
     "metadata": {},
     "output_type": "display_data"
    }
   ],
   "source": [
    "plt.hist(pineapple_juice)"
   ]
  },
  {
   "cell_type": "code",
   "execution_count": 6,
   "id": "e27f698e-7653-4f57-a932-990501941718",
   "metadata": {},
   "outputs": [
    {
     "data": {
      "text/plain": [
       "248.719"
      ]
     },
     "execution_count": 6,
     "metadata": {},
     "output_type": "execute_result"
    }
   ],
   "source": [
    "pineapple_juice.mean()"
   ]
  },
  {
   "cell_type": "code",
   "execution_count": 7,
   "id": "69a4a99b-c306-4582-9b42-10b844d1cda2",
   "metadata": {},
   "outputs": [],
   "source": [
    "import statistics"
   ]
  },
  {
   "cell_type": "code",
   "execution_count": 8,
   "id": "25a2b349-326f-48c7-9135-9c8e9228446e",
   "metadata": {},
   "outputs": [
    {
     "data": {
      "text/plain": [
       "248.719"
      ]
     },
     "execution_count": 8,
     "metadata": {},
     "output_type": "execute_result"
    }
   ],
   "source": [
    "statistics.mean(pineapple_juice)"
   ]
  },
  {
   "cell_type": "code",
   "execution_count": 9,
   "id": "b57b567c-dd46-46b2-8497-6d70dc3e17ad",
   "metadata": {},
   "outputs": [
    {
     "data": {
      "text/plain": [
       "250.5"
      ]
     },
     "execution_count": 9,
     "metadata": {},
     "output_type": "execute_result"
    }
   ],
   "source": [
    "statistics.median(pineapple_juice)"
   ]
  },
  {
   "cell_type": "code",
   "execution_count": 10,
   "id": "37f8d5dc-c278-4b52-9880-1cefdfa784c2",
   "metadata": {},
   "outputs": [
    {
     "data": {
      "text/plain": [
       "103.0"
      ]
     },
     "execution_count": 10,
     "metadata": {},
     "output_type": "execute_result"
    }
   ],
   "source": [
    "statistics.mode(pineapple_juice)"
   ]
  },
  {
   "cell_type": "markdown",
   "id": "6ab791fa-94df-4f9c-b0b3-ee2cd345bad5",
   "metadata": {
    "jp-MarkdownHeadingCollapsed": true
   },
   "source": [
    "## Measure of spread"
   ]
  },
  {
   "cell_type": "code",
   "execution_count": 12,
   "id": "08dea65e-723a-4f7c-a47c-c34d86979dab",
   "metadata": {},
   "outputs": [
    {
     "data": {
      "text/plain": [
       "145.21916073178375"
      ]
     },
     "execution_count": 12,
     "metadata": {},
     "output_type": "execute_result"
    }
   ],
   "source": [
    "statistics.stdev(pineapple_juice)"
   ]
  },
  {
   "cell_type": "code",
   "execution_count": 13,
   "id": "0a7e6062-f589-464b-bbb9-fff30c6b695b",
   "metadata": {},
   "outputs": [
    {
     "data": {
      "text/plain": [
       "498.0"
      ]
     },
     "execution_count": 13,
     "metadata": {},
     "output_type": "execute_result"
    }
   ],
   "source": [
    "def range_data(data):\n",
    "    return data.max() - data.min()\n",
    "\n",
    "range_data(pineapple_juice)"
   ]
  },
  {
   "cell_type": "code",
   "execution_count": 14,
   "id": "f4d9523b-fba7-46ca-9f2d-f6f21cfb048e",
   "metadata": {},
   "outputs": [
    {
     "data": {
      "text/plain": [
       "21088.604643643645"
      ]
     },
     "execution_count": 14,
     "metadata": {},
     "output_type": "execute_result"
    }
   ],
   "source": [
    "statistics.variance(pineapple_juice)"
   ]
  },
  {
   "cell_type": "code",
   "execution_count": 15,
   "id": "85e74702-b3f8-41c3-85a4-f8f72c5fd2ac",
   "metadata": {},
   "outputs": [
    {
     "data": {
      "text/plain": [
       "118.0"
      ]
     },
     "execution_count": 15,
     "metadata": {},
     "output_type": "execute_result"
    }
   ],
   "source": [
    "np.percentile(pineapple_juice,25)"
   ]
  },
  {
   "cell_type": "code",
   "execution_count": 16,
   "id": "0126f8df-83e5-4f05-a8fc-5e24b2ac2073",
   "metadata": {},
   "outputs": [
    {
     "data": {
      "text/plain": [
       "250.5"
      ]
     },
     "execution_count": 16,
     "metadata": {},
     "output_type": "execute_result"
    }
   ],
   "source": [
    "np.percentile(pineapple_juice,50)"
   ]
  },
  {
   "cell_type": "code",
   "execution_count": 17,
   "id": "84782aff-a0b9-43d7-98c8-f690513b1485",
   "metadata": {},
   "outputs": [
    {
     "data": {
      "text/plain": [
       "374.0"
      ]
     },
     "execution_count": 17,
     "metadata": {},
     "output_type": "execute_result"
    }
   ],
   "source": [
    "np.percentile(pineapple_juice,75)"
   ]
  },
  {
   "cell_type": "markdown",
   "id": "eda93902-8ef2-4ba2-9c6d-b4049eb30bc4",
   "metadata": {},
   "source": [
    "## Correlation"
   ]
  },
  {
   "cell_type": "code",
   "execution_count": 19,
   "id": "5b6a90b8-d786-4d7e-b452-b3a92638cb89",
   "metadata": {},
   "outputs": [],
   "source": [
    "import pandas as pd"
   ]
  },
  {
   "cell_type": "code",
   "execution_count": 20,
   "id": "dcba9c19-a827-48e0-83cf-99f1518122cf",
   "metadata": {},
   "outputs": [],
   "source": [
    "cars = pd.read_csv('cars.csv')"
   ]
  },
  {
   "cell_type": "code",
   "execution_count": 21,
   "id": "73271424-1694-40fd-aae4-4eee92bb35de",
   "metadata": {},
   "outputs": [
    {
     "name": "stdout",
     "output_type": "stream",
     "text": [
      "<class 'pandas.core.frame.DataFrame'>\n",
      "RangeIndex: 428 entries, 0 to 427\n",
      "Data columns (total 19 columns):\n",
      " #   Column                    Non-Null Count  Dtype  \n",
      "---  ------                    --------------  -----  \n",
      " 0   name                      428 non-null    object \n",
      " 1   sports_car                428 non-null    bool   \n",
      " 2   suv                       428 non-null    bool   \n",
      " 3   wagon                     428 non-null    bool   \n",
      " 4   minivan                   428 non-null    bool   \n",
      " 5   pickup                    428 non-null    bool   \n",
      " 6   all_wheel                 428 non-null    bool   \n",
      " 7   rear_wheel                428 non-null    bool   \n",
      " 8   Price                     428 non-null    int64  \n",
      " 9   Dealer_Cost               428 non-null    int64  \n",
      " 10  Engine_size               428 non-null    float64\n",
      " 11  cylenders                 428 non-null    int64  \n",
      " 12  horsepower                428 non-null    int64  \n",
      " 13  city_miles_per_galloon    414 non-null    float64\n",
      " 14  highway_miles_per_Gallon  414 non-null    float64\n",
      " 15  weight                    426 non-null    float64\n",
      " 16  base_wheeel               426 non-null    float64\n",
      " 17  length                    402 non-null    float64\n",
      " 18  width                     400 non-null    float64\n",
      "dtypes: bool(7), float64(7), int64(4), object(1)\n",
      "memory usage: 43.2+ KB\n"
     ]
    }
   ],
   "source": [
    "cars.info()"
   ]
  },
  {
   "cell_type": "code",
   "execution_count": 22,
   "id": "4fa19b67-b3c5-443f-a7ed-743d35a4cef4",
   "metadata": {},
   "outputs": [
    {
     "data": {
      "text/html": [
       "<div>\n",
       "<style scoped>\n",
       "    .dataframe tbody tr th:only-of-type {\n",
       "        vertical-align: middle;\n",
       "    }\n",
       "\n",
       "    .dataframe tbody tr th {\n",
       "        vertical-align: top;\n",
       "    }\n",
       "\n",
       "    .dataframe thead th {\n",
       "        text-align: right;\n",
       "    }\n",
       "</style>\n",
       "<table border=\"1\" class=\"dataframe\">\n",
       "  <thead>\n",
       "    <tr style=\"text-align: right;\">\n",
       "      <th></th>\n",
       "      <th>Price</th>\n",
       "      <th>Dealer_Cost</th>\n",
       "      <th>Engine_size</th>\n",
       "      <th>cylenders</th>\n",
       "      <th>horsepower</th>\n",
       "      <th>city_miles_per_galloon</th>\n",
       "      <th>highway_miles_per_Gallon</th>\n",
       "      <th>weight</th>\n",
       "      <th>base_wheeel</th>\n",
       "      <th>length</th>\n",
       "      <th>width</th>\n",
       "    </tr>\n",
       "  </thead>\n",
       "  <tbody>\n",
       "    <tr>\n",
       "      <th>count</th>\n",
       "      <td>428.000000</td>\n",
       "      <td>428.000000</td>\n",
       "      <td>428.000000</td>\n",
       "      <td>428.000000</td>\n",
       "      <td>428.000000</td>\n",
       "      <td>414.000000</td>\n",
       "      <td>414.000000</td>\n",
       "      <td>426.000000</td>\n",
       "      <td>426.000000</td>\n",
       "      <td>402.000000</td>\n",
       "      <td>400.000000</td>\n",
       "    </tr>\n",
       "    <tr>\n",
       "      <th>mean</th>\n",
       "      <td>32774.855140</td>\n",
       "      <td>30014.700935</td>\n",
       "      <td>3.196729</td>\n",
       "      <td>5.775701</td>\n",
       "      <td>215.885514</td>\n",
       "      <td>20.089372</td>\n",
       "      <td>26.905797</td>\n",
       "      <td>3577.213615</td>\n",
       "      <td>108.173709</td>\n",
       "      <td>185.126866</td>\n",
       "      <td>71.292500</td>\n",
       "    </tr>\n",
       "    <tr>\n",
       "      <th>std</th>\n",
       "      <td>19431.716674</td>\n",
       "      <td>17642.117750</td>\n",
       "      <td>1.108595</td>\n",
       "      <td>1.622779</td>\n",
       "      <td>71.836032</td>\n",
       "      <td>5.213062</td>\n",
       "      <td>5.696804</td>\n",
       "      <td>760.437663</td>\n",
       "      <td>8.326449</td>\n",
       "      <td>13.312523</td>\n",
       "      <td>3.393484</td>\n",
       "    </tr>\n",
       "    <tr>\n",
       "      <th>min</th>\n",
       "      <td>10280.000000</td>\n",
       "      <td>9875.000000</td>\n",
       "      <td>1.300000</td>\n",
       "      <td>-1.000000</td>\n",
       "      <td>73.000000</td>\n",
       "      <td>10.000000</td>\n",
       "      <td>12.000000</td>\n",
       "      <td>1850.000000</td>\n",
       "      <td>89.000000</td>\n",
       "      <td>143.000000</td>\n",
       "      <td>64.000000</td>\n",
       "    </tr>\n",
       "    <tr>\n",
       "      <th>25%</th>\n",
       "      <td>20334.250000</td>\n",
       "      <td>18866.000000</td>\n",
       "      <td>2.375000</td>\n",
       "      <td>4.000000</td>\n",
       "      <td>165.000000</td>\n",
       "      <td>17.000000</td>\n",
       "      <td>24.000000</td>\n",
       "      <td>3102.000000</td>\n",
       "      <td>103.000000</td>\n",
       "      <td>177.000000</td>\n",
       "      <td>69.000000</td>\n",
       "    </tr>\n",
       "    <tr>\n",
       "      <th>50%</th>\n",
       "      <td>27635.000000</td>\n",
       "      <td>25294.500000</td>\n",
       "      <td>3.000000</td>\n",
       "      <td>6.000000</td>\n",
       "      <td>210.000000</td>\n",
       "      <td>19.000000</td>\n",
       "      <td>26.000000</td>\n",
       "      <td>3474.500000</td>\n",
       "      <td>107.000000</td>\n",
       "      <td>186.000000</td>\n",
       "      <td>71.000000</td>\n",
       "    </tr>\n",
       "    <tr>\n",
       "      <th>75%</th>\n",
       "      <td>39205.000000</td>\n",
       "      <td>35710.250000</td>\n",
       "      <td>3.900000</td>\n",
       "      <td>6.000000</td>\n",
       "      <td>255.000000</td>\n",
       "      <td>21.000000</td>\n",
       "      <td>29.000000</td>\n",
       "      <td>3974.250000</td>\n",
       "      <td>112.000000</td>\n",
       "      <td>193.000000</td>\n",
       "      <td>73.000000</td>\n",
       "    </tr>\n",
       "    <tr>\n",
       "      <th>max</th>\n",
       "      <td>192465.000000</td>\n",
       "      <td>173560.000000</td>\n",
       "      <td>8.300000</td>\n",
       "      <td>12.000000</td>\n",
       "      <td>500.000000</td>\n",
       "      <td>60.000000</td>\n",
       "      <td>66.000000</td>\n",
       "      <td>7190.000000</td>\n",
       "      <td>144.000000</td>\n",
       "      <td>227.000000</td>\n",
       "      <td>81.000000</td>\n",
       "    </tr>\n",
       "  </tbody>\n",
       "</table>\n",
       "</div>"
      ],
      "text/plain": [
       "               Price    Dealer_Cost  Engine_size   cylenders  horsepower  \\\n",
       "count     428.000000     428.000000   428.000000  428.000000  428.000000   \n",
       "mean    32774.855140   30014.700935     3.196729    5.775701  215.885514   \n",
       "std     19431.716674   17642.117750     1.108595    1.622779   71.836032   \n",
       "min     10280.000000    9875.000000     1.300000   -1.000000   73.000000   \n",
       "25%     20334.250000   18866.000000     2.375000    4.000000  165.000000   \n",
       "50%     27635.000000   25294.500000     3.000000    6.000000  210.000000   \n",
       "75%     39205.000000   35710.250000     3.900000    6.000000  255.000000   \n",
       "max    192465.000000  173560.000000     8.300000   12.000000  500.000000   \n",
       "\n",
       "       city_miles_per_galloon  highway_miles_per_Gallon       weight  \\\n",
       "count              414.000000                414.000000   426.000000   \n",
       "mean                20.089372                 26.905797  3577.213615   \n",
       "std                  5.213062                  5.696804   760.437663   \n",
       "min                 10.000000                 12.000000  1850.000000   \n",
       "25%                 17.000000                 24.000000  3102.000000   \n",
       "50%                 19.000000                 26.000000  3474.500000   \n",
       "75%                 21.000000                 29.000000  3974.250000   \n",
       "max                 60.000000                 66.000000  7190.000000   \n",
       "\n",
       "       base_wheeel      length       width  \n",
       "count   426.000000  402.000000  400.000000  \n",
       "mean    108.173709  185.126866   71.292500  \n",
       "std       8.326449   13.312523    3.393484  \n",
       "min      89.000000  143.000000   64.000000  \n",
       "25%     103.000000  177.000000   69.000000  \n",
       "50%     107.000000  186.000000   71.000000  \n",
       "75%     112.000000  193.000000   73.000000  \n",
       "max     144.000000  227.000000   81.000000  "
      ]
     },
     "execution_count": 22,
     "metadata": {},
     "output_type": "execute_result"
    }
   ],
   "source": [
    "cars.describe()"
   ]
  },
  {
   "cell_type": "code",
   "execution_count": 23,
   "id": "f1a4aec3-9c16-4cc6-9f34-cbb9c0f9c327",
   "metadata": {},
   "outputs": [
    {
     "data": {
      "text/html": [
       "<div>\n",
       "<style scoped>\n",
       "    .dataframe tbody tr th:only-of-type {\n",
       "        vertical-align: middle;\n",
       "    }\n",
       "\n",
       "    .dataframe tbody tr th {\n",
       "        vertical-align: top;\n",
       "    }\n",
       "\n",
       "    .dataframe thead th {\n",
       "        text-align: right;\n",
       "    }\n",
       "</style>\n",
       "<table border=\"1\" class=\"dataframe\">\n",
       "  <thead>\n",
       "    <tr style=\"text-align: right;\">\n",
       "      <th></th>\n",
       "      <th>horsepower</th>\n",
       "      <th>city_miles_per_galloon</th>\n",
       "    </tr>\n",
       "  </thead>\n",
       "  <tbody>\n",
       "    <tr>\n",
       "      <th>horsepower</th>\n",
       "      <td>1.000000</td>\n",
       "      <td>-0.666256</td>\n",
       "    </tr>\n",
       "    <tr>\n",
       "      <th>city_miles_per_galloon</th>\n",
       "      <td>-0.666256</td>\n",
       "      <td>1.000000</td>\n",
       "    </tr>\n",
       "  </tbody>\n",
       "</table>\n",
       "</div>"
      ],
      "text/plain": [
       "                        horsepower  city_miles_per_galloon\n",
       "horsepower                1.000000               -0.666256\n",
       "city_miles_per_galloon   -0.666256                1.000000"
      ]
     },
     "execution_count": 23,
     "metadata": {},
     "output_type": "execute_result"
    }
   ],
   "source": [
    "cars.loc[:,['horsepower','city_miles_per_galloon']].corr()"
   ]
  },
  {
   "cell_type": "code",
   "execution_count": 24,
   "id": "27fbaaca-94d5-4ee5-b620-9fea86d5ea4f",
   "metadata": {},
   "outputs": [],
   "source": [
    "import matplotlib.pyplot as plt"
   ]
  },
  {
   "cell_type": "code",
   "execution_count": 25,
   "id": "7f240ab9-5017-4ba0-8d38-ec21466d7daf",
   "metadata": {},
   "outputs": [
    {
     "data": {
      "text/plain": [
       "<matplotlib.collections.PathCollection at 0x22692875f50>"
      ]
     },
     "execution_count": 25,
     "metadata": {},
     "output_type": "execute_result"
    },
    {
     "data": {
      "image/png": "[encoded data removed]",
      "text/plain": [
       "<Figure size 640x480 with 1 Axes>"
      ]
     },
     "metadata": {},
     "output_type": "display_data"
    }
   ],
   "source": [
    "plt.scatter(cars['horsepower'],cars['city_miles_per_galloon'])"
   ]
  },
  {
   "cell_type": "code",
   "execution_count": 26,
   "id": "b22c1de4-bb75-4eee-9918-3e80c0e27afd",
   "metadata": {},
   "outputs": [
    {
     "data": {
      "text/html": [
       "<div>\n",
       "<style scoped>\n",
       "    .dataframe tbody tr th:only-of-type {\n",
       "        vertical-align: middle;\n",
       "    }\n",
       "\n",
       "    .dataframe tbody tr th {\n",
       "        vertical-align: top;\n",
       "    }\n",
       "\n",
       "    .dataframe thead th {\n",
       "        text-align: right;\n",
       "    }\n",
       "</style>\n",
       "<table border=\"1\" class=\"dataframe\">\n",
       "  <thead>\n",
       "    <tr style=\"text-align: right;\">\n",
       "      <th></th>\n",
       "      <th>Price</th>\n",
       "      <th>horsepower</th>\n",
       "      <th>city_miles_per_galloon</th>\n",
       "      <th>weight</th>\n",
       "      <th>length</th>\n",
       "    </tr>\n",
       "  </thead>\n",
       "  <tbody>\n",
       "    <tr>\n",
       "      <th>0</th>\n",
       "      <td>11690</td>\n",
       "      <td>103</td>\n",
       "      <td>28.0</td>\n",
       "      <td>2370.0</td>\n",
       "      <td>167.0</td>\n",
       "    </tr>\n",
       "    <tr>\n",
       "      <th>1</th>\n",
       "      <td>12585</td>\n",
       "      <td>103</td>\n",
       "      <td>28.0</td>\n",
       "      <td>2348.0</td>\n",
       "      <td>153.0</td>\n",
       "    </tr>\n",
       "    <tr>\n",
       "      <th>2</th>\n",
       "      <td>14610</td>\n",
       "      <td>140</td>\n",
       "      <td>26.0</td>\n",
       "      <td>2617.0</td>\n",
       "      <td>183.0</td>\n",
       "    </tr>\n",
       "    <tr>\n",
       "      <th>3</th>\n",
       "      <td>14810</td>\n",
       "      <td>140</td>\n",
       "      <td>26.0</td>\n",
       "      <td>2676.0</td>\n",
       "      <td>183.0</td>\n",
       "    </tr>\n",
       "    <tr>\n",
       "      <th>4</th>\n",
       "      <td>16385</td>\n",
       "      <td>140</td>\n",
       "      <td>26.0</td>\n",
       "      <td>2617.0</td>\n",
       "      <td>183.0</td>\n",
       "    </tr>\n",
       "    <tr>\n",
       "      <th>...</th>\n",
       "      <td>...</td>\n",
       "      <td>...</td>\n",
       "      <td>...</td>\n",
       "      <td>...</td>\n",
       "      <td>...</td>\n",
       "    </tr>\n",
       "    <tr>\n",
       "      <th>423</th>\n",
       "      <td>26650</td>\n",
       "      <td>305</td>\n",
       "      <td>14.0</td>\n",
       "      <td>5287.0</td>\n",
       "      <td>NaN</td>\n",
       "    </tr>\n",
       "    <tr>\n",
       "      <th>424</th>\n",
       "      <td>24520</td>\n",
       "      <td>165</td>\n",
       "      <td>21.0</td>\n",
       "      <td>3485.0</td>\n",
       "      <td>NaN</td>\n",
       "    </tr>\n",
       "    <tr>\n",
       "      <th>425</th>\n",
       "      <td>12800</td>\n",
       "      <td>142</td>\n",
       "      <td>22.0</td>\n",
       "      <td>2750.0</td>\n",
       "      <td>NaN</td>\n",
       "    </tr>\n",
       "    <tr>\n",
       "      <th>426</th>\n",
       "      <td>16495</td>\n",
       "      <td>190</td>\n",
       "      <td>16.0</td>\n",
       "      <td>3925.0</td>\n",
       "      <td>NaN</td>\n",
       "    </tr>\n",
       "    <tr>\n",
       "      <th>427</th>\n",
       "      <td>25935</td>\n",
       "      <td>190</td>\n",
       "      <td>14.0</td>\n",
       "      <td>4435.0</td>\n",
       "      <td>NaN</td>\n",
       "    </tr>\n",
       "  </tbody>\n",
       "</table>\n",
       "<p>428 rows × 5 columns</p>\n",
       "</div>"
      ],
      "text/plain": [
       "     Price  horsepower  city_miles_per_galloon  weight  length\n",
       "0    11690         103                    28.0  2370.0   167.0\n",
       "1    12585         103                    28.0  2348.0   153.0\n",
       "2    14610         140                    26.0  2617.0   183.0\n",
       "3    14810         140                    26.0  2676.0   183.0\n",
       "4    16385         140                    26.0  2617.0   183.0\n",
       "..     ...         ...                     ...     ...     ...\n",
       "423  26650         305                    14.0  5287.0     NaN\n",
       "424  24520         165                    21.0  3485.0     NaN\n",
       "425  12800         142                    22.0  2750.0     NaN\n",
       "426  16495         190                    16.0  3925.0     NaN\n",
       "427  25935         190                    14.0  4435.0     NaN\n",
       "\n",
       "[428 rows x 5 columns]"
      ]
     },
     "execution_count": 26,
     "metadata": {},
     "output_type": "execute_result"
    }
   ],
   "source": [
    "cars[['Price','horsepower','city_miles_per_galloon','weight','length']]"
   ]
  },
  {
   "cell_type": "code",
   "execution_count": 27,
   "id": "f48e9a25-0103-4d83-98d3-c9a447ca9c11",
   "metadata": {},
   "outputs": [
    {
     "data": {
      "text/html": [
       "<div>\n",
       "<style scoped>\n",
       "    .dataframe tbody tr th:only-of-type {\n",
       "        vertical-align: middle;\n",
       "    }\n",
       "\n",
       "    .dataframe tbody tr th {\n",
       "        vertical-align: top;\n",
       "    }\n",
       "\n",
       "    .dataframe thead th {\n",
       "        text-align: right;\n",
       "    }\n",
       "</style>\n",
       "<table border=\"1\" class=\"dataframe\">\n",
       "  <thead>\n",
       "    <tr style=\"text-align: right;\">\n",
       "      <th></th>\n",
       "      <th>Price</th>\n",
       "      <th>horsepower</th>\n",
       "      <th>city_miles_per_galloon</th>\n",
       "      <th>weight</th>\n",
       "      <th>length</th>\n",
       "    </tr>\n",
       "  </thead>\n",
       "  <tbody>\n",
       "    <tr>\n",
       "      <th>Price</th>\n",
       "      <td>1.000000</td>\n",
       "      <td>0.826945</td>\n",
       "      <td>-0.461130</td>\n",
       "      <td>0.449336</td>\n",
       "      <td>0.214889</td>\n",
       "    </tr>\n",
       "    <tr>\n",
       "      <th>horsepower</th>\n",
       "      <td>0.826945</td>\n",
       "      <td>1.000000</td>\n",
       "      <td>-0.666256</td>\n",
       "      <td>0.631525</td>\n",
       "      <td>0.379936</td>\n",
       "    </tr>\n",
       "    <tr>\n",
       "      <th>city_miles_per_galloon</th>\n",
       "      <td>-0.461130</td>\n",
       "      <td>-0.666256</td>\n",
       "      <td>1.000000</td>\n",
       "      <td>-0.737192</td>\n",
       "      <td>-0.464826</td>\n",
       "    </tr>\n",
       "    <tr>\n",
       "      <th>weight</th>\n",
       "      <td>0.449336</td>\n",
       "      <td>0.631525</td>\n",
       "      <td>-0.737192</td>\n",
       "      <td>1.000000</td>\n",
       "      <td>0.667169</td>\n",
       "    </tr>\n",
       "    <tr>\n",
       "      <th>length</th>\n",
       "      <td>0.214889</td>\n",
       "      <td>0.379936</td>\n",
       "      <td>-0.464826</td>\n",
       "      <td>0.667169</td>\n",
       "      <td>1.000000</td>\n",
       "    </tr>\n",
       "  </tbody>\n",
       "</table>\n",
       "</div>"
      ],
      "text/plain": [
       "                           Price  horsepower  city_miles_per_galloon  \\\n",
       "Price                   1.000000    0.826945               -0.461130   \n",
       "horsepower              0.826945    1.000000               -0.666256   \n",
       "city_miles_per_galloon -0.461130   -0.666256                1.000000   \n",
       "weight                  0.449336    0.631525               -0.737192   \n",
       "length                  0.214889    0.379936               -0.464826   \n",
       "\n",
       "                          weight    length  \n",
       "Price                   0.449336  0.214889  \n",
       "horsepower              0.631525  0.379936  \n",
       "city_miles_per_galloon -0.737192 -0.464826  \n",
       "weight                  1.000000  0.667169  \n",
       "length                  0.667169  1.000000  "
      ]
     },
     "execution_count": 27,
     "metadata": {},
     "output_type": "execute_result"
    }
   ],
   "source": [
    "cars[['Price','horsepower','city_miles_per_galloon','weight','length']].corr()"
   ]
  },
  {
   "cell_type": "code",
   "execution_count": 28,
   "id": "b123977b-3ceb-437f-8a2c-8002b47f6c40",
   "metadata": {},
   "outputs": [],
   "source": [
    "cars_clean = cars.dropna(axis=0)"
   ]
  },
  {
   "cell_type": "code",
   "execution_count": 29,
   "id": "9fda2878-ad49-4c86-89c2-d680e904d53c",
   "metadata": {},
   "outputs": [
    {
     "data": {
      "text/html": [
       "<div>\n",
       "<style scoped>\n",
       "    .dataframe tbody tr th:only-of-type {\n",
       "        vertical-align: middle;\n",
       "    }\n",
       "\n",
       "    .dataframe tbody tr th {\n",
       "        vertical-align: top;\n",
       "    }\n",
       "\n",
       "    .dataframe thead th {\n",
       "        text-align: right;\n",
       "    }\n",
       "</style>\n",
       "<table border=\"1\" class=\"dataframe\">\n",
       "  <thead>\n",
       "    <tr style=\"text-align: right;\">\n",
       "      <th></th>\n",
       "      <th>Price</th>\n",
       "      <th>horsepower</th>\n",
       "      <th>city_miles_per_galloon</th>\n",
       "      <th>weight</th>\n",
       "      <th>length</th>\n",
       "    </tr>\n",
       "  </thead>\n",
       "  <tbody>\n",
       "    <tr>\n",
       "      <th>Price</th>\n",
       "      <td>1.000000</td>\n",
       "      <td>0.835074</td>\n",
       "      <td>-0.485213</td>\n",
       "      <td>0.475994</td>\n",
       "      <td>0.209553</td>\n",
       "    </tr>\n",
       "    <tr>\n",
       "      <th>horsepower</th>\n",
       "      <td>0.835074</td>\n",
       "      <td>1.000000</td>\n",
       "      <td>-0.671801</td>\n",
       "      <td>0.631058</td>\n",
       "      <td>0.381426</td>\n",
       "    </tr>\n",
       "    <tr>\n",
       "      <th>city_miles_per_galloon</th>\n",
       "      <td>-0.485213</td>\n",
       "      <td>-0.671801</td>\n",
       "      <td>1.000000</td>\n",
       "      <td>-0.736166</td>\n",
       "      <td>-0.467586</td>\n",
       "    </tr>\n",
       "    <tr>\n",
       "      <th>weight</th>\n",
       "      <td>0.475994</td>\n",
       "      <td>0.631058</td>\n",
       "      <td>-0.736166</td>\n",
       "      <td>1.000000</td>\n",
       "      <td>0.652893</td>\n",
       "    </tr>\n",
       "    <tr>\n",
       "      <th>length</th>\n",
       "      <td>0.209553</td>\n",
       "      <td>0.381426</td>\n",
       "      <td>-0.467586</td>\n",
       "      <td>0.652893</td>\n",
       "      <td>1.000000</td>\n",
       "    </tr>\n",
       "  </tbody>\n",
       "</table>\n",
       "</div>"
      ],
      "text/plain": [
       "                           Price  horsepower  city_miles_per_galloon  \\\n",
       "Price                   1.000000    0.835074               -0.485213   \n",
       "horsepower              0.835074    1.000000               -0.671801   \n",
       "city_miles_per_galloon -0.485213   -0.671801                1.000000   \n",
       "weight                  0.475994    0.631058               -0.736166   \n",
       "length                  0.209553    0.381426               -0.467586   \n",
       "\n",
       "                          weight    length  \n",
       "Price                   0.475994  0.209553  \n",
       "horsepower              0.631058  0.381426  \n",
       "city_miles_per_galloon -0.736166 -0.467586  \n",
       "weight                  1.000000  0.652893  \n",
       "length                  0.652893  1.000000  "
      ]
     },
     "execution_count": 29,
     "metadata": {},
     "output_type": "execute_result"
    }
   ],
   "source": [
    "correlation_data = cars_clean[['Price','horsepower','city_miles_per_galloon','weight','length']].corr()\n",
    "correlation_data"
   ]
  },
  {
   "cell_type": "code",
   "execution_count": 30,
   "id": "47e4e7ce-8c69-40ab-9ce0-a96f420be4a0",
   "metadata": {},
   "outputs": [],
   "source": [
    "import seaborn as sns"
   ]
  },
  {
   "cell_type": "code",
   "execution_count": 31,
   "id": "8f3fec50-e6aa-442c-99e3-c2f0a1f657d8",
   "metadata": {},
   "outputs": [
    {
     "data": {
      "text/plain": [
       "<Axes: >"
      ]
     },
     "execution_count": 31,
     "metadata": {},
     "output_type": "execute_result"
    },
    {
     "data": {
      "image/png": "[encoded data removed]",
      "text/plain": [
       "<Figure size 640x480 with 2 Axes>"
      ]
     },
     "metadata": {},
     "output_type": "display_data"
    }
   ],
   "source": [
    "sns.heatmap(correlation_data)"
   ]
  },
  {
   "cell_type": "markdown",
   "id": "06e7f20c-1124-4716-8a3c-40e9f4303238",
   "metadata": {
    "jp-MarkdownHeadingCollapsed": true
   },
   "source": [
    "## Outliers"
   ]
  },
  {
   "cell_type": "code",
   "execution_count": 33,
   "id": "4c981ce4-9936-40bf-bf71-81e2568dcf15",
   "metadata": {},
   "outputs": [],
   "source": [
    "sales = np.array([5,8,10,20,100,2,65,18,32,25,200,9,15])"
   ]
  },
  {
   "cell_type": "code",
   "execution_count": 34,
   "id": "f230ca56-3ba5-43fa-93a1-3f02672392f8",
   "metadata": {},
   "outputs": [
    {
     "data": {
      "text/plain": [
       "9.0"
      ]
     },
     "execution_count": 34,
     "metadata": {},
     "output_type": "execute_result"
    }
   ],
   "source": [
    "first = np.percentile(sales,25)\n",
    "first"
   ]
  },
  {
   "cell_type": "code",
   "execution_count": 35,
   "id": "ba07e6e6-1ef2-4ffd-8cb6-c95dbe875ac9",
   "metadata": {},
   "outputs": [
    {
     "data": {
      "text/plain": [
       "18.0"
      ]
     },
     "execution_count": 35,
     "metadata": {},
     "output_type": "execute_result"
    }
   ],
   "source": [
    "second = np.percentile(sales,50)\n",
    "second"
   ]
  },
  {
   "cell_type": "code",
   "execution_count": 36,
   "id": "586a058e-118c-4a5c-9972-626d9ad1c28c",
   "metadata": {},
   "outputs": [
    {
     "data": {
      "text/plain": [
       "32.0"
      ]
     },
     "execution_count": 36,
     "metadata": {},
     "output_type": "execute_result"
    }
   ],
   "source": [
    "third = np.percentile(sales,75)\n",
    "third"
   ]
  },
  {
   "cell_type": "code",
   "execution_count": 37,
   "id": "1f6877da-5f87-47c5-acf1-45b7c1f4900e",
   "metadata": {},
   "outputs": [
    {
     "data": {
      "text/plain": [
       "23.0"
      ]
     },
     "execution_count": 37,
     "metadata": {},
     "output_type": "execute_result"
    }
   ],
   "source": [
    "iqr = third - first\n",
    "iqr"
   ]
  },
  {
   "cell_type": "code",
   "execution_count": 38,
   "id": "b5c8a415-818c-4004-8f46-9d79fdd3b90f",
   "metadata": {},
   "outputs": [
    {
     "data": {
      "text/plain": [
       "66.5"
      ]
     },
     "execution_count": 38,
     "metadata": {},
     "output_type": "execute_result"
    }
   ],
   "source": [
    "upper_threshold = third + iqr*1.5\n",
    "upper_threshold"
   ]
  },
  {
   "cell_type": "code",
   "execution_count": 39,
   "id": "bbdc23f1-ee44-46f8-ab7a-ea04fda273d5",
   "metadata": {},
   "outputs": [
    {
     "data": {
      "text/plain": [
       "-25.5"
      ]
     },
     "execution_count": 39,
     "metadata": {},
     "output_type": "execute_result"
    }
   ],
   "source": [
    "lower_threshold = first - iqr*1.5\n",
    "lower_threshold"
   ]
  },
  {
   "cell_type": "code",
   "execution_count": 40,
   "id": "f09fbfed-cab0-48c2-95ee-62ca67f10979",
   "metadata": {},
   "outputs": [],
   "source": [
    "def outlier_function(x):\n",
    "    first = np.percentile(x,25)\n",
    "    third = np.percentile(x,75)\n",
    "    iqr = third - first\n",
    "    upper_threshold = third + iqr*1.5\n",
    "    lower_threshold = first - iqr*1.5\n",
    "    outliers = dict({'upper_outliers':x[x>upper_threshold],'lower_outliers':x[x<lower_threshold]})\n",
    "    return outliers"
   ]
  },
  {
   "cell_type": "code",
   "execution_count": 41,
   "id": "2b8e34ce-7e3f-434a-9d19-affad565eaf7",
   "metadata": {},
   "outputs": [
    {
     "data": {
      "text/plain": [
       "{'upper_outliers': array([100, 200]), 'lower_outliers': array([], dtype=int32)}"
      ]
     },
     "execution_count": 41,
     "metadata": {},
     "output_type": "execute_result"
    }
   ],
   "source": [
    "outlier_function(sales)"
   ]
  },
  {
   "cell_type": "markdown",
   "id": "19cd1a24-649a-47a8-8cb1-f1cfdf09b4d0",
   "metadata": {
    "jp-MarkdownHeadingCollapsed": true
   },
   "source": [
    "## Linear Regression"
   ]
  },
  {
   "cell_type": "code",
   "execution_count": 43,
   "id": "bd81ac70-1ca6-4ee1-bde0-719deb60771b",
   "metadata": {},
   "outputs": [],
   "source": [
    "from sklearn.linear_model import LinearRegression"
   ]
  },
  {
   "cell_type": "code",
   "execution_count": 44,
   "id": "1a47252a-e8aa-4944-b682-04849bd115dc",
   "metadata": {},
   "outputs": [
    {
     "data": {
      "text/html": [
       "<div>\n",
       "<style scoped>\n",
       "    .dataframe tbody tr th:only-of-type {\n",
       "        vertical-align: middle;\n",
       "    }\n",
       "\n",
       "    .dataframe tbody tr th {\n",
       "        vertical-align: top;\n",
       "    }\n",
       "\n",
       "    .dataframe thead th {\n",
       "        text-align: right;\n",
       "    }\n",
       "</style>\n",
       "<table border=\"1\" class=\"dataframe\">\n",
       "  <thead>\n",
       "    <tr style=\"text-align: right;\">\n",
       "      <th></th>\n",
       "      <th>Demand</th>\n",
       "      <th>Price</th>\n",
       "    </tr>\n",
       "  </thead>\n",
       "  <tbody>\n",
       "    <tr>\n",
       "      <th>0</th>\n",
       "      <td>400</td>\n",
       "      <td>10.0</td>\n",
       "    </tr>\n",
       "    <tr>\n",
       "      <th>1</th>\n",
       "      <td>380</td>\n",
       "      <td>12.0</td>\n",
       "    </tr>\n",
       "    <tr>\n",
       "      <th>2</th>\n",
       "      <td>370</td>\n",
       "      <td>13.0</td>\n",
       "    </tr>\n",
       "    <tr>\n",
       "      <th>3</th>\n",
       "      <td>390</td>\n",
       "      <td>11.0</td>\n",
       "    </tr>\n",
       "    <tr>\n",
       "      <th>4</th>\n",
       "      <td>395</td>\n",
       "      <td>10.5</td>\n",
       "    </tr>\n",
       "  </tbody>\n",
       "</table>\n",
       "</div>"
      ],
      "text/plain": [
       "   Demand  Price\n",
       "0     400   10.0\n",
       "1     380   12.0\n",
       "2     370   13.0\n",
       "3     390   11.0\n",
       "4     395   10.5"
      ]
     },
     "execution_count": 44,
     "metadata": {},
     "output_type": "execute_result"
    }
   ],
   "source": [
    "pricing = pd.read_excel('pricing.xlsx')\n",
    "pricing.head()"
   ]
  },
  {
   "cell_type": "code",
   "execution_count": 45,
   "id": "bd7f4296-34fe-4fa9-a96d-78b1d74eec1c",
   "metadata": {},
   "outputs": [],
   "source": [
    "X = pricing['Price']\n",
    "y = pricing['Demand']"
   ]
  },
  {
   "cell_type": "code",
   "execution_count": 46,
   "id": "566a1441-f213-465c-b6c9-962e57fc164c",
   "metadata": {},
   "outputs": [
    {
     "name": "stdout",
     "output_type": "stream",
     "text": [
      "[[10. ]\n",
      " [12. ]\n",
      " [13. ]\n",
      " [11. ]\n",
      " [10.5]\n",
      " [ 9. ]\n",
      " [ 7. ]\n",
      " [ 8.8]\n",
      " [13. ]] [400 380 370 390 395 410 430 412 370]\n"
     ]
    }
   ],
   "source": [
    "### change X from 1D array to 2D array\n",
    "### reshape(-1,1) with -1 is auto arrange the row dimension column 1\n",
    "\n",
    "X = np.array(X).reshape(-1,1)\n",
    "y = np.array(y)\n",
    "\n",
    "print(X, y)"
   ]
  },
  {
   "cell_type": "code",
   "execution_count": 47,
   "id": "f6f47f66-3b04-44f3-a6d4-d31f8a06d466",
   "metadata": {},
   "outputs": [],
   "source": [
    "model = LinearRegression()"
   ]
  },
  {
   "cell_type": "code",
   "execution_count": 48,
   "id": "8f526b01-9fdf-4c0a-be71-3bfd1d68080b",
   "metadata": {},
   "outputs": [
    {
     "data": {
      "text/html": [
       "<style>#sk-container-id-1 {color: black;background-color: white;}#sk-container-id-1 pre{padding: 0;}#sk-container-id-1 div.sk-toggleable {background-color: white;}#sk-container-id-1 label.sk-toggleable__label {cursor: pointer;display: block;width: 100%;margin-bottom: 0;padding: 0.3em;box-sizing: border-box;text-align: center;}#sk-container-id-1 label.sk-toggleable__label-arrow:before {content: \"▸\";float: left;margin-right: 0.25em;color: #696969;}#sk-container-id-1 label.sk-toggleable__label-arrow:hover:before {color: black;}#sk-container-id-1 div.sk-estimator:hover label.sk-toggleable__label-arrow:before {color: black;}#sk-container-id-1 div.sk-toggleable__content {max-height: 0;max-width: 0;overflow: hidden;text-align: left;background-color: #f0f8ff;}#sk-container-id-1 div.sk-toggleable__content pre {margin: 0.2em;color: black;border-radius: 0.25em;background-color: #f0f8ff;}#sk-container-id-1 input.sk-toggleable__control:checked~div.sk-toggleable__content {max-height: 200px;max-width: 100%;overflow: auto;}#sk-container-id-1 input.sk-toggleable__control:checked~label.sk-toggleable__label-arrow:before {content: \"▾\";}#sk-container-id-1 div.sk-estimator input.sk-toggleable__control:checked~label.sk-toggleable__label {background-color: #d4ebff;}#sk-container-id-1 div.sk-label input.sk-toggleable__control:checked~label.sk-toggleable__label {background-color: #d4ebff;}#sk-container-id-1 input.sk-hidden--visually {border: 0;clip: rect(1px 1px 1px 1px);clip: rect(1px, 1px, 1px, 1px);height: 1px;margin: -1px;overflow: hidden;padding: 0;position: absolute;width: 1px;}#sk-container-id-1 div.sk-estimator {font-family: monospace;background-color: #f0f8ff;border: 1px dotted black;border-radius: 0.25em;box-sizing: border-box;margin-bottom: 0.5em;}#sk-container-id-1 div.sk-estimator:hover {background-color: #d4ebff;}#sk-container-id-1 div.sk-parallel-item::after {content: \"\";width: 100%;border-bottom: 1px solid gray;flex-grow: 1;}#sk-container-id-1 div.sk-label:hover label.sk-toggleable__label {background-color: #d4ebff;}#sk-container-id-1 div.sk-serial::before {content: \"\";position: absolute;border-left: 1px solid gray;box-sizing: border-box;top: 0;bottom: 0;left: 50%;z-index: 0;}#sk-container-id-1 div.sk-serial {display: flex;flex-direction: column;align-items: center;background-color: white;padding-right: 0.2em;padding-left: 0.2em;position: relative;}#sk-container-id-1 div.sk-item {position: relative;z-index: 1;}#sk-container-id-1 div.sk-parallel {display: flex;align-items: stretch;justify-content: center;background-color: white;position: relative;}#sk-container-id-1 div.sk-item::before, #sk-container-id-1 div.sk-parallel-item::before {content: \"\";position: absolute;border-left: 1px solid gray;box-sizing: border-box;top: 0;bottom: 0;left: 50%;z-index: -1;}#sk-container-id-1 div.sk-parallel-item {display: flex;flex-direction: column;z-index: 1;position: relative;background-color: white;}#sk-container-id-1 div.sk-parallel-item:first-child::after {align-self: flex-end;width: 50%;}#sk-container-id-1 div.sk-parallel-item:last-child::after {align-self: flex-start;width: 50%;}#sk-container-id-1 div.sk-parallel-item:only-child::after {width: 0;}#sk-container-id-1 div.sk-dashed-wrapped {border: 1px dashed gray;margin: 0 0.4em 0.5em 0.4em;box-sizing: border-box;padding-bottom: 0.4em;background-color: white;}#sk-container-id-1 div.sk-label label {font-family: monospace;font-weight: bold;display: inline-block;line-height: 1.2em;}#sk-container-id-1 div.sk-label-container {text-align: center;}#sk-container-id-1 div.sk-container {/* jupyter's `normalize.less` sets `[hidden] { display: none; }` but bootstrap.min.css set `[hidden] { display: none !important; }` so we also need the `!important` here to be able to override the default hidden behavior on the sphinx rendered scikit-learn.org. See: https://github.com/scikit-learn/scikit-learn/issues/21755 */display: inline-block !important;position: relative;}#sk-container-id-1 div.sk-text-repr-fallback {display: none;}</style><div id=\"sk-container-id-1\" class=\"sk-top-container\"><div class=\"sk-text-repr-fallback\"><pre>LinearRegression()</pre><b>In a Jupyter environment, please rerun this cell to show the HTML representation or trust the notebook. <br />On GitHub, the HTML representation is unable to render, please try loading this page with nbviewer.org.</b></div><div class=\"sk-container\" hidden><div class=\"sk-item\"><div class=\"sk-estimator sk-toggleable\"><input class=\"sk-toggleable__control sk-hidden--visually\" id=\"sk-estimator-id-1\" type=\"checkbox\" checked><label for=\"sk-estimator-id-1\" class=\"sk-toggleable__label sk-toggleable__label-arrow\">LinearRegression</label><div class=\"sk-toggleable__content\"><pre>LinearRegression()</pre></div></div></div></div></div>"
      ],
      "text/plain": [
       "LinearRegression()"
      ]
     },
     "execution_count": 48,
     "metadata": {},
     "output_type": "execute_result"
    }
   ],
   "source": [
    "model.fit(X,y)"
   ]
  },
  {
   "cell_type": "code",
   "execution_count": 49,
   "id": "679eb112-9a51-48be-8af4-d65706d0089c",
   "metadata": {},
   "outputs": [
    {
     "data": {
      "text/plain": [
       "array([-10.])"
      ]
     },
     "execution_count": 49,
     "metadata": {},
     "output_type": "execute_result"
    }
   ],
   "source": [
    "model.coef_"
   ]
  },
  {
   "cell_type": "code",
   "execution_count": 50,
   "id": "164d6138-d162-4519-bcec-9864ab5984ae",
   "metadata": {},
   "outputs": [
    {
     "data": {
      "text/plain": [
       "500.0"
      ]
     },
     "execution_count": 50,
     "metadata": {},
     "output_type": "execute_result"
    }
   ],
   "source": [
    "model.intercept_"
   ]
  },
  {
   "cell_type": "code",
   "execution_count": 51,
   "id": "965d3d63-a19b-4e5b-a954-9003bbbe223a",
   "metadata": {},
   "outputs": [],
   "source": [
    "pricing['prediction'] = model.predict(X)"
   ]
  },
  {
   "cell_type": "code",
   "execution_count": 52,
   "id": "a2ea9aa3-cca0-4e5f-8763-0dd827134a92",
   "metadata": {},
   "outputs": [
    {
     "data": {
      "text/html": [
       "<div>\n",
       "<style scoped>\n",
       "    .dataframe tbody tr th:only-of-type {\n",
       "        vertical-align: middle;\n",
       "    }\n",
       "\n",
       "    .dataframe tbody tr th {\n",
       "        vertical-align: top;\n",
       "    }\n",
       "\n",
       "    .dataframe thead th {\n",
       "        text-align: right;\n",
       "    }\n",
       "</style>\n",
       "<table border=\"1\" class=\"dataframe\">\n",
       "  <thead>\n",
       "    <tr style=\"text-align: right;\">\n",
       "      <th></th>\n",
       "      <th>Demand</th>\n",
       "      <th>Price</th>\n",
       "      <th>prediction</th>\n",
       "    </tr>\n",
       "  </thead>\n",
       "  <tbody>\n",
       "    <tr>\n",
       "      <th>0</th>\n",
       "      <td>400</td>\n",
       "      <td>10.0</td>\n",
       "      <td>400.0</td>\n",
       "    </tr>\n",
       "    <tr>\n",
       "      <th>1</th>\n",
       "      <td>380</td>\n",
       "      <td>12.0</td>\n",
       "      <td>380.0</td>\n",
       "    </tr>\n",
       "    <tr>\n",
       "      <th>2</th>\n",
       "      <td>370</td>\n",
       "      <td>13.0</td>\n",
       "      <td>370.0</td>\n",
       "    </tr>\n",
       "    <tr>\n",
       "      <th>3</th>\n",
       "      <td>390</td>\n",
       "      <td>11.0</td>\n",
       "      <td>390.0</td>\n",
       "    </tr>\n",
       "    <tr>\n",
       "      <th>4</th>\n",
       "      <td>395</td>\n",
       "      <td>10.5</td>\n",
       "      <td>395.0</td>\n",
       "    </tr>\n",
       "    <tr>\n",
       "      <th>5</th>\n",
       "      <td>410</td>\n",
       "      <td>9.0</td>\n",
       "      <td>410.0</td>\n",
       "    </tr>\n",
       "    <tr>\n",
       "      <th>6</th>\n",
       "      <td>430</td>\n",
       "      <td>7.0</td>\n",
       "      <td>430.0</td>\n",
       "    </tr>\n",
       "    <tr>\n",
       "      <th>7</th>\n",
       "      <td>412</td>\n",
       "      <td>8.8</td>\n",
       "      <td>412.0</td>\n",
       "    </tr>\n",
       "    <tr>\n",
       "      <th>8</th>\n",
       "      <td>370</td>\n",
       "      <td>13.0</td>\n",
       "      <td>370.0</td>\n",
       "    </tr>\n",
       "  </tbody>\n",
       "</table>\n",
       "</div>"
      ],
      "text/plain": [
       "   Demand  Price  prediction\n",
       "0     400   10.0       400.0\n",
       "1     380   12.0       380.0\n",
       "2     370   13.0       370.0\n",
       "3     390   11.0       390.0\n",
       "4     395   10.5       395.0\n",
       "5     410    9.0       410.0\n",
       "6     430    7.0       430.0\n",
       "7     412    8.8       412.0\n",
       "8     370   13.0       370.0"
      ]
     },
     "execution_count": 52,
     "metadata": {},
     "output_type": "execute_result"
    }
   ],
   "source": [
    "pricing"
   ]
  },
  {
   "cell_type": "code",
   "execution_count": 53,
   "id": "31b2c8f3-1f38-4267-a1fc-c5af82649cf0",
   "metadata": {},
   "outputs": [
    {
     "data": {
      "text/plain": [
       "array([292, 233, 271, 157, 290, 231, 132, 170, 199, 193, 295, 221, 105,\n",
       "       204, 169, 220, 219, 187, 229, 132, 168, 154, 145, 140, 241, 112,\n",
       "       262, 228, 120, 177, 109, 296, 251, 156, 117, 232, 170, 255, 153,\n",
       "       219, 252, 158, 250, 257, 272, 124, 159, 255, 186, 212, 267, 258,\n",
       "       297, 154, 251, 274, 208, 128, 141, 294, 133, 170, 241, 292, 292,\n",
       "       198, 252, 191, 148, 297, 269, 143, 106, 257, 187, 264, 249, 205,\n",
       "       177, 201, 215, 272, 190, 128, 233, 240, 233, 134, 129, 229, 247,\n",
       "       279, 241, 120, 130, 278, 233, 116, 199, 112])"
      ]
     },
     "execution_count": 53,
     "metadata": {},
     "output_type": "execute_result"
    }
   ],
   "source": [
    "new_X = np.random.randint(100,300,100)\n",
    "new_X"
   ]
  },
  {
   "cell_type": "code",
   "execution_count": 54,
   "id": "244523bf-e348-4e38-b9d9-8b614ef5bfe3",
   "metadata": {},
   "outputs": [],
   "source": [
    "new_X_reshape = new_X.reshape(-1,1)\n",
    "new_y = model.predict(new_X_reshape)"
   ]
  },
  {
   "cell_type": "code",
   "execution_count": 55,
   "id": "1f8a760b-debf-412a-ba04-1211585aa3e5",
   "metadata": {},
   "outputs": [
    {
     "data": {
      "text/plain": [
       "array([-2420., -1830., -2210., -1070., -2400., -1810.,  -820., -1200.,\n",
       "       -1490., -1430., -2450., -1710.,  -550., -1540., -1190., -1700.,\n",
       "       -1690., -1370., -1790.,  -820., -1180., -1040.,  -950.,  -900.,\n",
       "       -1910.,  -620., -2120., -1780.,  -700., -1270.,  -590., -2460.,\n",
       "       -2010., -1060.,  -670., -1820., -1200., -2050., -1030., -1690.,\n",
       "       -2020., -1080., -2000., -2070., -2220.,  -740., -1090., -2050.,\n",
       "       -1360., -1620., -2170., -2080., -2470., -1040., -2010., -2240.,\n",
       "       -1580.,  -780.,  -910., -2440.,  -830., -1200., -1910., -2420.,\n",
       "       -2420., -1480., -2020., -1410.,  -980., -2470., -2190.,  -930.,\n",
       "        -560., -2070., -1370., -2140., -1990., -1550., -1270., -1510.,\n",
       "       -1650., -2220., -1400.,  -780., -1830., -1900., -1830.,  -840.,\n",
       "        -790., -1790., -1970., -2290., -1910.,  -700.,  -800., -2280.,\n",
       "       -1830.,  -660., -1490.,  -620.])"
      ]
     },
     "execution_count": 55,
     "metadata": {},
     "output_type": "execute_result"
    }
   ],
   "source": [
    "new_y"
   ]
  },
  {
   "cell_type": "code",
   "execution_count": 56,
   "id": "4d01b554-ef93-4559-b0f0-58382129457f",
   "metadata": {},
   "outputs": [
    {
     "data": {
      "text/plain": [
       "<Axes: >"
      ]
     },
     "execution_count": 56,
     "metadata": {},
     "output_type": "execute_result"
    },
    {
     "data": {
      "image/png": "[encoded data removed]",
      "text/plain": [
       "<Figure size 640x480 with 1 Axes>"
      ]
     },
     "metadata": {},
     "output_type": "display_data"
    }
   ],
   "source": [
    "sns.regplot(x=new_X, y=new_y,color='b')"
   ]
  },
  {
   "cell_type": "markdown",
   "id": "44242542-cf55-4c3c-b0a1-1b08b4c37be1",
   "metadata": {
    "jp-MarkdownHeadingCollapsed": true
   },
   "source": [
    "## Distributions"
   ]
  },
  {
   "cell_type": "code",
   "execution_count": 58,
   "id": "adcffc4f-ff21-460f-b488-495ce1b41776",
   "metadata": {},
   "outputs": [],
   "source": [
    "import scipy.stats as st\n",
    "from scipy.stats import kstest"
   ]
  },
  {
   "cell_type": "code",
   "execution_count": 59,
   "id": "69e9d1f1-a229-4d82-b99a-a4684eec0226",
   "metadata": {},
   "outputs": [],
   "source": [
    "skus = pd.read_csv('sku_distributions.csv')"
   ]
  },
  {
   "cell_type": "code",
   "execution_count": 60,
   "id": "d5ddb5e7-023d-4311-ae14-0d231a4e594e",
   "metadata": {},
   "outputs": [
    {
     "data": {
      "text/html": [
       "<div>\n",
       "<style scoped>\n",
       "    .dataframe tbody tr th:only-of-type {\n",
       "        vertical-align: middle;\n",
       "    }\n",
       "\n",
       "    .dataframe tbody tr th {\n",
       "        vertical-align: top;\n",
       "    }\n",
       "\n",
       "    .dataframe thead th {\n",
       "        text-align: right;\n",
       "    }\n",
       "</style>\n",
       "<table border=\"1\" class=\"dataframe\">\n",
       "  <thead>\n",
       "    <tr style=\"text-align: right;\">\n",
       "      <th></th>\n",
       "      <th>day</th>\n",
       "      <th>grape_juice</th>\n",
       "      <th>cantalop_juice</th>\n",
       "      <th>apple_juice</th>\n",
       "    </tr>\n",
       "  </thead>\n",
       "  <tbody>\n",
       "    <tr>\n",
       "      <th>0</th>\n",
       "      <td>1</td>\n",
       "      <td>0</td>\n",
       "      <td>10</td>\n",
       "      <td>96</td>\n",
       "    </tr>\n",
       "    <tr>\n",
       "      <th>1</th>\n",
       "      <td>2</td>\n",
       "      <td>3</td>\n",
       "      <td>10</td>\n",
       "      <td>92</td>\n",
       "    </tr>\n",
       "    <tr>\n",
       "      <th>2</th>\n",
       "      <td>3</td>\n",
       "      <td>1</td>\n",
       "      <td>9</td>\n",
       "      <td>84</td>\n",
       "    </tr>\n",
       "    <tr>\n",
       "      <th>3</th>\n",
       "      <td>4</td>\n",
       "      <td>2</td>\n",
       "      <td>10</td>\n",
       "      <td>113</td>\n",
       "    </tr>\n",
       "    <tr>\n",
       "      <th>4</th>\n",
       "      <td>5</td>\n",
       "      <td>1</td>\n",
       "      <td>10</td>\n",
       "      <td>65</td>\n",
       "    </tr>\n",
       "  </tbody>\n",
       "</table>\n",
       "</div>"
      ],
      "text/plain": [
       "   day  grape_juice  cantalop_juice  apple_juice\n",
       "0    1            0              10           96\n",
       "1    2            3              10           92\n",
       "2    3            1               9           84\n",
       "3    4            2              10          113\n",
       "4    5            1              10           65"
      ]
     },
     "execution_count": 60,
     "metadata": {},
     "output_type": "execute_result"
    }
   ],
   "source": [
    "skus.head()"
   ]
  },
  {
   "cell_type": "code",
   "execution_count": 61,
   "id": "82c7a94a-fa03-4eb3-85fa-9d534365b3f5",
   "metadata": {},
   "outputs": [],
   "source": [
    "apple_juice = np.array(skus['apple_juice'])"
   ]
  },
  {
   "cell_type": "code",
   "execution_count": 62,
   "id": "acacab4f-97a3-420b-b5a4-3752657f255a",
   "metadata": {},
   "outputs": [
    {
     "data": {
      "text/plain": [
       "100.73873873873873"
      ]
     },
     "execution_count": 62,
     "metadata": {},
     "output_type": "execute_result"
    }
   ],
   "source": [
    "mean = apple_juice.mean()\n",
    "mean"
   ]
  },
  {
   "cell_type": "code",
   "execution_count": 63,
   "id": "414759c6-0c03-4563-b139-112101e7bd23",
   "metadata": {},
   "outputs": [
    {
     "data": {
      "text/plain": [
       "20.190256493370235"
      ]
     },
     "execution_count": 63,
     "metadata": {},
     "output_type": "execute_result"
    }
   ],
   "source": [
    "sd = apple_juice.std()\n",
    "sd"
   ]
  },
  {
   "cell_type": "code",
   "execution_count": 64,
   "id": "7132c7dd-23dc-45ec-8c3e-ec316ba62472",
   "metadata": {},
   "outputs": [
    {
     "data": {
      "text/plain": [
       "KstestResult(statistic=0.04011911785947586, pvalue=0.6423077067552097, statistic_location=100, statistic_sign=1)"
      ]
     },
     "execution_count": 64,
     "metadata": {},
     "output_type": "execute_result"
    }
   ],
   "source": [
    "kstest(apple_juice,'norm',args=(mean,sd))"
   ]
  },
  {
   "cell_type": "code",
   "execution_count": 65,
   "id": "4e41b197-6d83-457e-ad8f-cbedfd03ef89",
   "metadata": {},
   "outputs": [],
   "source": [
    "distribution_name = ['norm','exponweib','weibull_max','weibull_min','pareto','genextreme']"
   ]
  },
  {
   "cell_type": "code",
   "execution_count": 66,
   "id": "2f228b43-37f6-497c-9409-51c09c3a580b",
   "metadata": {},
   "outputs": [],
   "source": [
    "result = []\n",
    "parameters = dict({})"
   ]
  },
  {
   "cell_type": "code",
   "execution_count": 67,
   "id": "806bca65-4915-4130-b1b6-a2a7007ee1ba",
   "metadata": {},
   "outputs": [],
   "source": [
    "norm_parameter = getattr(st, 'norm')"
   ]
  },
  {
   "cell_type": "code",
   "execution_count": 68,
   "id": "ea94c736-fafc-4de5-bcd4-31c0310e06ad",
   "metadata": {},
   "outputs": [
    {
     "data": {
      "text/plain": [
       "(100.73873873873873, 20.190256493370235)"
      ]
     },
     "execution_count": 68,
     "metadata": {},
     "output_type": "execute_result"
    }
   ],
   "source": [
    "norm_parameter.fit(apple_juice)"
   ]
  },
  {
   "cell_type": "code",
   "execution_count": 69,
   "id": "1b83f9d2-10f2-43c6-bea9-ae26888d4536",
   "metadata": {},
   "outputs": [
    {
     "name": "stdout",
     "output_type": "stream",
     "text": [
      "the p-value for norm distribution is 0.6423077067552097\n",
      "the p-value for exponweib distribution is 1.1842591378527938e-172\n",
      "the p-value for weibull_max distribution is 2.2685136143704807e-247\n",
      "the p-value for weibull_min distribution is 0.34810501680216566\n",
      "the p-value for pareto distribution is 1.6172750367237283e-31\n",
      "the p-value for genextreme distribution is 0.26068355451614744\n"
     ]
    },
    {
     "name": "stderr",
     "output_type": "stream",
     "text": [
      "C:\\Users\\thanh\\anaconda3\\Lib\\site-packages\\scipy\\stats\\_continuous_distns.py:2008: RuntimeWarning: invalid value encountered in add\n",
      "  logp = (np.log(a) + np.log(c) + sc.xlogy(a - 1.0, exm1c) +\n"
     ]
    }
   ],
   "source": [
    "for i in distribution_name:\n",
    "    parameters = getattr(st, i)\n",
    "    fitting = parameters.fit(apple_juice)\n",
    "    test = kstest(apple_juice, i, args=fitting)\n",
    "    result.append([i,test])\n",
    "    print(f'the p-value for {i} distribution is {str(test[1])}')"
   ]
  }
 ],
 "metadata": {
  "kernelspec": {
   "display_name": "Python 3 (ipykernel)",
   "language": "python",
   "name": "python3"
  },
  "language_info": {
   "codemirror_mode": {
    "name": "ipython",
    "version": 3
   },
   "file_extension": ".py",
   "mimetype": "text/x-python",
   "name": "python",
   "nbconvert_exporter": "python",
   "pygments_lexer": "ipython3",
   "version": "3.11.7"
  }
 },
 "nbformat": 4,
 "nbformat_minor": 5
}
